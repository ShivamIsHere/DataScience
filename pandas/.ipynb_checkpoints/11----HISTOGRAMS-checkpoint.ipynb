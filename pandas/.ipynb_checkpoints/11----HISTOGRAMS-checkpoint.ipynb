{
 "cells": [
  {
   "cell_type": "code",
   "execution_count": 1,
   "id": "07cb9f0f",
   "metadata": {},
   "outputs": [],
   "source": [
    "import matplotlib.pyplot as plt\n",
    "%matplotlib inline"
   ]
  },
  {
   "cell_type": "code",
   "execution_count": 3,
   "id": "13b838d7",
   "metadata": {},
   "outputs": [
    {
     "data": {
      "text/plain": [
       "(array([3., 0., 2., 1., 2., 2., 1., 1., 0., 1.]),\n",
       " array([ 99. , 115.1, 131.2, 147.3, 163.4, 179.5, 195.6, 211.7, 227.8,\n",
       "        243.9, 260. ]),\n",
       " <BarContainer object of 10 artists>)"
      ]
     },
     "execution_count": 3,
     "metadata": {},
     "output_type": "execute_result"
    },
    {
     "data": {
      "image/png": "[encoded data removed]",
      "text/plain": [
       "<Figure size 432x288 with 1 Axes>"
      ]
     },
     "metadata": {
      "needs_background": "light"
     },
     "output_type": "display_data"
    }
   ],
   "source": [
    "blood_sugar=[110,99,146,135,170,200,220,180,195,115,260,155,169]\n",
    "plt.hist(blood_sugar)     #by default bin is 10(0-10=11)\n",
    "\n",
    "\n",
    "\n",
    "\n",
    "# bins->{99,115.1,131.2,147.3,163.4,179.5.....260}\n",
    "# check out the output"
   ]
  },
  {
   "cell_type": "code",
   "execution_count": 4,
   "id": "cbc48159",
   "metadata": {},
   "outputs": [
    {
     "data": {
      "text/plain": [
       "(array([5., 6., 2.]),\n",
       " array([ 99.        , 152.66666667, 206.33333333, 260.        ]),\n",
       " <BarContainer object of 3 artists>)"
      ]
     },
     "execution_count": 4,
     "metadata": {},
     "output_type": "execute_result"
    },
    {
     "data": {
      "image/png": "[encoded data removed]",
      "text/plain": [
       "<Figure size 432x288 with 1 Axes>"
      ]
     },
     "metadata": {
      "needs_background": "light"
     },
     "output_type": "display_data"
    }
   ],
   "source": [
    "blood_sugar=[110,99,146,135,170,200,220,180,195,115,260,155,169]\n",
    "plt.hist(blood_sugar,bins=3)   #by default bin is 10(0-10=11)"
   ]
  },
  {
   "cell_type": "code",
   "execution_count": 10,
   "id": "1e5cd4dd",
   "metadata": {},
   "outputs": [
    {
     "data": {
      "text/plain": [
       "(array([5., 6., 2.]),\n",
       " array([ 99.        , 152.66666667, 206.33333333, 260.        ]),\n",
       " <BarContainer object of 3 artists>)"
      ]
     },
     "execution_count": 10,
     "metadata": {},
     "output_type": "execute_result"
    },
    {
     "data": {
      "image/png": "[encoded data removed]",
      "text/plain": [
       "<Figure size 432x288 with 1 Axes>"
      ]
     },
     "metadata": {
      "needs_background": "light"
     },
     "output_type": "display_data"
    }
   ],
   "source": [
    "blood_sugar=[110,99,146,135,170,200,220,180,195,115,260,155,169]\n",
    "plt.hist(blood_sugar,bins=3,rwidth=.95) #rwidth is relative width of bar compare to bin size"
   ]
  },
  {
   "cell_type": "code",
   "execution_count": 11,
   "id": "e8bc86f0",
   "metadata": {},
   "outputs": [
    {
     "data": {
      "text/plain": [
       "(array([3., 2., 5., 2.]),\n",
       " array([ 80, 120, 150, 200, 250]),\n",
       " <BarContainer object of 4 artists>)"
      ]
     },
     "execution_count": 11,
     "metadata": {},
     "output_type": "execute_result"
    },
    {
     "data": {
      "image/png": "[encoded data removed]",
      "text/plain": [
       "<Figure size 432x288 with 1 Axes>"
      ]
     },
     "metadata": {
      "needs_background": "light"
     },
     "output_type": "display_data"
    }
   ],
   "source": [
    "blood_sugar=[110,99,146,135,170,200,220,180,195,115,260,155,169]\n",
    "plt.hist(blood_sugar,bins=[80,120,150,200,250],rwidth=.95) #we can even fix the bin range"
   ]
  },
  {
   "cell_type": "code",
   "execution_count": 12,
   "id": "0fa31f74",
   "metadata": {},
   "outputs": [
    {
     "data": {
      "text/plain": [
       "(array([3., 2., 5., 2.]),\n",
       " array([ 80, 120, 150, 200, 250]),\n",
       " <BarContainer object of 4 artists>)"
      ]
     },
     "execution_count": 12,
     "metadata": {},
     "output_type": "execute_result"
    },
    {
     "data": {
      "image/png": "[encoded data removed]",
      "text/plain": [
       "<Figure size 432x288 with 1 Axes>"
      ]
     },
     "metadata": {
      "needs_background": "light"
     },
     "output_type": "display_data"
    }
   ],
   "source": [
    "blood_sugar=[110,99,146,135,170,200,220,180,195,115,260,155,169]\n",
    "plt.hist(blood_sugar,bins=[80,120,150,200,250],rwidth=.95,color='g')#we can even change the colour"
   ]
  },
  {
   "cell_type": "code",
   "execution_count": 13,
   "id": "07187e50",
   "metadata": {},
   "outputs": [
    {
     "data": {
      "text/plain": [
       "(array([3., 2., 5., 2.]),\n",
       " array([ 80, 120, 150, 200, 250]),\n",
       " [<matplotlib.patches.Polygon at 0x19692a58310>])"
      ]
     },
     "execution_count": 13,
     "metadata": {},
     "output_type": "execute_result"
    },
    {
     "data": {
      "image/png": "[encoded data removed]",
      "text/plain": [
       "<Figure size 432x288 with 1 Axes>"
      ]
     },
     "metadata": {
      "needs_background": "light"
     },
     "output_type": "display_data"
    }
   ],
   "source": [
    "blood_sugar=[110,99,146,135,170,200,220,180,195,115,260,155,169]\n",
    "plt.hist(blood_sugar,bins=[80,120,150,200,250],rwidth=.95,color='g',histtype='step') #we can change the histogram type"
   ]
  },
  {
   "cell_type": "code",
   "execution_count": 14,
   "id": "2149ae94",
   "metadata": {},
   "outputs": [
    {
     "data": {
      "text/plain": [
       "(array([[6., 3., 3., 1.],\n",
       "        [2., 2., 6., 3.]]),\n",
       " array([  5,  25,  50,  75, 100]),\n",
       " <a list of 2 BarContainer objects>)"
      ]
     },
     "execution_count": 14,
     "metadata": {},
     "output_type": "execute_result"
    },
    {
     "data": {
      "image/png": "[encoded data removed]",
      "text/plain": [
       "<Figure size 432x288 with 1 Axes>"
      ]
     },
     "metadata": {
      "needs_background": "light"
     },
     "output_type": "display_data"
    }
   ],
   "source": [
    "blood_sugar_men=[10,9,46,35,70,20,22,18,95,15,26,55,69]\n",
    "blood_sugar_women=[50,91,62,50,17,62,52,81,35,75,66,15,39]\n",
    "plt.hist([blood_sugar_men,blood_sugar_women],bins=[5,25,50,75,100],rwidth=.95,color=['g','r'])\n",
    "# we can represent two different data side by side of different colour"
   ]
  },
  {
   "cell_type": "code",
   "execution_count": 16,
   "id": "40f3997b",
   "metadata": {},
   "outputs": [
    {
     "data": {
      "text/plain": [
       "<matplotlib.legend.Legend at 0x19692b471c0>"
      ]
     },
     "execution_count": 16,
     "metadata": {},
     "output_type": "execute_result"
    },
    {
     "data": {
      "image/png": "[encoded data removed]",
      "text/plain": [
       "<Figure size 432x288 with 1 Axes>"
      ]
     },
     "metadata": {
      "needs_background": "light"
     },
     "output_type": "display_data"
    }
   ],
   "source": [
    "blood_sugar_men=[10,9,46,35,70,20,22,18,95,15,26,55,69]\n",
    "blood_sugar_women=[50,91,62,50,17,62,52,81,35,75,66,15,39]\n",
    "plt.hist([blood_sugar_men,blood_sugar_women],bins=[5,25,50,75,100],rwidth=.95,color=['g','r'],label=['MEN','WOMEN'])\n",
    "plt.legend() #to label the data"
   ]
  },
  {
   "cell_type": "code",
   "execution_count": 17,
   "id": "06a5fb01",
   "metadata": {},
   "outputs": [
    {
     "data": {
      "text/plain": [
       "<matplotlib.legend.Legend at 0x19692b4d7f0>"
      ]
     },
     "execution_count": 17,
     "metadata": {},
     "output_type": "execute_result"
    },
    {
     "data": {
      "image/png": "[encoded data removed]",
      "text/plain": [
       "<Figure size 432x288 with 1 Axes>"
      ]
     },
     "metadata": {
      "needs_background": "light"
     },
     "output_type": "display_data"
    }
   ],
   "source": [
    "blood_sugar_men=[10,9,46,35,70,20,22,18,95,15,26,55,69]\n",
    "blood_sugar_women=[50,91,62,50,17,62,52,81,35,75,66,15,39]\n",
    "\n",
    "plt.xlabel('sugar range')\n",
    "plt.ylabel('Total no:of patients')\n",
    "plt.title('Blood Sugar analysis')\n",
    "\n",
    "\n",
    "plt.hist([blood_sugar_men,blood_sugar_women],bins=[5,25,50,75,100],rwidth=.95,color=['g','r'],label=['MEN','WOMEN'])\n",
    "plt.legend()"
   ]
  },
  {
   "cell_type": "code",
   "execution_count": 18,
   "id": "934e94dc",
   "metadata": {},
   "outputs": [
    {
     "data": {
      "text/plain": [
       "<matplotlib.legend.Legend at 0x19692b55df0>"
      ]
     },
     "execution_count": 18,
     "metadata": {},
     "output_type": "execute_result"
    },
    {
     "data": {
      "image/png": "[encoded data removed]",
      "text/plain": [
       "<Figure size 432x288 with 1 Axes>"
      ]
     },
     "metadata": {
      "needs_background": "light"
     },
     "output_type": "display_data"
    }
   ],
   "source": [
    "plt.hist([blood_sugar_men,blood_sugar_women],bins=[5,25,50,75,100],rwidth=.95,color=['g','r'],label=['MEN','WOMEN'],orientation='horizontal')\n",
    "plt.legend()  #orientation of data"
   ]
  },
  {
   "cell_type": "code",
   "execution_count": 19,
   "id": "0f770412",
   "metadata": {},
   "outputs": [
    {
     "data": {
      "text/plain": [
       "<matplotlib.legend.Legend at 0x19692c432b0>"
      ]
     },
     "execution_count": 19,
     "metadata": {},
     "output_type": "execute_result"
    },
    {
     "data": {
      "image/png": "[encoded data removed]",
      "text/plain": [
       "<Figure size 432x288 with 1 Axes>"
      ]
     },
     "metadata": {
      "needs_background": "light"
     },
     "output_type": "display_data"
    }
   ],
   "source": [
    "blood_sugar_men=[10,9,46,35,70,20,22,18,95,15,26,55,69]\n",
    "blood_sugar_women=[50,91,62,50,17,62,52,81,35,75,66,15,39]\n",
    "\n",
    "plt.xlabel('sugar range')\n",
    "plt.ylabel('Total no:of patients')\n",
    "plt.title('Blood Sugar analysis')\n",
    "\n",
    "\n",
    "plt.hist([blood_sugar_men,blood_sugar_women],bins=[5,25,50,75,100],rwidth=.95,color=['g','r'],label=['MEN','WOMEN'],orientation='horizontal')\n",
    "plt.legend()  "
   ]
  },
  {
   "cell_type": "code",
   "execution_count": null,
   "id": "dec9a134",
   "metadata": {},
   "outputs": [],
   "source": []
  }
 ],
 "metadata": {
  "kernelspec": {
   "display_name": "Python 3 (ipykernel)",
   "language": "python",
   "name": "python3"
  },
  "language_info": {
   "codemirror_mode": {
    "name": "ipython",
    "version": 3
   },
   "file_extension": ".py",
   "mimetype": "text/x-python",
   "name": "python",
   "nbconvert_exporter": "python",
   "pygments_lexer": "ipython3",
   "version": "3.9.12"
  }
 },
 "nbformat": 4,
 "nbformat_minor": 5
}
