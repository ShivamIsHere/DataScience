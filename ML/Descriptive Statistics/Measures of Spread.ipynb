{
 "cells": [
  {
   "cell_type": "code",
   "execution_count": 1,
   "id": "59bfe7ce",
   "metadata": {},
   "outputs": [
    {
     "name": "stderr",
     "output_type": "stream",
     "text": [
      "C:\\ProgramData\\Anaconda3\\lib\\site-packages\\scipy\\__init__.py:146: UserWarning: A NumPy version >=1.16.5 and <1.23.0 is required for this version of SciPy (detected version 1.23.1\n",
      "  warnings.warn(f\"A NumPy version >={np_minversion} and <{np_maxversion}\"\n"
     ]
    }
   ],
   "source": [
    "import seaborn as sns\n",
    "import matplotlib.pyplot as plt\n",
    "import numpy as np\n",
    "import pandas as pd"
   ]
  },
  {
   "cell_type": "code",
   "execution_count": 3,
   "id": "5e9cc8cb",
   "metadata": {},
   "outputs": [],
   "source": [
    "data = sns.load_dataset('iris')\n"
   ]
  },
  {
   "cell_type": "code",
   "execution_count": 4,
   "id": "f610f4dc",
   "metadata": {},
   "outputs": [
    {
     "data": {
      "text/html": [
       "<div>\n",
       "<style scoped>\n",
       "    .dataframe tbody tr th:only-of-type {\n",
       "        vertical-align: middle;\n",
       "    }\n",
       "\n",
       "    .dataframe tbody tr th {\n",
       "        vertical-align: top;\n",
       "    }\n",
       "\n",
       "    .dataframe thead th {\n",
       "        text-align: right;\n",
       "    }\n",
       "</style>\n",
       "<table border=\"1\" class=\"dataframe\">\n",
       "  <thead>\n",
       "    <tr style=\"text-align: right;\">\n",
       "      <th></th>\n",
       "      <th>sepal_length</th>\n",
       "      <th>sepal_width</th>\n",
       "      <th>petal_length</th>\n",
       "      <th>petal_width</th>\n",
       "      <th>species</th>\n",
       "    </tr>\n",
       "  </thead>\n",
       "  <tbody>\n",
       "    <tr>\n",
       "      <th>0</th>\n",
       "      <td>5.1</td>\n",
       "      <td>3.5</td>\n",
       "      <td>1.4</td>\n",
       "      <td>0.2</td>\n",
       "      <td>setosa</td>\n",
       "    </tr>\n",
       "    <tr>\n",
       "      <th>1</th>\n",
       "      <td>4.9</td>\n",
       "      <td>3.0</td>\n",
       "      <td>1.4</td>\n",
       "      <td>0.2</td>\n",
       "      <td>setosa</td>\n",
       "    </tr>\n",
       "    <tr>\n",
       "      <th>2</th>\n",
       "      <td>4.7</td>\n",
       "      <td>3.2</td>\n",
       "      <td>1.3</td>\n",
       "      <td>0.2</td>\n",
       "      <td>setosa</td>\n",
       "    </tr>\n",
       "    <tr>\n",
       "      <th>3</th>\n",
       "      <td>4.6</td>\n",
       "      <td>3.1</td>\n",
       "      <td>1.5</td>\n",
       "      <td>0.2</td>\n",
       "      <td>setosa</td>\n",
       "    </tr>\n",
       "    <tr>\n",
       "      <th>4</th>\n",
       "      <td>5.0</td>\n",
       "      <td>3.6</td>\n",
       "      <td>1.4</td>\n",
       "      <td>0.2</td>\n",
       "      <td>setosa</td>\n",
       "    </tr>\n",
       "  </tbody>\n",
       "</table>\n",
       "</div>"
      ],
      "text/plain": [
       "   sepal_length  sepal_width  petal_length  petal_width species\n",
       "0           5.1          3.5           1.4          0.2  setosa\n",
       "1           4.9          3.0           1.4          0.2  setosa\n",
       "2           4.7          3.2           1.3          0.2  setosa\n",
       "3           4.6          3.1           1.5          0.2  setosa\n",
       "4           5.0          3.6           1.4          0.2  setosa"
      ]
     },
     "execution_count": 4,
     "metadata": {},
     "output_type": "execute_result"
    }
   ],
   "source": [
    "data.head()"
   ]
  },
  {
   "cell_type": "code",
   "execution_count": 5,
   "id": "c8c775c0",
   "metadata": {},
   "outputs": [],
   "source": [
    "data.rename(columns={'sepal_length':'SL','sepal_width':'SW','petal_length':'PL','petal_width':'PW'},inplace=True)"
   ]
  },
  {
   "cell_type": "code",
   "execution_count": 6,
   "id": "34caf862",
   "metadata": {},
   "outputs": [],
   "source": [
    "iris_setosa=data[data['species']=='setosa']\n",
    "iris_versicolor=data[data['species']=='versicolor']\n",
    "iris_virginica=data[data['species']=='virginica']\n",
    "\n",
    "#here we are creating 3different dataframe and storing values of previous data"
   ]
  },
  {
   "cell_type": "code",
   "execution_count": 7,
   "id": "c0cba79a",
   "metadata": {},
   "outputs": [],
   "source": [
    "#measure of spread\n",
    "\n",
    "\n",
    "# 1-->Range\n",
    "# 2-->Interquartile range\n",
    "# 3-->varience\n",
    "# 4-->Standard deviation"
   ]
  },
  {
   "cell_type": "code",
   "execution_count": 9,
   "id": "4eea61d5",
   "metadata": {},
   "outputs": [
    {
     "name": "stdout",
     "output_type": "stream",
     "text": [
      "0.8999999999999999\n"
     ]
    }
   ],
   "source": [
    "#Range-->difference btw largest and smallest point \n",
    "r=np.max(iris_setosa['PL'])-np.min(iris_setosa['PL'])\n",
    "print(r)"
   ]
  },
  {
   "cell_type": "code",
   "execution_count": 10,
   "id": "36277787",
   "metadata": {},
   "outputs": [],
   "source": [
    "#percentiles"
   ]
  },
  {
   "cell_type": "code",
   "execution_count": 15,
   "id": "b45bb52c",
   "metadata": {},
   "outputs": [
    {
     "name": "stdout",
     "output_type": "stream",
     "text": [
      "3.25\n",
      "9.1\n"
     ]
    }
   ],
   "source": [
    "myList=[1,2,3,4,5,6,7,8,9,10]\n",
    "\n",
    "print(np.percentile(myList,25))\n",
    "print(np.percentile(myList,90))\n",
    "\n",
    "#25%of data is roughly less than 3.25\n",
    "#90%data is less than 9.1"
   ]
  },
  {
   "cell_type": "code",
   "execution_count": 17,
   "id": "09ec56d7",
   "metadata": {},
   "outputs": [
    {
     "data": {
      "text/plain": [
       "1.7"
      ]
     },
     "execution_count": 17,
     "metadata": {},
     "output_type": "execute_result"
    }
   ],
   "source": [
    "np.percentile(iris_setosa['PL'],95)\n",
    "#95%data is less than 1.7"
   ]
  },
  {
   "cell_type": "code",
   "execution_count": 18,
   "id": "52a2ac2c",
   "metadata": {},
   "outputs": [],
   "source": [
    "#Quartiles \n",
    "#it divides list of numbers into  quarter\n"
   ]
  },
  {
   "cell_type": "code",
   "execution_count": 21,
   "id": "c0e4956e",
   "metadata": {},
   "outputs": [
    {
     "name": "stdout",
     "output_type": "stream",
     "text": [
      "1.4\n",
      "1.5\n",
      "1.5750000000000002\n",
      "1.9\n"
     ]
    }
   ],
   "source": [
    "print(np.percentile(iris_setosa['PL'],25))\n",
    "print(np.percentile(iris_setosa['PL'],50))\n",
    "print(np.percentile(iris_setosa['PL'],75))\n",
    "print(np.percentile(iris_setosa['PL'],100))"
   ]
  },
  {
   "cell_type": "code",
   "execution_count": 22,
   "id": "f4e15455",
   "metadata": {},
   "outputs": [],
   "source": [
    "#interquartile Range\n",
    "# variation between upper quartile to lower quartile\n",
    "# =Q3-Q2"
   ]
  },
  {
   "cell_type": "code",
   "execution_count": 23,
   "id": "054b37bf",
   "metadata": {},
   "outputs": [
    {
     "name": "stdout",
     "output_type": "stream",
     "text": [
      "The Inter Quartile Range is 0.17500000000000027\n"
     ]
    }
   ],
   "source": [
    "iqr=np.percentile(iris_setosa['PL'],75)-np.percentile(iris_setosa['PL'],25)\n",
    "print(\"The Inter Quartile Range is\",iqr)"
   ]
  },
  {
   "cell_type": "code",
   "execution_count": 24,
   "id": "45b25b72",
   "metadata": {},
   "outputs": [],
   "source": [
    "#Mean Absolute Deviation\n",
    "\n",
    "# example = 2,5,1,6,7,3,11\n",
    "# the mean is 5\n",
    "# (|2-5|+|5-5|+|1-5|+|6-5|+|7-5|+|3-5|+|11-5|)/7\n",
    "# 3+0+4+1+2+2+6=18/7=2.5"
   ]
  },
  {
   "cell_type": "code",
   "execution_count": 25,
   "id": "ecb722da",
   "metadata": {},
   "outputs": [],
   "source": [
    "#Varience\n",
    "\n",
    "# example = 2,5,1,6,7,3,11\n",
    "# the mean is 5\n",
    "# (|2-5|^2+|5-5|^2+|1-5|^2+|6-5|^2+|7-5|^2+|3-5|^2+|11-5|^2)/7\n",
    "# 9+0+16+1+4+4+36=70/7=10"
   ]
  },
  {
   "cell_type": "code",
   "execution_count": 26,
   "id": "ae3a18e4",
   "metadata": {},
   "outputs": [
    {
     "data": {
      "text/plain": [
       "0.02955600000000001"
      ]
     },
     "execution_count": 26,
     "metadata": {},
     "output_type": "execute_result"
    }
   ],
   "source": [
    "np.var(iris_setosa[\"PL\"])"
   ]
  },
  {
   "cell_type": "code",
   "execution_count": 27,
   "id": "4cf4948e",
   "metadata": {},
   "outputs": [],
   "source": [
    "#Varience\n",
    "\n",
    "# example = 2,5,1,6,7,3,11\n",
    "# the mean is 5\n",
    "# (|2-5|^2+|5-5|^2+|1-5|^2+|6-5|^2+|7-5|^2+|3-5|^2+|11-5|^2)/7\n",
    "# 9+0+16+1+4+4+36=70/7=10\n",
    "\n",
    "# sd=sqrt(10)=3.16"
   ]
  },
  {
   "cell_type": "code",
   "execution_count": 28,
   "id": "7239dbe0",
   "metadata": {},
   "outputs": [
    {
     "data": {
      "text/plain": [
       "0.17191858538273286"
      ]
     },
     "execution_count": 28,
     "metadata": {},
     "output_type": "execute_result"
    }
   ],
   "source": [
    "np.std(iris_setosa[\"PL\"])"
   ]
  },
  {
   "cell_type": "code",
   "execution_count": 30,
   "id": "f65b8407",
   "metadata": {},
   "outputs": [],
   "source": [
    "#Median Absolute Deviation\n",
    "\n",
    "# example = 2,5,1,6,7,3,11\n",
    "# the median is 5\n",
    "# (|2-5|+|5-5|+|1-5|+|6-5|+|7-5|+|3-5|+|11-5|)/7\n",
    "# 3,0,4,1,2,2,6\n",
    "# 0,1,2,2,3,4,6(sort)\n",
    "# median absolute deviation(middle term=2)"
   ]
  },
  {
   "cell_type": "code",
   "execution_count": 38,
   "id": "84fed2bf",
   "metadata": {},
   "outputs": [
    {
     "data": {
      "text/plain": [
       "2.0"
      ]
     },
     "execution_count": 38,
     "metadata": {},
     "output_type": "execute_result"
    }
   ],
   "source": [
    "from statsmodels import robust\n",
    "robust.mad(np.array([2,5,1,6,7,3,11]))"
   ]
  },
  {
   "cell_type": "code",
   "execution_count": null,
   "id": "566078d7",
   "metadata": {},
   "outputs": [],
   "source": []
  }
 ],
 "metadata": {
  "kernelspec": {
   "display_name": "Python 3 (ipykernel)",
   "language": "python",
   "name": "python3"
  },
  "language_info": {
   "codemirror_mode": {
    "name": "ipython",
    "version": 3
   },
   "file_extension": ".py",
   "mimetype": "text/x-python",
   "name": "python",
   "nbconvert_exporter": "python",
   "pygments_lexer": "ipython3",
   "version": "3.9.12"
  }
 },
 "nbformat": 4,
 "nbformat_minor": 5
}
