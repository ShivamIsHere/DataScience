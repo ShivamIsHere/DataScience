{
 "cells": [
  {
   "cell_type": "code",
   "execution_count": null,
   "id": "e5a47566",
   "metadata": {},
   "outputs": [],
   "source": [
    "import math"
   ]
  },
  {
   "cell_type": "code",
   "execution_count": null,
   "id": "4b32b681",
   "metadata": {},
   "outputs": [],
   "source": [
    "for i in range(1,500,1):\n",
    "    scholarship=0\n",
    "    Branch_Of_study = input(\"Enter the branch you want to opt:-\")\n",
    "    score=int(input(\"Enter the marks scored:-\"))\n",
    "    course_fee=int(input(\"Enter the total fee of:-\"))\n",
    "    if(Branch_Of_study==\"Arts\"):\n",
    "        if(score>=90):\n",
    "            scholarship=50\n",
    "        elif(score%2!= 0):\n",
    "            scholarship=5\n",
    "    elif(Branch_Of_study==\"Engineering\"):\n",
    "        if(score>85):\n",
    "            scholarship=50\n",
    "        elif(score%7==0):\n",
    "            scholarship=5\n",
    "    scholarship_Amount=course_fee*scholarship/100\n",
    "    print(\"Total scholarship received :-\",scholarship_Amount)\n",
    "    Final_Fee=course_fee-scholarship_Amount\n",
    "    print(\"Final fee to be paid:-\",Final_Fee)\n"
   ]
  },
  {
   "cell_type": "code",
   "execution_count": null,
   "id": "4d4de5c8",
   "metadata": {},
   "outputs": [],
   "source": []
  }
 ],
 "metadata": {
  "kernelspec": {
   "display_name": "Python 3 (ipykernel)",
   "language": "python",
   "name": "python3"
  },
  "language_info": {
   "codemirror_mode": {
    "name": "ipython",
    "version": 3
   },
   "file_extension": ".py",
   "mimetype": "text/x-python",
   "name": "python",
   "nbconvert_exporter": "python",
   "pygments_lexer": "ipython3",
   "version": "3.9.12"
  }
 },
 "nbformat": 4,
 "nbformat_minor": 5
}
