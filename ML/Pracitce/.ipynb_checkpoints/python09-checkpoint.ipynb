{
 "cells": [
  {
   "cell_type": "code",
   "execution_count": 6,
   "id": "93b4cb22",
   "metadata": {},
   "outputs": [
    {
     "name": "stdout",
     "output_type": "stream",
     "text": [
      "Enter first number: 7\n",
      "Enter second number: 7\n",
      "Enter third number: 7\n",
      "-1\n"
     ]
    }
   ],
   "source": [
    "n1 = int(input(\"Enter first number: \"))\n",
    "n2 = int(input(\"Enter second number: \"))\n",
    "n3 = int(input(\"Enter third number: \"))\n",
    "\n",
    "\n",
    "def find_product(num1, num2, num3):\n",
    "    product = 0\n",
    "    if(num1==num2==7 or num2==num3==7 or num1==num3==7):\n",
    "        return -1\n",
    "    if (num1 != 7 and num2 != 7 and num3 != 7):\n",
    "        product = num1 * num2 * num3\n",
    "    elif num1 == 7:\n",
    "        product = num2 * num3\n",
    "    elif num2 == 7:\n",
    "        product = num3\n",
    "    elif num3 == 7:\n",
    "        product = -1\n",
    "    return product\n",
    "\n",
    "\n",
    "final_product = find_product(n1, n2, n3)\n",
    "print(final_product)"
   ]
  },
  {
   "cell_type": "code",
   "execution_count": null,
   "id": "624cd587",
   "metadata": {},
   "outputs": [],
   "source": []
  }
 ],
 "metadata": {
  "kernelspec": {
   "display_name": "Python 3 (ipykernel)",
   "language": "python",
   "name": "python3"
  },
  "language_info": {
   "codemirror_mode": {
    "name": "ipython",
    "version": 3
   },
   "file_extension": ".py",
   "mimetype": "text/x-python",
   "name": "python",
   "nbconvert_exporter": "python",
   "pygments_lexer": "ipython3",
   "version": "3.9.12"
  }
 },
 "nbformat": 4,
 "nbformat_minor": 5
}
