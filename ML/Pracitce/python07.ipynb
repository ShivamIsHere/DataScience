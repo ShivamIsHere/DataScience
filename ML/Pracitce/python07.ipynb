{
 "cells": [
  {
   "cell_type": "code",
   "execution_count": 5,
   "id": "d1e8664c",
   "metadata": {},
   "outputs": [
    {
     "name": "stdout",
     "output_type": "stream",
     "text": [
      "Enter the number55\n",
      "Zap\n"
     ]
    }
   ],
   "source": [
    "n1 = int(input(\"Enter the number\"))\n",
    "def display(num):\n",
    "    message=\"\"\n",
    "    #write your logic here\n",
    "    if(num%5==0 and num%3==0):\n",
    "        message=\"Zoom\"\n",
    "        \n",
    "    elif(num%5==0):\n",
    "        message=\"Zap\"\n",
    "    elif(num%3==0):\n",
    "        message=\"Zip\"\n",
    "    else:\n",
    "        message=\"Invalid\"\n",
    "    return message\n",
    "\n",
    "message=display(n1)\n",
    "print(message)"
   ]
  },
  {
   "cell_type": "code",
   "execution_count": null,
   "id": "5116505d",
   "metadata": {},
   "outputs": [],
   "source": []
  }
 ],
 "metadata": {
  "kernelspec": {
   "display_name": "Python 3 (ipykernel)",
   "language": "python",
   "name": "python3"
  },
  "language_info": {
   "codemirror_mode": {
    "name": "ipython",
    "version": 3
   },
   "file_extension": ".py",
   "mimetype": "text/x-python",
   "name": "python",
   "nbconvert_exporter": "python",
   "pygments_lexer": "ipython3",
   "version": "3.9.12"
  }
 },
 "nbformat": 4,
 "nbformat_minor": 5
}
