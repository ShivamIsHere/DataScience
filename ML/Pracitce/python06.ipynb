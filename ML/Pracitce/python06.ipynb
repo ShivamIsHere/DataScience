{
 "cells": [
  {
   "cell_type": "code",
   "execution_count": 1,
   "id": "e70196f8",
   "metadata": {},
   "outputs": [],
   "source": [
    "import math"
   ]
  },
  {
   "cell_type": "code",
   "execution_count": 5,
   "id": "ca67a386",
   "metadata": {},
   "outputs": [
    {
     "name": "stdout",
     "output_type": "stream",
     "text": [
      "Enter total no of adults travelling4\n",
      "Enter total no of children travelling5\n",
      "Total charges for adult:- 150200\n",
      "Total charges for child:- 62583.33333333333\n",
      "Total charges to be paid:- 212783.3333333333\n",
      "Total service tax to be charged :- 14894.833333333334\n",
      "Total amound after service tax :- 227678.16666666666\n",
      "special discount :- 22767.816666666666\n",
      "Total Ticket Cost: 204910.34999999998\n"
     ]
    }
   ],
   "source": [
    "adults=int(input(\"Enter total no of adults travelling\"))\n",
    "children=int(input(\"Enter total no of children travelling\"))\n",
    "def calculate_total_ticket_cost(no_of_adults, no_of_children):\n",
    "    total_ticket_cost=0\n",
    "    adult = no_of_adults*37550\n",
    "    print(\"Total charges for adult:-\",adult)\n",
    "    child = no_of_children*(37550/3)\n",
    "    print(\"Total charges for child:-\",child)\n",
    "    total = adult + child\n",
    "    print(\"Total charges to be paid:-\",total)\n",
    "    service_tax = total * (7/100)\n",
    "    print(\"Total service tax to be charged :-\",service_tax)\n",
    "    overall_total = service_tax + total\n",
    "    print(\"Total amound after service tax :-\",overall_total)\n",
    "    discount = overall_total * (10/100)\n",
    "    print(\"special discount :-\",discount)\n",
    "    total_ticket_cost = overall_total - discount\n",
    "    return total_ticket_cost\n",
    "\n",
    "\n",
    "#Provide different values for no_of_adults, no_of_children and test your program\n",
    "total_ticket_cost=calculate_total_ticket_cost(adults,children)\n",
    "print(\"Total Ticket Cost:\",total_ticket_cost)"
   ]
  },
  {
   "cell_type": "code",
   "execution_count": null,
   "id": "24c40325",
   "metadata": {},
   "outputs": [],
   "source": []
  }
 ],
 "metadata": {
  "kernelspec": {
   "display_name": "Python 3 (ipykernel)",
   "language": "python",
   "name": "python3"
  },
  "language_info": {
   "codemirror_mode": {
    "name": "ipython",
    "version": 3
   },
   "file_extension": ".py",
   "mimetype": "text/x-python",
   "name": "python",
   "nbconvert_exporter": "python",
   "pygments_lexer": "ipython3",
   "version": "3.9.12"
  }
 },
 "nbformat": 4,
 "nbformat_minor": 5
}
