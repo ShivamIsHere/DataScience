{
 "cells": [
  {
   "cell_type": "code",
   "execution_count": 1,
   "id": "db801a1a",
   "metadata": {},
   "outputs": [],
   "source": [
    "#In c \n",
    "#String name =\"Shivam\"\n",
    "#print(name)\n",
    "\n",
    "#there is no variable declaration in Python\n",
    "name = \"Shivam\""
   ]
  },
  {
   "cell_type": "code",
   "execution_count": 2,
   "id": "10183069",
   "metadata": {},
   "outputs": [
    {
     "name": "stdout",
     "output_type": "stream",
     "text": [
      "Shivam\n"
     ]
    }
   ],
   "source": [
    "print(name)"
   ]
  },
  {
   "cell_type": "code",
   "execution_count": 3,
   "id": "812ca864",
   "metadata": {},
   "outputs": [
    {
     "ename": "NameError",
     "evalue": "name 'Shivam' is not defined",
     "output_type": "error",
     "traceback": [
      "\u001b[1;31m---------------------------------------------------------------------------\u001b[0m",
      "\u001b[1;31mNameError\u001b[0m                                 Traceback (most recent call last)",
      "Input \u001b[1;32mIn [3]\u001b[0m, in \u001b[0;36m<cell line: 1>\u001b[1;34m()\u001b[0m\n\u001b[1;32m----> 1\u001b[0m name \u001b[38;5;241m=\u001b[39m \u001b[43mShivam\u001b[49m\n",
      "\u001b[1;31mNameError\u001b[0m: name 'Shivam' is not defined"
     ]
    }
   ],
   "source": [
    "name = Shivam"
   ]
  },
  {
   "cell_type": "code",
   "execution_count": 5,
   "id": "d211df08",
   "metadata": {},
   "outputs": [
    {
     "name": "stdout",
     "output_type": "stream",
     "text": [
      "Welcome to lpu\n"
     ]
    }
   ],
   "source": [
    "lpu =\"Welcome to lpu\"\n",
    "print(lpu)"
   ]
  },
  {
   "cell_type": "code",
   "execution_count": 6,
   "id": "e9c9f84e",
   "metadata": {},
   "outputs": [],
   "source": [
    "#Python --->>> dynamic typing\n",
    "#Dyanmic Typing---automatic understands what kind of data type is used\n",
    "#Static typing---we have to specify the data type of data"
   ]
  },
  {
   "cell_type": "code",
   "execution_count": 7,
   "id": "4dc2cc8d",
   "metadata": {},
   "outputs": [
    {
     "name": "stdout",
     "output_type": "stream",
     "text": [
      "Welcome to lpu\n"
     ]
    }
   ],
   "source": [
    "print(lpu)"
   ]
  },
  {
   "cell_type": "code",
   "execution_count": 9,
   "id": "ce809960",
   "metadata": {},
   "outputs": [
    {
     "name": "stdout",
     "output_type": "stream",
     "text": [
      "4\n"
     ]
    }
   ],
   "source": [
    "lpu=4\n",
    "print(lpu)"
   ]
  },
  {
   "cell_type": "code",
   "execution_count": 10,
   "id": "6af1fa43",
   "metadata": {},
   "outputs": [
    {
     "name": "stdout",
     "output_type": "stream",
     "text": [
      "True\n"
     ]
    }
   ],
   "source": [
    "lpu=True\n",
    "print(lpu)"
   ]
  },
  {
   "cell_type": "code",
   "execution_count": 11,
   "id": "84a6b935",
   "metadata": {},
   "outputs": [],
   "source": [
    "#Dynamic binding--->>in this one variable can store multiple value of different data type\n",
    "#Static binding--->>in this one variable can store only one data of same data type"
   ]
  },
  {
   "cell_type": "code",
   "execution_count": 12,
   "id": "eadfaf2f",
   "metadata": {},
   "outputs": [
    {
     "name": "stdout",
     "output_type": "stream",
     "text": [
      "5\n",
      "6\n",
      "7\n"
     ]
    }
   ],
   "source": [
    "#Special Syntax\n",
    "a=5;b=6;c=7\n",
    "print(a)\n",
    "print(b)\n",
    "print(c)"
   ]
  },
  {
   "cell_type": "code",
   "execution_count": 14,
   "id": "b80f95d5",
   "metadata": {},
   "outputs": [
    {
     "name": "stdout",
     "output_type": "stream",
     "text": [
      "4\n",
      "5\n",
      "6\n"
     ]
    }
   ],
   "source": [
    "a,b,c = 4,5,6\n",
    "print(a)\n",
    "print(b)\n",
    "print(c)"
   ]
  },
  {
   "cell_type": "code",
   "execution_count": 15,
   "id": "afd88cc5",
   "metadata": {},
   "outputs": [
    {
     "name": "stdout",
     "output_type": "stream",
     "text": [
      "6\n",
      "6\n",
      "6\n"
     ]
    }
   ],
   "source": [
    "a=b=c=6\n",
    "print(a)\n",
    "print(b)\n",
    "print(c)"
   ]
  },
  {
   "cell_type": "code",
   "execution_count": null,
   "id": "a04a139a",
   "metadata": {},
   "outputs": [],
   "source": []
  }
 ],
 "metadata": {
  "kernelspec": {
   "display_name": "Python 3 (ipykernel)",
   "language": "python",
   "name": "python3"
  },
  "language_info": {
   "codemirror_mode": {
    "name": "ipython",
    "version": 3
   },
   "file_extension": ".py",
   "mimetype": "text/x-python",
   "name": "python",
   "nbconvert_exporter": "python",
   "pygments_lexer": "ipython3",
   "version": "3.9.12"
  }
 },
 "nbformat": 4,
 "nbformat_minor": 5
}
