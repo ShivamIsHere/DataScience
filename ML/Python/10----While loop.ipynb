{
 "cells": [
  {
   "cell_type": "code",
   "execution_count": 1,
   "id": "3a79d014",
   "metadata": {},
   "outputs": [
    {
     "ename": "NameError",
     "evalue": "name 'condition' is not defined",
     "output_type": "error",
     "traceback": [
      "\u001b[1;31m---------------------------------------------------------------------------\u001b[0m",
      "\u001b[1;31mNameError\u001b[0m                                 Traceback (most recent call last)",
      "Input \u001b[1;32mIn [1]\u001b[0m, in \u001b[0;36m<cell line: 1>\u001b[1;34m()\u001b[0m\n\u001b[1;32m----> 1\u001b[0m \u001b[38;5;28;01mwhile\u001b[39;00m \u001b[43mcondition\u001b[49m:\n\u001b[0;32m      2\u001b[0m     code\n",
      "\u001b[1;31mNameError\u001b[0m: name 'condition' is not defined"
     ]
    }
   ],
   "source": [
    "while condition:\n",
    "    code"
   ]
  },
  {
   "cell_type": "code",
   "execution_count": 3,
   "id": "941a5450",
   "metadata": {},
   "outputs": [
    {
     "name": "stdout",
     "output_type": "stream",
     "text": [
      "Enter the number1199\n",
      "1199 * 1 = 1199\n",
      "1199 * 2 = 2398\n",
      "1199 * 3 = 3597\n",
      "1199 * 4 = 4796\n",
      "1199 * 5 = 5995\n",
      "1199 * 6 = 7194\n",
      "1199 * 7 = 8393\n",
      "1199 * 8 = 9592\n",
      "1199 * 9 = 10791\n",
      "1199 * 10 = 11990\n"
     ]
    }
   ],
   "source": [
    "number = int(input(\"Enter the number\"))\n",
    "\n",
    "i=1\n",
    "\n",
    "while i<11:\n",
    "    print(number,\"*\",i,\"=\",number * i)\n",
    "    i+=1"
   ]
  },
  {
   "cell_type": "code",
   "execution_count": null,
   "id": "b2614eee",
   "metadata": {},
   "outputs": [],
   "source": []
  }
 ],
 "metadata": {
  "kernelspec": {
   "display_name": "Python 3 (ipykernel)",
   "language": "python",
   "name": "python3"
  },
  "language_info": {
   "codemirror_mode": {
    "name": "ipython",
    "version": 3
   },
   "file_extension": ".py",
   "mimetype": "text/x-python",
   "name": "python",
   "nbconvert_exporter": "python",
   "pygments_lexer": "ipython3",
   "version": "3.9.12"
  }
 },
 "nbformat": 4,
 "nbformat_minor": 5
}
