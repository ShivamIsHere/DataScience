{
 "cells": [
  {
   "cell_type": "code",
   "execution_count": 2,
   "id": "568fbd30",
   "metadata": {},
   "outputs": [
    {
     "name": "stdout",
     "output_type": "stream",
     "text": [
      "enter your emailkjk\n",
      "please enter correct email id\n"
     ]
    }
   ],
   "source": [
    "email = input(\"enter your email\")\n",
    "if '@' in email:\n",
    "    password = input(\"enter your password\")\n",
    "\n",
    "    if email == \"Shivam@gmail.com\" and password == \"1234\":\n",
    "        print(\"welcome\")\n",
    "    elif email == \"Shivam@gmail.com\" and password != \"1234\":\n",
    "        print(\"incorrect password\")\n",
    "        password = input(\"Re-enter you password\")\n",
    "        if password == \"1234\":\n",
    "            print(\"correct password\")\n",
    "        else:\n",
    "            print(\"Still incorrect password\")\n",
    "    else:\n",
    "        print(\"Incorrect Credentials\")\n",
    "else: print(\"please enter correct email id\")"
   ]
  },
  {
   "cell_type": "code",
   "execution_count": null,
   "id": "b6dbe50f",
   "metadata": {},
   "outputs": [],
   "source": []
  }
 ],
 "metadata": {
  "kernelspec": {
   "display_name": "Python 3 (ipykernel)",
   "language": "python",
   "name": "python3"
  },
  "language_info": {
   "codemirror_mode": {
    "name": "ipython",
    "version": 3
   },
   "file_extension": ".py",
   "mimetype": "text/x-python",
   "name": "python",
   "nbconvert_exporter": "python",
   "pygments_lexer": "ipython3",
   "version": "3.9.12"
  }
 },
 "nbformat": 4,
 "nbformat_minor": 5
}
