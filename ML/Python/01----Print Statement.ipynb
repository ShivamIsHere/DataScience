{
 "cells": [
  {
   "cell_type": "code",
   "execution_count": 1,
   "id": "01075ea9",
   "metadata": {},
   "outputs": [
    {
     "name": "stdout",
     "output_type": "stream",
     "text": [
      "Hello world\n"
     ]
    }
   ],
   "source": [
    "print(\"Hello world\")"
   ]
  },
  {
   "cell_type": "code",
   "execution_count": 2,
   "id": "fb976ca4",
   "metadata": {},
   "outputs": [
    {
     "name": "stdout",
     "output_type": "stream",
     "text": [
      "6\n"
     ]
    }
   ],
   "source": [
    "print(6)"
   ]
  },
  {
   "cell_type": "code",
   "execution_count": 3,
   "id": "37ecaa56",
   "metadata": {},
   "outputs": [
    {
     "name": "stdout",
     "output_type": "stream",
     "text": [
      "5.6\n"
     ]
    }
   ],
   "source": [
    "print(5.6)"
   ]
  },
  {
   "cell_type": "code",
   "execution_count": 4,
   "id": "d580bba8",
   "metadata": {},
   "outputs": [
    {
     "name": "stdout",
     "output_type": "stream",
     "text": [
      "False\n"
     ]
    }
   ],
   "source": [
    "print(False)"
   ]
  },
  {
   "cell_type": "code",
   "execution_count": 5,
   "id": "84f969d4",
   "metadata": {},
   "outputs": [
    {
     "name": "stdout",
     "output_type": "stream",
     "text": [
      "India USA Nepal Russia UK Sri Lanka\n"
     ]
    }
   ],
   "source": [
    "print(\"India\",\"USA\",\"Nepal\",\"Russia\",\"UK\",\"Sri Lanka\")"
   ]
  },
  {
   "cell_type": "code",
   "execution_count": 6,
   "id": "a08db6cf",
   "metadata": {},
   "outputs": [
    {
     "name": "stdout",
     "output_type": "stream",
     "text": [
      "India 5 True\n"
     ]
    }
   ],
   "source": [
    "print(\"India\",5,True)"
   ]
  },
  {
   "cell_type": "code",
   "execution_count": 7,
   "id": "c19af039",
   "metadata": {},
   "outputs": [],
   "source": [
    "# print()  //shift+tab to see documantation"
   ]
  },
  {
   "cell_type": "code",
   "execution_count": 8,
   "id": "f7d83dd1",
   "metadata": {},
   "outputs": [
    {
     "name": "stdout",
     "output_type": "stream",
     "text": [
      "India/USA/Nepal/Russia/UK/Sri Lanka\n"
     ]
    }
   ],
   "source": [
    "print(\"India\",\"USA\",\"Nepal\",\"Russia\",\"UK\",\"Sri Lanka\",sep='/')"
   ]
  },
  {
   "cell_type": "code",
   "execution_count": 9,
   "id": "da64e2f2",
   "metadata": {},
   "outputs": [
    {
     "name": "stdout",
     "output_type": "stream",
     "text": [
      "India-USA-Nepal-Russia-UK-Sri Lanka\n"
     ]
    }
   ],
   "source": [
    "print(\"India\",\"USA\",\"Nepal\",\"Russia\",\"UK\",\"Sri Lanka\",sep='-')"
   ]
  },
  {
   "cell_type": "code",
   "execution_count": 10,
   "id": "eb56e4cd",
   "metadata": {},
   "outputs": [
    {
     "name": "stdout",
     "output_type": "stream",
     "text": [
      "India\n",
      "Russia\n"
     ]
    }
   ],
   "source": [
    "print(\"India\")\n",
    "print(\"Russia\")"
   ]
  },
  {
   "cell_type": "code",
   "execution_count": 11,
   "id": "522890e9",
   "metadata": {},
   "outputs": [
    {
     "name": "stdout",
     "output_type": "stream",
     "text": [
      "India Russia\n"
     ]
    }
   ],
   "source": [
    "print(\"India\",end=' ')\n",
    "print(\"Russia\")"
   ]
  },
  {
   "cell_type": "code",
   "execution_count": null,
   "id": "f183610b",
   "metadata": {},
   "outputs": [],
   "source": []
  }
 ],
 "metadata": {
  "kernelspec": {
   "display_name": "Python 3 (ipykernel)",
   "language": "python",
   "name": "python3"
  },
  "language_info": {
   "codemirror_mode": {
    "name": "ipython",
    "version": 3
   },
   "file_extension": ".py",
   "mimetype": "text/x-python",
   "name": "python",
   "nbconvert_exporter": "python",
   "pygments_lexer": "ipython3",
   "version": "3.9.12"
  }
 },
 "nbformat": 4,
 "nbformat_minor": 5
}
