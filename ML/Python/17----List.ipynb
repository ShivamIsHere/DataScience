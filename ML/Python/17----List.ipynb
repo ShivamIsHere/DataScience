{
 "cells": [
  {
   "cell_type": "code",
   "execution_count": 1,
   "id": "f20a5524",
   "metadata": {},
   "outputs": [],
   "source": [
    "#List\n",
    "# -->what is list\n",
    "'''----->array is homogenous(we can use only same type of data type) list is heterogenosu\n",
    "------->array has continous memory location\n",
    "-------->array are much faster\n",
    "---------->lists are more programmer friendly'''\n",
    "# -->list vs array\n",
    "# -->crete\n",
    "# -->access\n",
    "# -->edit\n",
    "# -->add\n",
    "# -->delete\n",
    "# -->operations\n",
    "# -->functions"
   ]
  },
  {
   "cell_type": "code",
   "execution_count": 2,
   "id": "37910b5c",
   "metadata": {},
   "outputs": [],
   "source": [
    "l=[]"
   ]
  },
  {
   "cell_type": "code",
   "execution_count": 3,
   "id": "f29e8557",
   "metadata": {},
   "outputs": [
    {
     "data": {
      "text/plain": [
       "[]"
      ]
     },
     "execution_count": 3,
     "metadata": {},
     "output_type": "execute_result"
    }
   ],
   "source": [
    "l"
   ]
  },
  {
   "cell_type": "code",
   "execution_count": 6,
   "id": "548bbe4c",
   "metadata": {},
   "outputs": [
    {
     "data": {
      "text/plain": [
       "[1, 2, 3]"
      ]
     },
     "execution_count": 6,
     "metadata": {},
     "output_type": "execute_result"
    }
   ],
   "source": [
    "l=[1,2,3]\n",
    "l"
   ]
  },
  {
   "cell_type": "code",
   "execution_count": 7,
   "id": "e4f4d5c0",
   "metadata": {},
   "outputs": [],
   "source": [
    "l=[\"hello\",4,4.6,True,5+6]"
   ]
  },
  {
   "cell_type": "code",
   "execution_count": 9,
   "id": "8839b49c",
   "metadata": {},
   "outputs": [
    {
     "data": {
      "text/plain": [
       "['hello', 4, 4.6, True, 11]"
      ]
     },
     "execution_count": 9,
     "metadata": {},
     "output_type": "execute_result"
    }
   ],
   "source": [
    "l=[\"hello\",4,4.6,True,5+6]\n",
    "l"
   ]
  },
  {
   "cell_type": "code",
   "execution_count": 25,
   "id": "9851ceb9",
   "metadata": {},
   "outputs": [
    {
     "data": {
      "text/plain": [
       "[1, 2, 3, [4, 5]]"
      ]
     },
     "execution_count": 25,
     "metadata": {},
     "output_type": "execute_result"
    }
   ],
   "source": [
    "l1=[1,2,3,[4,5]]\n",
    "l1"
   ]
  },
  {
   "cell_type": "code",
   "execution_count": 26,
   "id": "2d89772b",
   "metadata": {},
   "outputs": [
    {
     "data": {
      "text/plain": [
       "[[[1, 2], [3, 5], [6, 9]]]"
      ]
     },
     "execution_count": 26,
     "metadata": {},
     "output_type": "execute_result"
    }
   ],
   "source": [
    "l2=[[[1,2],[3,5],[6,9]]]\n",
    "l2"
   ]
  },
  {
   "cell_type": "code",
   "execution_count": 13,
   "id": "55fe54f0",
   "metadata": {},
   "outputs": [
    {
     "data": {
      "text/plain": [
       "['kolkata']"
      ]
     },
     "execution_count": 13,
     "metadata": {},
     "output_type": "execute_result"
    }
   ],
   "source": [
    "l=[\"kolkata\"]\n",
    "l"
   ]
  },
  {
   "cell_type": "code",
   "execution_count": 15,
   "id": "67868ef8",
   "metadata": {},
   "outputs": [
    {
     "data": {
      "text/plain": [
       "list['kolkata']"
      ]
     },
     "execution_count": 15,
     "metadata": {},
     "output_type": "execute_result"
    }
   ],
   "source": [
    "l=list[\"kolkata\"]\n",
    "l"
   ]
  },
  {
   "cell_type": "code",
   "execution_count": 17,
   "id": "e6f9627e",
   "metadata": {},
   "outputs": [
    {
     "data": {
      "text/plain": [
       "[]"
      ]
     },
     "execution_count": 17,
     "metadata": {},
     "output_type": "execute_result"
    }
   ],
   "source": [
    "l=list()\n",
    "l"
   ]
  },
  {
   "cell_type": "code",
   "execution_count": 18,
   "id": "51f9ee84",
   "metadata": {},
   "outputs": [
    {
     "data": {
      "text/plain": [
       "['hello', 4, 4.6, True, (5+6j)]"
      ]
     },
     "execution_count": 18,
     "metadata": {},
     "output_type": "execute_result"
    }
   ],
   "source": [
    "l=[\"hello\",4,4.6,True,(5+6j)]\n",
    "l"
   ]
  },
  {
   "cell_type": "code",
   "execution_count": 19,
   "id": "4da55da9",
   "metadata": {},
   "outputs": [
    {
     "data": {
      "text/plain": [
       "'hello'"
      ]
     },
     "execution_count": 19,
     "metadata": {},
     "output_type": "execute_result"
    }
   ],
   "source": [
    "l[0]"
   ]
  },
  {
   "cell_type": "code",
   "execution_count": 20,
   "id": "2682b3d9",
   "metadata": {},
   "outputs": [
    {
     "data": {
      "text/plain": [
       "(5+6j)"
      ]
     },
     "execution_count": 20,
     "metadata": {},
     "output_type": "execute_result"
    }
   ],
   "source": [
    "l[-1]"
   ]
  },
  {
   "cell_type": "code",
   "execution_count": 21,
   "id": "a55115f9",
   "metadata": {},
   "outputs": [
    {
     "data": {
      "text/plain": [
       "[4, 4.6]"
      ]
     },
     "execution_count": 21,
     "metadata": {},
     "output_type": "execute_result"
    }
   ],
   "source": [
    "l[1:3]"
   ]
  },
  {
   "cell_type": "code",
   "execution_count": 22,
   "id": "1e659c0e",
   "metadata": {},
   "outputs": [
    {
     "data": {
      "text/plain": [
       "[(5+6j), True, 4.6, 4, 'hello']"
      ]
     },
     "execution_count": 22,
     "metadata": {},
     "output_type": "execute_result"
    }
   ],
   "source": [
    "l[::-1]"
   ]
  },
  {
   "cell_type": "code",
   "execution_count": 27,
   "id": "6d8efc98",
   "metadata": {},
   "outputs": [
    {
     "data": {
      "text/plain": [
       "[1, 2, 3, [4, 5]]"
      ]
     },
     "execution_count": 27,
     "metadata": {},
     "output_type": "execute_result"
    }
   ],
   "source": [
    "l1"
   ]
  },
  {
   "cell_type": "code",
   "execution_count": 31,
   "id": "f886e16a",
   "metadata": {},
   "outputs": [
    {
     "data": {
      "text/plain": [
       "[4, 5]"
      ]
     },
     "execution_count": 31,
     "metadata": {},
     "output_type": "execute_result"
    }
   ],
   "source": [
    "x=l1[-1]\n",
    "x"
   ]
  },
  {
   "cell_type": "code",
   "execution_count": 32,
   "id": "ec8e701f",
   "metadata": {},
   "outputs": [
    {
     "data": {
      "text/plain": [
       "4"
      ]
     },
     "execution_count": 32,
     "metadata": {},
     "output_type": "execute_result"
    }
   ],
   "source": [
    "x[0]"
   ]
  },
  {
   "cell_type": "code",
   "execution_count": 41,
   "id": "9be0fafa",
   "metadata": {},
   "outputs": [
    {
     "data": {
      "text/plain": [
       "[[[1, 2], [3, 5], [6, 9]]]"
      ]
     },
     "execution_count": 41,
     "metadata": {},
     "output_type": "execute_result"
    }
   ],
   "source": [
    "l2"
   ]
  },
  {
   "cell_type": "code",
   "execution_count": 37,
   "id": "5b421811",
   "metadata": {},
   "outputs": [
    {
     "data": {
      "text/plain": [
       "[[1, 2], [3, 5], [6, 9]]"
      ]
     },
     "execution_count": 37,
     "metadata": {},
     "output_type": "execute_result"
    }
   ],
   "source": [
    "x=l2[-1]\n",
    "x"
   ]
  },
  {
   "cell_type": "code",
   "execution_count": 39,
   "id": "47d07dc0",
   "metadata": {},
   "outputs": [
    {
     "data": {
      "text/plain": [
       "4"
      ]
     },
     "execution_count": 39,
     "metadata": {},
     "output_type": "execute_result"
    }
   ],
   "source": [
    "l1[-1][0]"
   ]
  },
  {
   "cell_type": "code",
   "execution_count": 45,
   "id": "f8d99033",
   "metadata": {},
   "outputs": [
    {
     "ename": "IndexError",
     "evalue": "list index out of range",
     "output_type": "error",
     "traceback": [
      "\u001b[1;31m---------------------------------------------------------------------------\u001b[0m",
      "\u001b[1;31mIndexError\u001b[0m                                Traceback (most recent call last)",
      "Input \u001b[1;32mIn [45]\u001b[0m, in \u001b[0;36m<cell line: 1>\u001b[1;34m()\u001b[0m\n\u001b[1;32m----> 1\u001b[0m \u001b[43ml2\u001b[49m\u001b[43m[\u001b[49m\u001b[38;5;241;43m1\u001b[39;49m\u001b[43m]\u001b[49m[\u001b[38;5;241m1\u001b[39m][\u001b[38;5;241m0\u001b[39m]\n",
      "\u001b[1;31mIndexError\u001b[0m: list index out of range"
     ]
    }
   ],
   "source": [
    "l2[1][1][0]"
   ]
  },
  {
   "cell_type": "code",
   "execution_count": 46,
   "id": "beccf68b",
   "metadata": {},
   "outputs": [
    {
     "data": {
      "text/plain": [
       "['hello', 4, 4.6, True, (5+6j)]"
      ]
     },
     "execution_count": 46,
     "metadata": {},
     "output_type": "execute_result"
    }
   ],
   "source": [
    "l"
   ]
  },
  {
   "cell_type": "code",
   "execution_count": 48,
   "id": "2cdf198d",
   "metadata": {},
   "outputs": [
    {
     "data": {
      "text/plain": [
       "['hello', 100, 4.6, True, (5+6j)]"
      ]
     },
     "execution_count": 48,
     "metadata": {},
     "output_type": "execute_result"
    }
   ],
   "source": [
    "l[1]=100\n",
    "l\n",
    "#list is python is mutable(we can edit(change) the data)"
   ]
  },
  {
   "cell_type": "code",
   "execution_count": 50,
   "id": "5b562e0f",
   "metadata": {},
   "outputs": [
    {
     "data": {
      "text/plain": [
       "['hello', 100, 40.6, False, (5+6j)]"
      ]
     },
     "execution_count": 50,
     "metadata": {},
     "output_type": "execute_result"
    }
   ],
   "source": [
    "l[1:4]=[100,40.6,False]\n",
    "l"
   ]
  },
  {
   "cell_type": "code",
   "execution_count": 51,
   "id": "69b1d291",
   "metadata": {},
   "outputs": [],
   "source": [
    "#add\n",
    "#append\n",
    "#extend\n",
    "#insert\n"
   ]
  },
  {
   "cell_type": "code",
   "execution_count": 52,
   "id": "ee47da17",
   "metadata": {},
   "outputs": [
    {
     "data": {
      "text/plain": [
       "['hello', 100, 40.6, False, (5+6j)]"
      ]
     },
     "execution_count": 52,
     "metadata": {},
     "output_type": "execute_result"
    }
   ],
   "source": [
    "l"
   ]
  },
  {
   "cell_type": "code",
   "execution_count": 55,
   "id": "cf6dca3f",
   "metadata": {},
   "outputs": [
    {
     "data": {
      "text/plain": [
       "['hello', 100, 40.6, False, (5+6j), 1000, 1000, 1000]"
      ]
     },
     "execution_count": 55,
     "metadata": {},
     "output_type": "execute_result"
    }
   ],
   "source": [
    "l.append(1000)\n",
    "l"
   ]
  },
  {
   "cell_type": "code",
   "execution_count": 57,
   "id": "c028cff1",
   "metadata": {},
   "outputs": [
    {
     "data": {
      "text/plain": [
       "['hello', 100, 40.6, False, (5+6j), 1000, 1000, 1000, 'hello', 'hello']"
      ]
     },
     "execution_count": 57,
     "metadata": {},
     "output_type": "execute_result"
    }
   ],
   "source": [
    "l.append(\"hello\")\n",
    "l"
   ]
  },
  {
   "cell_type": "code",
   "execution_count": 59,
   "id": "3cedab50",
   "metadata": {},
   "outputs": [
    {
     "data": {
      "text/plain": [
       "['hello',\n",
       " 100,\n",
       " 40.6,\n",
       " False,\n",
       " (5+6j),\n",
       " 1000,\n",
       " 1000,\n",
       " 1000,\n",
       " 'hello',\n",
       " 'hello',\n",
       " 200,\n",
       " 600,\n",
       " 4400,\n",
       " 200,\n",
       " 600,\n",
       " 4400]"
      ]
     },
     "execution_count": 59,
     "metadata": {},
     "output_type": "execute_result"
    }
   ],
   "source": [
    "l.extend([200,600,4400])\n",
    "l"
   ]
  },
  {
   "cell_type": "code",
   "execution_count": 60,
   "id": "c5354dbe",
   "metadata": {},
   "outputs": [
    {
     "ename": "TypeError",
     "evalue": "list.append() takes exactly one argument (2 given)",
     "output_type": "error",
     "traceback": [
      "\u001b[1;31m---------------------------------------------------------------------------\u001b[0m",
      "\u001b[1;31mTypeError\u001b[0m                                 Traceback (most recent call last)",
      "Input \u001b[1;32mIn [60]\u001b[0m, in \u001b[0;36m<cell line: 1>\u001b[1;34m()\u001b[0m\n\u001b[1;32m----> 1\u001b[0m \u001b[43ml\u001b[49m\u001b[38;5;241;43m.\u001b[39;49m\u001b[43mappend\u001b[49m\u001b[43m(\u001b[49m\u001b[43m[\u001b[49m\u001b[38;5;241;43m5\u001b[39;49m\u001b[43m,\u001b[49m\u001b[38;5;241;43m6\u001b[39;49m\u001b[43m]\u001b[49m\u001b[43m,\u001b[49m\u001b[38;5;124;43m\"\u001b[39;49m\u001b[38;5;124;43mgoa\u001b[39;49m\u001b[38;5;124;43m\"\u001b[39;49m\u001b[43m)\u001b[49m\n\u001b[0;32m      2\u001b[0m l\n",
      "\u001b[1;31mTypeError\u001b[0m: list.append() takes exactly one argument (2 given)"
     ]
    }
   ],
   "source": [
    "l.append([5,6],\"goa\")\n",
    "l"
   ]
  },
  {
   "cell_type": "code",
   "execution_count": 61,
   "id": "0fcd24ad",
   "metadata": {},
   "outputs": [
    {
     "data": {
      "text/plain": [
       "['hello',\n",
       " 100,\n",
       " 40.6,\n",
       " False,\n",
       " (5+6j),\n",
       " 1000,\n",
       " 1000,\n",
       " 1000,\n",
       " 'hello',\n",
       " 'hello',\n",
       " 200,\n",
       " 600,\n",
       " 4400,\n",
       " 200,\n",
       " 600,\n",
       " 4400,\n",
       " [5, 6]]"
      ]
     },
     "execution_count": 61,
     "metadata": {},
     "output_type": "execute_result"
    }
   ],
   "source": [
    "l.append([5,6])\n",
    "l"
   ]
  },
  {
   "cell_type": "code",
   "execution_count": 62,
   "id": "1f28298f",
   "metadata": {},
   "outputs": [
    {
     "ename": "TypeError",
     "evalue": "list.extend() takes exactly one argument (2 given)",
     "output_type": "error",
     "traceback": [
      "\u001b[1;31m---------------------------------------------------------------------------\u001b[0m",
      "\u001b[1;31mTypeError\u001b[0m                                 Traceback (most recent call last)",
      "Input \u001b[1;32mIn [62]\u001b[0m, in \u001b[0;36m<cell line: 1>\u001b[1;34m()\u001b[0m\n\u001b[1;32m----> 1\u001b[0m \u001b[43ml\u001b[49m\u001b[38;5;241;43m.\u001b[39;49m\u001b[43mextend\u001b[49m\u001b[43m(\u001b[49m\u001b[43m[\u001b[49m\u001b[38;5;241;43m5\u001b[39;49m\u001b[43m,\u001b[49m\u001b[38;5;241;43m6\u001b[39;49m\u001b[43m]\u001b[49m\u001b[43m,\u001b[49m\u001b[38;5;124;43m\"\u001b[39;49m\u001b[38;5;124;43mgoa\u001b[39;49m\u001b[38;5;124;43m\"\u001b[39;49m\u001b[43m)\u001b[49m\n\u001b[0;32m      2\u001b[0m l\n",
      "\u001b[1;31mTypeError\u001b[0m: list.extend() takes exactly one argument (2 given)"
     ]
    }
   ],
   "source": [
    "l.extend([5,6],\"goa\")\n",
    "l"
   ]
  },
  {
   "cell_type": "code",
   "execution_count": 63,
   "id": "190bd22b",
   "metadata": {},
   "outputs": [
    {
     "data": {
      "text/plain": [
       "['hello',\n",
       " 100,\n",
       " 40.6,\n",
       " False,\n",
       " (5+6j),\n",
       " 1000,\n",
       " 1000,\n",
       " 1000,\n",
       " 'hello',\n",
       " 'hello',\n",
       " 200,\n",
       " 600,\n",
       " 4400,\n",
       " 200,\n",
       " 600,\n",
       " 4400,\n",
       " [5, 6],\n",
       " 5,\n",
       " 6]"
      ]
     },
     "execution_count": 63,
     "metadata": {},
     "output_type": "execute_result"
    }
   ],
   "source": [
    "l.extend([5,6])\n",
    "l"
   ]
  },
  {
   "cell_type": "code",
   "execution_count": 64,
   "id": "d1b2e383",
   "metadata": {},
   "outputs": [
    {
     "data": {
      "text/plain": [
       "['hello',\n",
       " 100,\n",
       " 40.6,\n",
       " False,\n",
       " (5+6j),\n",
       " 1000,\n",
       " 1000,\n",
       " 1000,\n",
       " 'hello',\n",
       " 'hello',\n",
       " 200,\n",
       " 600,\n",
       " 4400,\n",
       " 200,\n",
       " 600,\n",
       " 4400,\n",
       " [5, 6],\n",
       " 5,\n",
       " 6,\n",
       " 'g',\n",
       " 'o',\n",
       " 'a']"
      ]
     },
     "execution_count": 64,
     "metadata": {},
     "output_type": "execute_result"
    }
   ],
   "source": [
    "l.extend(\"goa\")\n",
    "l"
   ]
  },
  {
   "cell_type": "code",
   "execution_count": 65,
   "id": "d56e7bf5",
   "metadata": {},
   "outputs": [
    {
     "data": {
      "text/plain": [
       "['hello',\n",
       " 'world',\n",
       " 100,\n",
       " 40.6,\n",
       " False,\n",
       " (5+6j),\n",
       " 1000,\n",
       " 1000,\n",
       " 1000,\n",
       " 'hello',\n",
       " 'hello',\n",
       " 200,\n",
       " 600,\n",
       " 4400,\n",
       " 200,\n",
       " 600,\n",
       " 4400,\n",
       " [5, 6],\n",
       " 5,\n",
       " 6,\n",
       " 'g',\n",
       " 'o',\n",
       " 'a']"
      ]
     },
     "execution_count": 65,
     "metadata": {},
     "output_type": "execute_result"
    }
   ],
   "source": [
    "l.insert(1,\"world\")\n",
    "l"
   ]
  },
  {
   "cell_type": "code",
   "execution_count": 66,
   "id": "1dd71b22",
   "metadata": {},
   "outputs": [],
   "source": [
    "#delete\n",
    "#del\n",
    "#remove\n",
    "#pop\n",
    "#clear"
   ]
  },
  {
   "cell_type": "code",
   "execution_count": 67,
   "id": "ba3dbf0b",
   "metadata": {},
   "outputs": [
    {
     "data": {
      "text/plain": [
       "['hello',\n",
       " 'world',\n",
       " 100,\n",
       " 40.6,\n",
       " False,\n",
       " (5+6j),\n",
       " 1000,\n",
       " 1000,\n",
       " 1000,\n",
       " 'hello',\n",
       " 'hello',\n",
       " 200,\n",
       " 600,\n",
       " 4400,\n",
       " 200,\n",
       " 600,\n",
       " 4400,\n",
       " [5, 6],\n",
       " 5,\n",
       " 6,\n",
       " 'g',\n",
       " 'o',\n",
       " 'a']"
      ]
     },
     "execution_count": 67,
     "metadata": {},
     "output_type": "execute_result"
    }
   ],
   "source": [
    "l"
   ]
  },
  {
   "cell_type": "code",
   "execution_count": 70,
   "id": "6a9e26c1",
   "metadata": {},
   "outputs": [
    {
     "data": {
      "text/plain": [
       "[100,\n",
       " 40.6,\n",
       " False,\n",
       " (5+6j),\n",
       " 1000,\n",
       " 1000,\n",
       " 1000,\n",
       " 'hello',\n",
       " 'hello',\n",
       " 200,\n",
       " 600,\n",
       " 4400,\n",
       " 200,\n",
       " 600,\n",
       " 4400,\n",
       " [5, 6],\n",
       " 5,\n",
       " 6,\n",
       " 'g',\n",
       " 'o',\n",
       " 'a']"
      ]
     },
     "execution_count": 70,
     "metadata": {},
     "output_type": "execute_result"
    }
   ],
   "source": [
    "del l[0]\n",
    "l"
   ]
  },
  {
   "cell_type": "code",
   "execution_count": 71,
   "id": "a2445774",
   "metadata": {},
   "outputs": [
    {
     "data": {
      "text/plain": [
       "[100,\n",
       " 40.6,\n",
       " False,\n",
       " (5+6j),\n",
       " 1000,\n",
       " 1000,\n",
       " 1000,\n",
       " 'hello',\n",
       " 'hello',\n",
       " 200,\n",
       " 600,\n",
       " 4400,\n",
       " 200,\n",
       " 600,\n",
       " 4400,\n",
       " [5, 6],\n",
       " 5,\n",
       " 'g',\n",
       " 'o',\n",
       " 'a']"
      ]
     },
     "execution_count": 71,
     "metadata": {},
     "output_type": "execute_result"
    }
   ],
   "source": [
    "del l[-4]\n",
    "l"
   ]
  },
  {
   "cell_type": "code",
   "execution_count": 73,
   "id": "d5f4706e",
   "metadata": {},
   "outputs": [
    {
     "data": {
      "text/plain": [
       "[100,\n",
       " 40.6,\n",
       " False,\n",
       " (5+6j),\n",
       " 1000,\n",
       " 1000,\n",
       " 1000,\n",
       " 'hello',\n",
       " 200,\n",
       " 4400,\n",
       " 200,\n",
       " 600,\n",
       " 4400,\n",
       " [5, 6],\n",
       " 5,\n",
       " 'g',\n",
       " 'o',\n",
       " 'a']"
      ]
     },
     "execution_count": 73,
     "metadata": {},
     "output_type": "execute_result"
    }
   ],
   "source": [
    "l.remove(600)\n",
    "l"
   ]
  },
  {
   "cell_type": "code",
   "execution_count": 77,
   "id": "6f548838",
   "metadata": {},
   "outputs": [
    {
     "data": {
      "text/plain": [
       "[100,\n",
       " 40.6,\n",
       " False,\n",
       " (5+6j),\n",
       " 1000,\n",
       " 1000,\n",
       " 1000,\n",
       " 'hello',\n",
       " 200,\n",
       " 4400,\n",
       " 200,\n",
       " 600,\n",
       " 4400,\n",
       " [5, 6]]"
      ]
     },
     "execution_count": 77,
     "metadata": {},
     "output_type": "execute_result"
    }
   ],
   "source": [
    "l.pop()\n",
    "l"
   ]
  },
  {
   "cell_type": "code",
   "execution_count": 78,
   "id": "844d24a4",
   "metadata": {},
   "outputs": [
    {
     "data": {
      "text/plain": [
       "[]"
      ]
     },
     "execution_count": 78,
     "metadata": {},
     "output_type": "execute_result"
    }
   ],
   "source": [
    "l.clear()\n",
    "l"
   ]
  },
  {
   "cell_type": "code",
   "execution_count": 79,
   "id": "b2bc77bc",
   "metadata": {},
   "outputs": [
    {
     "data": {
      "text/plain": [
       "[1, 2, 3, 4, 5, 1, 2, 3, [4, 5]]"
      ]
     },
     "execution_count": 79,
     "metadata": {},
     "output_type": "execute_result"
    }
   ],
   "source": [
    "l=[1,2,3,4,5]\n",
    "l+l1"
   ]
  },
  {
   "cell_type": "code",
   "execution_count": 80,
   "id": "989a8802",
   "metadata": {},
   "outputs": [
    {
     "name": "stdout",
     "output_type": "stream",
     "text": [
      "1\n",
      "2\n",
      "3\n",
      "4\n",
      "5\n"
     ]
    }
   ],
   "source": [
    "for i in l:\n",
    "    print(i)"
   ]
  },
  {
   "cell_type": "code",
   "execution_count": 81,
   "id": "af729857",
   "metadata": {},
   "outputs": [
    {
     "name": "stdout",
     "output_type": "stream",
     "text": [
      "1\n",
      "2\n",
      "3\n",
      "[4, 5]\n"
     ]
    }
   ],
   "source": [
    "for i in l1:\n",
    "    print(i)"
   ]
  },
  {
   "cell_type": "code",
   "execution_count": 82,
   "id": "44fbc8bd",
   "metadata": {},
   "outputs": [
    {
     "data": {
      "text/plain": [
       "False"
      ]
     },
     "execution_count": 82,
     "metadata": {},
     "output_type": "execute_result"
    }
   ],
   "source": [
    "4 in l1"
   ]
  },
  {
   "cell_type": "code",
   "execution_count": 83,
   "id": "598dcb75",
   "metadata": {},
   "outputs": [
    {
     "data": {
      "text/plain": [
       "True"
      ]
     },
     "execution_count": 83,
     "metadata": {},
     "output_type": "execute_result"
    }
   ],
   "source": [
    "[4,5] in l1"
   ]
  },
  {
   "cell_type": "code",
   "execution_count": 84,
   "id": "caf8e30a",
   "metadata": {},
   "outputs": [],
   "source": [
    "#functions"
   ]
  },
  {
   "cell_type": "code",
   "execution_count": 85,
   "id": "e0331839",
   "metadata": {},
   "outputs": [
    {
     "data": {
      "text/plain": [
       "[1, 2, 3, 4, 5]"
      ]
     },
     "execution_count": 85,
     "metadata": {},
     "output_type": "execute_result"
    }
   ],
   "source": [
    "l"
   ]
  },
  {
   "cell_type": "code",
   "execution_count": 86,
   "id": "5859db86",
   "metadata": {},
   "outputs": [
    {
     "data": {
      "text/plain": [
       "5"
      ]
     },
     "execution_count": 86,
     "metadata": {},
     "output_type": "execute_result"
    }
   ],
   "source": [
    "len(l)"
   ]
  },
  {
   "cell_type": "code",
   "execution_count": 87,
   "id": "97e20101",
   "metadata": {},
   "outputs": [
    {
     "data": {
      "text/plain": [
       "1"
      ]
     },
     "execution_count": 87,
     "metadata": {},
     "output_type": "execute_result"
    }
   ],
   "source": [
    "min(l)"
   ]
  },
  {
   "cell_type": "code",
   "execution_count": 88,
   "id": "08019cc4",
   "metadata": {},
   "outputs": [
    {
     "data": {
      "text/plain": [
       "5"
      ]
     },
     "execution_count": 88,
     "metadata": {},
     "output_type": "execute_result"
    }
   ],
   "source": [
    "max(l)"
   ]
  },
  {
   "cell_type": "code",
   "execution_count": 89,
   "id": "b3f4fb77",
   "metadata": {},
   "outputs": [
    {
     "data": {
      "text/plain": [
       "[1, 2, 3, 4, 5]"
      ]
     },
     "execution_count": 89,
     "metadata": {},
     "output_type": "execute_result"
    }
   ],
   "source": [
    "sorted(l)"
   ]
  },
  {
   "cell_type": "code",
   "execution_count": 90,
   "id": "28727d44",
   "metadata": {},
   "outputs": [
    {
     "data": {
      "text/plain": [
       "[5, 4, 3, 2, 1]"
      ]
     },
     "execution_count": 90,
     "metadata": {},
     "output_type": "execute_result"
    }
   ],
   "source": [
    "sorted(l,reverse=True)"
   ]
  },
  {
   "cell_type": "code",
   "execution_count": 91,
   "id": "e6ba0152",
   "metadata": {},
   "outputs": [
    {
     "data": {
      "text/plain": [
       "[1, 2, 3, 4, 5]"
      ]
     },
     "execution_count": 91,
     "metadata": {},
     "output_type": "execute_result"
    }
   ],
   "source": [
    "l"
   ]
  },
  {
   "cell_type": "code",
   "execution_count": 92,
   "id": "0ce625dd",
   "metadata": {},
   "outputs": [
    {
     "data": {
      "text/plain": [
       "[1, 2, 3, 4, 5]"
      ]
     },
     "execution_count": 92,
     "metadata": {},
     "output_type": "execute_result"
    }
   ],
   "source": [
    "l.sort()\n",
    "l"
   ]
  },
  {
   "cell_type": "code",
   "execution_count": 94,
   "id": "bfe7c21e",
   "metadata": {},
   "outputs": [
    {
     "data": {
      "text/plain": [
       "[5, 4, 3, 2, 1]"
      ]
     },
     "execution_count": 94,
     "metadata": {},
     "output_type": "execute_result"
    }
   ],
   "source": [
    "l.sort(reverse=True)\n",
    "l"
   ]
  },
  {
   "cell_type": "code",
   "execution_count": 95,
   "id": "586651fb",
   "metadata": {},
   "outputs": [
    {
     "data": {
      "text/plain": [
       "[5, 4, 3, 2, 1]"
      ]
     },
     "execution_count": 95,
     "metadata": {},
     "output_type": "execute_result"
    }
   ],
   "source": [
    "l"
   ]
  },
  {
   "cell_type": "code",
   "execution_count": 97,
   "id": "8f2ee4b0",
   "metadata": {},
   "outputs": [
    {
     "data": {
      "text/plain": [
       "2"
      ]
     },
     "execution_count": 97,
     "metadata": {},
     "output_type": "execute_result"
    }
   ],
   "source": [
    "l.index(3)"
   ]
  },
  {
   "cell_type": "code",
   "execution_count": 98,
   "id": "2814e022",
   "metadata": {},
   "outputs": [
    {
     "data": {
      "text/plain": [
       "'How Are You'"
      ]
     },
     "execution_count": 98,
     "metadata": {},
     "output_type": "execute_result"
    }
   ],
   "source": [
    "sample = \"how are you\"\n",
    "sample.title()"
   ]
  },
  {
   "cell_type": "code",
   "execution_count": 99,
   "id": "7cc00925",
   "metadata": {},
   "outputs": [
    {
     "data": {
      "text/plain": [
       "'how are you'"
      ]
     },
     "execution_count": 99,
     "metadata": {},
     "output_type": "execute_result"
    }
   ],
   "source": [
    "sample"
   ]
  },
  {
   "cell_type": "code",
   "execution_count": 100,
   "id": "bf8d31d6",
   "metadata": {},
   "outputs": [
    {
     "name": "stdout",
     "output_type": "stream",
     "text": [
      "['how', 'are', 'you']\n"
     ]
    }
   ],
   "source": [
    "print(sample.split())"
   ]
  },
  {
   "cell_type": "code",
   "execution_count": 101,
   "id": "78613fbc",
   "metadata": {},
   "outputs": [
    {
     "name": "stdout",
     "output_type": "stream",
     "text": [
      "How\n",
      "Are\n",
      "You\n"
     ]
    }
   ],
   "source": [
    "for i in sample.split():\n",
    "    print(i.capitalize())"
   ]
  },
  {
   "cell_type": "code",
   "execution_count": 105,
   "id": "eaab7871",
   "metadata": {},
   "outputs": [
    {
     "name": "stdout",
     "output_type": "stream",
     "text": [
      "How\n",
      "Are\n",
      "You\n",
      "['How', 'Are', 'You']\n",
      "How Are You\n"
     ]
    }
   ],
   "source": [
    "l=[]\n",
    "for i in sample.split():\n",
    "    print(i.capitalize())\n",
    "    l.append(i.capitalize())\n",
    "print(l)\n",
    "print(\" \".join(l))"
   ]
  },
  {
   "cell_type": "code",
   "execution_count": 106,
   "id": "d71cd362",
   "metadata": {},
   "outputs": [],
   "source": [
    "#shivam@gmail.com\n",
    "#shivam"
   ]
  },
  {
   "cell_type": "code",
   "execution_count": 107,
   "id": "4ad20800",
   "metadata": {},
   "outputs": [
    {
     "name": "stdout",
     "output_type": "stream",
     "text": [
      "shivam\n"
     ]
    }
   ],
   "source": [
    "sample1 =\"shivam@gmail.com\"\n",
    "print(sample1[:sample1.find('@')])"
   ]
  },
  {
   "cell_type": "code",
   "execution_count": 108,
   "id": "774b8e8f",
   "metadata": {},
   "outputs": [],
   "source": [
    "#[1,1,2,2,3,3,4,4,5,5]\n",
    "#[1,2,3,4,5]"
   ]
  },
  {
   "cell_type": "code",
   "execution_count": 113,
   "id": "59fb3348",
   "metadata": {},
   "outputs": [
    {
     "name": "stdout",
     "output_type": "stream",
     "text": [
      "5\n"
     ]
    }
   ],
   "source": [
    "l1=[1,1,2,2,3,3,4,4,5,5]\n",
    "l2=[1,2,3,1]\n",
    "l=[]\n",
    "for i in l1:\n",
    "    if i not in l:\n",
    "        l.append(i)\n",
    "print(i)"
   ]
  },
  {
   "cell_type": "code",
   "execution_count": null,
   "id": "437b50a4",
   "metadata": {},
   "outputs": [],
   "source": []
  }
 ],
 "metadata": {
  "kernelspec": {
   "display_name": "Python 3 (ipykernel)",
   "language": "python",
   "name": "python3"
  },
  "language_info": {
   "codemirror_mode": {
    "name": "ipython",
    "version": 3
   },
   "file_extension": ".py",
   "mimetype": "text/x-python",
   "name": "python",
   "nbconvert_exporter": "python",
   "pygments_lexer": "ipython3",
   "version": "3.9.12"
  }
 },
 "nbformat": 4,
 "nbformat_minor": 5
}
