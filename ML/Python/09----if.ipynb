{
 "cells": [
  {
   "cell_type": "code",
   "execution_count": 1,
   "id": "981ec060",
   "metadata": {},
   "outputs": [
    {
     "name": "stdout",
     "output_type": "stream",
     "text": [
      "line1\n",
      "line2\n",
      "line5\n"
     ]
    }
   ],
   "source": [
    "name =\"abc\"\n",
    "if name == \"abc\":\n",
    "    print(\"line1\")\n",
    "    print('line2')\n",
    "    if 5==5:\n",
    "        print('line5')\n",
    "else:\n",
    "    print(\"line3\")"
   ]
  },
  {
   "cell_type": "code",
   "execution_count": null,
   "id": "90646a27",
   "metadata": {},
   "outputs": [],
   "source": []
  }
 ],
 "metadata": {
  "kernelspec": {
   "display_name": "Python 3 (ipykernel)",
   "language": "python",
   "name": "python3"
  },
  "language_info": {
   "codemirror_mode": {
    "name": "ipython",
    "version": 3
   },
   "file_extension": ".py",
   "mimetype": "text/x-python",
   "name": "python",
   "nbconvert_exporter": "python",
   "pygments_lexer": "ipython3",
   "version": "3.9.12"
  }
 },
 "nbformat": 4,
 "nbformat_minor": 5
}
