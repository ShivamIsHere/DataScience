{
 "cells": [
  {
   "cell_type": "code",
   "execution_count": 1,
   "id": "2477b22c",
   "metadata": {},
   "outputs": [],
   "source": [
    "#MODULES\n",
    "# consider a module to be teh same as a code library\n",
    "# -->A file containing a set of function you want to include in your application\n",
    "# Example of python modules\n",
    "# -->Math\n",
    "# -->Random\n",
    "# -->Os\n",
    "# -->Time"
   ]
  },
  {
   "cell_type": "code",
   "execution_count": 2,
   "id": "24565b75",
   "metadata": {},
   "outputs": [
    {
     "name": "stdout",
     "output_type": "stream",
     "text": [
      "\n",
      "Please wait a moment while I gather a list of all available modules...\n",
      "\n"
     ]
    },
    {
     "name": "stderr",
     "output_type": "stream",
     "text": [
      "C:\\ProgramData\\Anaconda3\\lib\\pkgutil.py:93: UserWarning: The numpy.array_api submodule is still experimental. See NEP 47.\n",
      "  __import__(info.name)\n",
      "C:\\ProgramData\\Anaconda3\\lib\\site-packages\\_distutils_hack\\__init__.py:30: UserWarning: Setuptools is replacing distutils.\n",
      "  warnings.warn(\"Setuptools is replacing distutils.\")\n",
      "C:\\ProgramData\\Anaconda3\\lib\\site-packages\\scipy\\__init__.py:146: UserWarning: A NumPy version >=1.16.5 and <1.23.0 is required for this version of SciPy (detected version 1.23.1\n",
      "  warnings.warn(f\"A NumPy version >={np_minversion} and <{np_maxversion}\"\n",
      "WARNING: AstropyDeprecationWarning: The private astropy._erfa module has been made into its own package, pyerfa, which is a dependency of astropy and can be imported directly using \"import erfa\" [astropy._erfa]\n",
      "C:\\ProgramData\\Anaconda3\\lib\\site-packages\\nltk\\twitter\\__init__.py:20: UserWarning: The twython library has not been installed. Some functionality from the twitter package will not be available.\n",
      "  warnings.warn(\n",
      "No QCoreApplication instance found. Application patches not applied. You have to call load_stylesheet function after instantiation of QApplication to take effect. \n",
      "C:\\ProgramData\\Anaconda3\\lib\\pkgutil.py:108: VisibleDeprecationWarning:\n",
      "\n",
      "zmq.eventloop.minitornado is deprecated in pyzmq 14.0 and will be removed.\n",
      "    Install tornado itself to use zmq with the tornado IOLoop.\n",
      "    \n",
      "\n"
     ]
    },
    {
     "name": "stdout",
     "output_type": "stream",
     "text": [
      "Cython              commctrl            mmap                sndhdr\n",
      "IPython             compileall          mmapfile            sniffio\n",
      "OpenSSL             comtypes            mmsystem            snowballstemmer\n",
      "PIL                 concurrent          mock                socket\n",
      "PyQt5               conda               modulefinder        socketserver\n",
      "TBB                 conda_build         mpmath              socks\n",
      "__future__          conda_content_trust msgpack             sockshandler\n",
      "_abc                conda_env           msilib              sortedcollections\n",
      "_aix_support        conda_pack          msvcrt              sortedcontainers\n",
      "_argon2_cffi_bindings conda_package_handling multidict           soupsieve\n",
      "_ast                conda_token         multipledispatch    sphinx\n",
      "_asyncio            conda_verify        multiprocessing     spyder\n",
      "_bisect             configparser        munkres             spyder_kernels\n",
      "_black_version      constantly          mypy_extensions     sqlalchemy\n",
      "_blake2             contextlib          nacl                sqlite3\n",
      "_bootlocale         contextvars         navigator_updater   sre_compile\n",
      "_bootsubprocess     cookiecutter        nbclassic           sre_constants\n",
      "_bz2                copy                nbclient            sre_parse\n",
      "_cffi_backend       copyreg             nbconvert           ssl\n",
      "_codecs             crypt               nbformat            sspi\n",
      "_codecs_cn          cryptography        nest_asyncio        sspicon\n",
      "_codecs_hk          cssselect           netbios             stack_data\n",
      "_codecs_iso2022     csv                 netrc               stat\n",
      "_codecs_jp          ctypes              networkx            statistics\n",
      "_codecs_kr          curl                nltk                statsmodels\n",
      "_codecs_tw          curses              nntplib             string\n",
      "_collections        cwp                 nose                stringprep\n",
      "_collections_abc    cycler              notebook            struct\n",
      "_compat_pickle      cython              nt                  subprocess\n",
      "_compression        cytoolz             ntpath              sunau\n",
      "_contextvars        daal4py             ntsecuritycon       symbol\n",
      "_csv                dask                nturl2path          sympy\n",
      "_ctypes             dataclasses         numba               symtable\n",
      "_ctypes_test        datashader          numbergen           sys\n",
      "_datetime           datashape           numbers             sysconfig\n",
      "_decimal            datetime            numexpr             tables\n",
      "_distutils_hack     dateutil            numpy               tabnanny\n",
      "_elementtree        dbi                 numpydoc            tabulate\n",
      "_functools          dbm                 odbc                tarfile\n",
      "_hashlib            dde                 olefile             tbb\n",
      "_heapq              debugpy             onedal              tblib\n",
      "_imp                decimal             opcode              telnetlib\n",
      "_io                 decorator           openpyxl            tempfile\n",
      "_json               defusedxml          operator            tenacity\n",
      "_locale             diff_match_patch    optparse            terminado\n",
      "_lsprof             difflib             os                  test\n",
      "_lzma               dis                 packaging           test_pycosat\n",
      "_markupbase         distributed         pandas              testpath\n",
      "_md5                distutils           pandocfilters       text_unidecode\n",
      "_msi                doctest             panel               textdistance\n",
      "_multibytecodec     docutils            param               textwrap\n",
      "_multiprocessing    email               paramiko            this\n",
      "_nsis               encodings           parsel              threading\n",
      "_opcode             ensurepip           parser              threadpoolctl\n",
      "_operator           entrypoints         parso               three_merge\n",
      "_osx_support        enum                partd               tifffile\n",
      "_overlapped         erfa                past                time\n",
      "_peg_parser         errno               pathlib             timeit\n",
      "_pickle             et_xmlfile          pathspec            timer\n",
      "_plotly_future_     executing           patsy               tinycss\n",
      "_plotly_utils       fastjsonschema      pdb                 tkinter\n",
      "_py_abc             faulthandler        pep8                tldextract\n",
      "_pydecimal          filecmp             perfmon             tlz\n",
      "_pyio               fileinput           pexpect             token\n",
      "_pyrsistent_version filelock            pickle              tokenize\n",
      "_pytest             flake8              pickleshare         toml\n",
      "_queue              flask               pickletools         tomli\n",
      "_random             fnmatch             pip                 toolz\n",
      "_sha1               fontTools           pipes               tornado\n",
      "_sha256             formatter           pkg_resources       tqdm\n",
      "_sha3               fractions           pkginfo             trace\n",
      "_sha512             frozenlist          pkgutil             traceback\n",
      "_signal             fsspec              platform            tracemalloc\n",
      "_sitebuiltins       ftplib              plistlib            traitlets\n",
      "_socket             functools           plotly              tty\n",
      "_sqlite3            future              pluggy              turtle\n",
      "_sre                gc                  ply                 turtledemo\n",
      "_ssl                genericpath         poplib              twisted\n",
      "_stat               gensim              posixpath           typed_ast\n",
      "_statistics         getopt              poyo                types\n",
      "_string             getpass             pprint              typing\n",
      "_strptime           gettext             profile             typing_extensions\n",
      "_struct             glob                prometheus_client   ujson\n",
      "_symtable           glob2               prompt_toolkit      unicodedata\n",
      "_system_path        google_crc32c       protego             unidecode\n",
      "_testbuffer         graphlib            pstats              unittest\n",
      "_testcapi           greenlet            psutil              urllib\n",
      "_testconsole        grpc                pty                 urllib3\n",
      "_testimportmultiple gzip                ptyprocess          uu\n",
      "_testinternalcapi   h5py                pure_eval           uuid\n",
      "_testmultiphase     hamcrest            pvectorc            venv\n",
      "_thread             hashlib             py                  w3lib\n",
      "_threading_local    heapdict            py_compile          warnings\n",
      "_tkinter            heapq               pyasn1              watchdog\n",
      "_tracemalloc        hmac                pyasn1_modules      wave\n",
      "_uuid               holoviews           pyclbr              wcwidth\n",
      "_warnings           html                pycodestyle         weakref\n",
      "_weakref            http                pycosat             webbrowser\n",
      "_weakrefset         hvplot              pycparser           webencodings\n",
      "_win32sysloader     hyperlink           pyct                websocket\n",
      "_winapi             idlelib             pycurl              werkzeug\n",
      "_winxptheme         idna                pydispatch          wheel\n",
      "_xxsubinterpreters  imagecodecs         pydoc               widgetsnbextension\n",
      "_yaml               imageio             pydoc_data          win2kras\n",
      "_zoneinfo           imagesize           pydocstyle          win32api\n",
      "abc                 imaplib             pyexpat             win32clipboard\n",
      "adodbapi            imghdr              pyflakes            win32com\n",
      "afxres              imp                 pygments            win32con\n",
      "aifc                import_ipynb        pylab               win32console\n",
      "aiohttp             importlib           pylint              win32cred\n",
      "aiosignal           importlib_metadata  pyls_spyder         win32crypt\n",
      "alabaster           incremental         pylsp               win32cryptcon\n",
      "anaconda_navigator  inflection          pylsp_black         win32ctypes\n",
      "anaconda_project    iniconfig           pylsp_jsonrpc       win32event\n",
      "antigravity         inspect             pyodbc              win32evtlog\n",
      "anyio               intake              pyparsing           win32evtlogutil\n",
      "appdirs             intervaltree        pyreadline          win32file\n",
      "argon2              io                  pyrsistent          win32gui\n",
      "argparse            ipaddress           pytest              win32gui_struct\n",
      "array               ipykernel           pythoncom           win32help\n",
      "arrow               ipykernel_launcher  pytz                win32inet\n",
      "ast                 ipython_genutils    pyviz_comms         win32inetcon\n",
      "astroid             ipywidgets          pywin               win32job\n",
      "astropy             isapi               pywin32_bootstrap   win32lz\n",
      "asttokens           isort               pywin32_testutil    win32net\n",
      "async_timeout       isympy              pywintypes          win32netcon\n",
      "asynchat            itemadapter         pywt                win32pdh\n",
      "asyncio             itemloaders         pyximport           win32pdhquery\n",
      "asyncore            itertools           qdarkstyle          win32pdhutil\n",
      "atexit              itsdangerous        qstylizer           win32pipe\n",
      "atomicwrites        jdcal               qtawesome           win32print\n",
      "attr                jedi                qtconsole           win32process\n",
      "attrs               jinja2              qtpy                win32profile\n",
      "audioop             jinja2_time         queue               win32ras\n",
      "automat             jmespath            queuelib            win32rcparser\n",
      "autopep8            joblib              quopri              win32security\n",
      "babel               json                random              win32service\n",
      "backcall            json5               rasutil             win32serviceutil\n",
      "backports           jsonschema          re                  win32timezone\n",
      "base64              jupyter             readline            win32trace\n",
      "bcrypt              jupyter_client      regcheck            win32traceutil\n",
      "bdb                 jupyter_console     regex               win32transaction\n",
      "binaryornot         jupyter_core        regutil             win32ts\n",
      "binascii            jupyter_server      repo_cli            win32ui\n",
      "binhex              jupyterlab          reprlib             win32uiole\n",
      "binstar_client      jupyterlab_plotly   requests            win32verstamp\n",
      "bisect              jupyterlab_pygments requests_file       win32wnet\n",
      "bitarray            jupyterlab_server   rlcompleter         win_inet_pton\n",
      "bkcharts            jupyterlab_widgets  rope                win_unicode_console\n",
      "black               jupyterthemes       rsa                 wincertstore\n",
      "blackd              jwt                 rtree               winerror\n",
      "bleach              keyring             ruamel_yaml         winioctlcon\n",
      "blib2to3            keyword             run                 winnt\n",
      "bokeh               kiwisolver          runpy               winperf\n",
      "boto3               lazy_object_proxy   s3transfer          winpty\n",
      "botocore            lesscpy             sched               winreg\n",
      "bottleneck          lib2to3             scipy               winsound\n",
      "brotli              libarchive          scrapy              winxpgui\n",
      "bs4                 libfuturize         seaborn             winxptheme\n",
      "builtins            libpasteurize       secrets             wrapt\n",
      "bz2                 lief                select              wsgiref\n",
      "cProfile            linecache           selectors           xarray\n",
      "cachetools          llvmlite            send2trash          xdrlib\n",
      "calendar            locale              service_identity    xlrd\n",
      "certifi             locket              servicemanager      xlsxwriter\n",
      "cffi                logging             setuptools          xlwings\n",
      "cgi                 lxml                shelve              xml\n",
      "cgitb               lzma                shlex               xmlrpc\n",
      "chardet             mailbox             shutil              xxsubtype\n",
      "charset_normalizer  mailcap             signal              yaml\n",
      "chunk               markdown            sip                 yapf\n",
      "click               markupsafe          sipconfig           yapftests\n",
      "cloudpickle         marshal             sipdistutils        yarl\n",
      "clyent              math                site                zict\n",
      "cmath               matplotlib          six                 zipapp\n",
      "cmd                 matplotlib_inline   skimage             zipfile\n",
      "code                mccabe              sklearn             zipimport\n",
      "codecs              menuinst            sklearnex           zipp\n",
      "codeop              mimetypes           slugify             zlib\n",
      "collections         mistune             smart_open          zmq\n",
      "colorama            mkl                 smtpd               zoneinfo\n",
      "colorcet            mkl_fft             smtplib             zope\n",
      "colorsys            mkl_random          snappy              \n",
      "\n",
      "Enter any module name to get more help.  Or, type \"modules spam\" to search\n",
      "for modules whose name or summary contain the string \"spam\".\n",
      "\n"
     ]
    }
   ],
   "source": [
    "help('modules')"
   ]
  },
  {
   "cell_type": "code",
   "execution_count": 3,
   "id": "a9b2026e",
   "metadata": {},
   "outputs": [
    {
     "data": {
      "text/plain": [
       "3.141592653589793"
      ]
     },
     "execution_count": 3,
     "metadata": {},
     "output_type": "execute_result"
    }
   ],
   "source": [
    "import math\n",
    "math.pi"
   ]
  },
  {
   "cell_type": "code",
   "execution_count": 4,
   "id": "1f807bd9",
   "metadata": {},
   "outputs": [
    {
     "data": {
      "text/plain": [
       "2.718281828459045"
      ]
     },
     "execution_count": 4,
     "metadata": {},
     "output_type": "execute_result"
    }
   ],
   "source": [
    "math.e"
   ]
  },
  {
   "cell_type": "code",
   "execution_count": 6,
   "id": "94e1d6ee",
   "metadata": {},
   "outputs": [
    {
     "data": {
      "text/plain": [
       "120"
      ]
     },
     "execution_count": 6,
     "metadata": {},
     "output_type": "execute_result"
    }
   ],
   "source": [
    "math.factorial(5)"
   ]
  },
  {
   "cell_type": "code",
   "execution_count": 8,
   "id": "e0c206ad",
   "metadata": {},
   "outputs": [
    {
     "data": {
      "text/plain": [
       "7"
      ]
     },
     "execution_count": 8,
     "metadata": {},
     "output_type": "execute_result"
    }
   ],
   "source": [
    "import random\n",
    "random.randint(1,10)"
   ]
  },
  {
   "cell_type": "code",
   "execution_count": null,
   "id": "61fb1eec",
   "metadata": {},
   "outputs": [],
   "source": []
  }
 ],
 "metadata": {
  "kernelspec": {
   "display_name": "Python 3 (ipykernel)",
   "language": "python",
   "name": "python3"
  },
  "language_info": {
   "codemirror_mode": {
    "name": "ipython",
    "version": 3
   },
   "file_extension": ".py",
   "mimetype": "text/x-python",
   "name": "python",
   "nbconvert_exporter": "python",
   "pygments_lexer": "ipython3",
   "version": "3.9.12"
  }
 },
 "nbformat": 4,
 "nbformat_minor": 5
}
