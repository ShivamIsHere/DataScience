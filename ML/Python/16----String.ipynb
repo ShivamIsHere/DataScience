{
 "cells": [
  {
   "cell_type": "code",
   "execution_count": 1,
   "id": "2f33adfe",
   "metadata": {},
   "outputs": [],
   "source": [
    "# Strings\n",
    "# Strings are a sequence of unicode characters\n",
    "# -->creating strings\n",
    "# -->Accessing strings\n",
    "# -->adding chars to Strings\n",
    "# -->editing strings\n",
    "# -->deleting strings\n",
    "# -->operations on strings\n",
    "# -->Strings functions"
   ]
  },
  {
   "cell_type": "code",
   "execution_count": 2,
   "id": "208648c6",
   "metadata": {},
   "outputs": [
    {
     "name": "stdout",
     "output_type": "stream",
     "text": [
      "hello\n"
     ]
    }
   ],
   "source": [
    "#creating\n",
    "c=\"hello\"\n",
    "print(c)"
   ]
  },
  {
   "cell_type": "code",
   "execution_count": 3,
   "id": "7f847dfc",
   "metadata": {},
   "outputs": [
    {
     "name": "stdout",
     "output_type": "stream",
     "text": [
      "world\n"
     ]
    }
   ],
   "source": [
    "c='world'\n",
    "print(c)"
   ]
  },
  {
   "cell_type": "code",
   "execution_count": 4,
   "id": "50c3e942",
   "metadata": {},
   "outputs": [
    {
     "data": {
      "text/plain": [
       "\"It's raining outside\""
      ]
     },
     "execution_count": 4,
     "metadata": {},
     "output_type": "execute_result"
    }
   ],
   "source": [
    "\"It's raining outside\""
   ]
  },
  {
   "cell_type": "code",
   "execution_count": 5,
   "id": "cbdd61e8",
   "metadata": {},
   "outputs": [
    {
     "name": "stdout",
     "output_type": "stream",
     "text": [
      "hello\n"
     ]
    }
   ],
   "source": [
    "c='''hello'''\n",
    "print(c)"
   ]
  },
  {
   "cell_type": "code",
   "execution_count": 6,
   "id": "d7723a78",
   "metadata": {},
   "outputs": [
    {
     "name": "stdout",
     "output_type": "stream",
     "text": [
      "Hello\n"
     ]
    }
   ],
   "source": [
    "c=\"\"\"Hello\"\"\"\n",
    "print(c)"
   ]
  },
  {
   "cell_type": "code",
   "execution_count": 7,
   "id": "683e0c47",
   "metadata": {},
   "outputs": [
    {
     "data": {
      "text/plain": [
       "'Hello'"
      ]
     },
     "execution_count": 7,
     "metadata": {},
     "output_type": "execute_result"
    }
   ],
   "source": [
    "c= str(\"Hello\")\n",
    "c"
   ]
  },
  {
   "cell_type": "code",
   "execution_count": 8,
   "id": "a26de4b9",
   "metadata": {},
   "outputs": [
    {
     "name": "stdout",
     "output_type": "stream",
     "text": [
      "Hello\n"
     ]
    }
   ],
   "source": [
    "c= str(\"Hello\")\n",
    "print(c)"
   ]
  },
  {
   "cell_type": "code",
   "execution_count": 9,
   "id": "2e6a50fb",
   "metadata": {},
   "outputs": [
    {
     "name": "stdout",
     "output_type": "stream",
     "text": [
      "hello\n"
     ]
    }
   ],
   "source": [
    "#Accessing of Indexing\n",
    "c=\"hello\"\n",
    "print(c)"
   ]
  },
  {
   "cell_type": "code",
   "execution_count": 10,
   "id": "0282e73d",
   "metadata": {},
   "outputs": [
    {
     "name": "stdout",
     "output_type": "stream",
     "text": [
      "e\n"
     ]
    }
   ],
   "source": [
    "print(c[1])"
   ]
  },
  {
   "cell_type": "code",
   "execution_count": 11,
   "id": "9af32bd6",
   "metadata": {},
   "outputs": [
    {
     "data": {
      "text/plain": [
       "'e'"
      ]
     },
     "execution_count": 11,
     "metadata": {},
     "output_type": "execute_result"
    }
   ],
   "source": [
    "c[1]"
   ]
  },
  {
   "cell_type": "code",
   "execution_count": 12,
   "id": "e46267f3",
   "metadata": {},
   "outputs": [
    {
     "name": "stdout",
     "output_type": "stream",
     "text": [
      "h\n"
     ]
    }
   ],
   "source": [
    "#types of indexing\n",
    "#positive indexing\n",
    "#negative indexing\n",
    "\n",
    "print(c[-5])"
   ]
  },
  {
   "cell_type": "code",
   "execution_count": 13,
   "id": "6dea2722",
   "metadata": {},
   "outputs": [
    {
     "name": "stdout",
     "output_type": "stream",
     "text": [
      "Hello world\n"
     ]
    }
   ],
   "source": [
    "#slicing \n",
    "c=\"Hello world\"\n",
    "print(c)"
   ]
  },
  {
   "cell_type": "code",
   "execution_count": 15,
   "id": "ea15abda",
   "metadata": {},
   "outputs": [
    {
     "name": "stdout",
     "output_type": "stream",
     "text": [
      "Hello\n"
     ]
    }
   ],
   "source": [
    "print(c[0:5])"
   ]
  },
  {
   "cell_type": "code",
   "execution_count": 17,
   "id": "e784d6b3",
   "metadata": {},
   "outputs": [
    {
     "name": "stdout",
     "output_type": "stream",
     "text": [
      "llo world\n"
     ]
    }
   ],
   "source": [
    "print(c[2:])"
   ]
  },
  {
   "cell_type": "code",
   "execution_count": 18,
   "id": "998ea7f6",
   "metadata": {},
   "outputs": [
    {
     "name": "stdout",
     "output_type": "stream",
     "text": [
      "Hello world\n"
     ]
    }
   ],
   "source": [
    "print(c[:])"
   ]
  },
  {
   "cell_type": "code",
   "execution_count": 21,
   "id": "94bfbc29",
   "metadata": {},
   "outputs": [
    {
     "name": "stdout",
     "output_type": "stream",
     "text": [
      "low\n"
     ]
    }
   ],
   "source": [
    "print(c[2:8:2])"
   ]
  },
  {
   "cell_type": "code",
   "execution_count": 22,
   "id": "8f6490ab",
   "metadata": {},
   "outputs": [
    {
     "name": "stdout",
     "output_type": "stream",
     "text": [
      "\n"
     ]
    }
   ],
   "source": [
    "print(c[0:6:-1])"
   ]
  },
  {
   "cell_type": "code",
   "execution_count": 26,
   "id": "e574005f",
   "metadata": {},
   "outputs": [
    {
     "name": "stdout",
     "output_type": "stream",
     "text": [
      "wr\n"
     ]
    }
   ],
   "source": [
    "print(c[-5:-1:2])"
   ]
  },
  {
   "cell_type": "code",
   "execution_count": 27,
   "id": "e781027e",
   "metadata": {},
   "outputs": [
    {
     "name": "stdout",
     "output_type": "stream",
     "text": [
      "drwolH\n"
     ]
    }
   ],
   "source": [
    "print(c[::-2])"
   ]
  },
  {
   "cell_type": "code",
   "execution_count": 28,
   "id": "d122eb37",
   "metadata": {},
   "outputs": [
    {
     "name": "stdout",
     "output_type": "stream",
     "text": [
      "dlro\n"
     ]
    }
   ],
   "source": [
    "print(c[-1:-5:-1])"
   ]
  },
  {
   "cell_type": "code",
   "execution_count": 29,
   "id": "20e83904",
   "metadata": {},
   "outputs": [],
   "source": [
    "#Edit and delete string"
   ]
  },
  {
   "cell_type": "code",
   "execution_count": 30,
   "id": "175dc826",
   "metadata": {},
   "outputs": [
    {
     "name": "stdout",
     "output_type": "stream",
     "text": [
      "hello\n"
     ]
    }
   ],
   "source": [
    "c=\"hello\"\n",
    "print(c)"
   ]
  },
  {
   "cell_type": "code",
   "execution_count": 33,
   "id": "2a5746b9",
   "metadata": {},
   "outputs": [
    {
     "name": "stdout",
     "output_type": "stream",
     "text": [
      "World\n"
     ]
    }
   ],
   "source": [
    "c=\"World\"\n",
    "print(c)    #we can assign a new string to a variable but we cannot edit or add the given string for ex:-"
   ]
  },
  {
   "cell_type": "code",
   "execution_count": 34,
   "id": "888c8cf2",
   "metadata": {},
   "outputs": [
    {
     "ename": "TypeError",
     "evalue": "'str' object does not support item assignment",
     "output_type": "error",
     "traceback": [
      "\u001b[1;31m---------------------------------------------------------------------------\u001b[0m",
      "\u001b[1;31mTypeError\u001b[0m                                 Traceback (most recent call last)",
      "Input \u001b[1;32mIn [34]\u001b[0m, in \u001b[0;36m<cell line: 1>\u001b[1;34m()\u001b[0m\n\u001b[1;32m----> 1\u001b[0m c[\u001b[38;5;241m0\u001b[39m]\u001b[38;5;241m=\u001b[39m\u001b[38;5;124m'\u001b[39m\u001b[38;5;124mx\u001b[39m\u001b[38;5;124m'\u001b[39m\n",
      "\u001b[1;31mTypeError\u001b[0m: 'str' object does not support item assignment"
     ]
    }
   ],
   "source": [
    "c[0]='x'"
   ]
  },
  {
   "cell_type": "code",
   "execution_count": 35,
   "id": "576ea473",
   "metadata": {},
   "outputs": [],
   "source": [
    "del c"
   ]
  },
  {
   "cell_type": "code",
   "execution_count": 36,
   "id": "c35daf07",
   "metadata": {},
   "outputs": [
    {
     "ename": "NameError",
     "evalue": "name 'c' is not defined",
     "output_type": "error",
     "traceback": [
      "\u001b[1;31m---------------------------------------------------------------------------\u001b[0m",
      "\u001b[1;31mNameError\u001b[0m                                 Traceback (most recent call last)",
      "Input \u001b[1;32mIn [36]\u001b[0m, in \u001b[0;36m<cell line: 1>\u001b[1;34m()\u001b[0m\n\u001b[1;32m----> 1\u001b[0m \u001b[38;5;28mprint\u001b[39m(\u001b[43mc\u001b[49m)\n",
      "\u001b[1;31mNameError\u001b[0m: name 'c' is not defined"
     ]
    }
   ],
   "source": [
    "print(c)"
   ]
  },
  {
   "cell_type": "code",
   "execution_count": 37,
   "id": "9352b480",
   "metadata": {},
   "outputs": [
    {
     "name": "stdout",
     "output_type": "stream",
     "text": [
      "hello\n"
     ]
    }
   ],
   "source": [
    "c=\"hello\"\n",
    "print(c)"
   ]
  },
  {
   "cell_type": "code",
   "execution_count": 38,
   "id": "743853b3",
   "metadata": {},
   "outputs": [
    {
     "ename": "TypeError",
     "evalue": "'str' object doesn't support item deletion",
     "output_type": "error",
     "traceback": [
      "\u001b[1;31m---------------------------------------------------------------------------\u001b[0m",
      "\u001b[1;31mTypeError\u001b[0m                                 Traceback (most recent call last)",
      "Input \u001b[1;32mIn [38]\u001b[0m, in \u001b[0;36m<cell line: 1>\u001b[1;34m()\u001b[0m\n\u001b[1;32m----> 1\u001b[0m \u001b[38;5;28;01mdel\u001b[39;00m c[\u001b[38;5;241m0\u001b[39m]\n",
      "\u001b[1;31mTypeError\u001b[0m: 'str' object doesn't support item deletion"
     ]
    }
   ],
   "source": [
    "del c[0]"
   ]
  },
  {
   "cell_type": "code",
   "execution_count": 39,
   "id": "9a562814",
   "metadata": {},
   "outputs": [
    {
     "ename": "TypeError",
     "evalue": "'str' object does not support item deletion",
     "output_type": "error",
     "traceback": [
      "\u001b[1;31m---------------------------------------------------------------------------\u001b[0m",
      "\u001b[1;31mTypeError\u001b[0m                                 Traceback (most recent call last)",
      "Input \u001b[1;32mIn [39]\u001b[0m, in \u001b[0;36m<cell line: 1>\u001b[1;34m()\u001b[0m\n\u001b[1;32m----> 1\u001b[0m \u001b[38;5;28;01mdel\u001b[39;00m c[:\u001b[38;5;241m3\u001b[39m:\u001b[38;5;241m2\u001b[39m]\n",
      "\u001b[1;31mTypeError\u001b[0m: 'str' object does not support item deletion"
     ]
    }
   ],
   "source": [
    "del c[:3:2]"
   ]
  },
  {
   "cell_type": "code",
   "execution_count": 40,
   "id": "cdea125f",
   "metadata": {},
   "outputs": [
    {
     "ename": "SyntaxError",
     "evalue": "invalid syntax (2514972918.py, line 1)",
     "output_type": "error",
     "traceback": [
      "\u001b[1;36m  Input \u001b[1;32mIn [40]\u001b[1;36m\u001b[0m\n\u001b[1;33m    Operations on string\u001b[0m\n\u001b[1;37m               ^\u001b[0m\n\u001b[1;31mSyntaxError\u001b[0m\u001b[1;31m:\u001b[0m invalid syntax\n"
     ]
    }
   ],
   "source": [
    "# Operations on string\n",
    "# -->arithmetic operation\n",
    "# -->relational operation\n",
    "# -->logical operations\n",
    "# -->loops on strings\n",
    "# -->membership operations"
   ]
  },
  {
   "cell_type": "code",
   "execution_count": 41,
   "id": "f2454352",
   "metadata": {},
   "outputs": [
    {
     "data": {
      "text/plain": [
       "'HelloWorld'"
      ]
     },
     "execution_count": 41,
     "metadata": {},
     "output_type": "execute_result"
    }
   ],
   "source": [
    "\"Hello\" + \"World\""
   ]
  },
  {
   "cell_type": "code",
   "execution_count": 42,
   "id": "ffa8a88f",
   "metadata": {},
   "outputs": [
    {
     "name": "stdout",
     "output_type": "stream",
     "text": [
      "**************************************************\n"
     ]
    }
   ],
   "source": [
    "print(\"*\"*50)"
   ]
  },
  {
   "cell_type": "code",
   "execution_count": 43,
   "id": "8969a02b",
   "metadata": {},
   "outputs": [
    {
     "name": "stdout",
     "output_type": "stream",
     "text": [
      "HelloHelloHelloHello\n"
     ]
    }
   ],
   "source": [
    "print(\"Hello\"*4)"
   ]
  },
  {
   "cell_type": "code",
   "execution_count": 44,
   "id": "9fa605bf",
   "metadata": {},
   "outputs": [
    {
     "data": {
      "text/plain": [
       "False"
      ]
     },
     "execution_count": 44,
     "metadata": {},
     "output_type": "execute_result"
    }
   ],
   "source": [
    "\"Hello\" == \"World\""
   ]
  },
  {
   "cell_type": "code",
   "execution_count": 45,
   "id": "4b926e80",
   "metadata": {},
   "outputs": [
    {
     "data": {
      "text/plain": [
       "True"
      ]
     },
     "execution_count": 45,
     "metadata": {},
     "output_type": "execute_result"
    }
   ],
   "source": [
    "\"Hello\" != \"World\""
   ]
  },
  {
   "cell_type": "code",
   "execution_count": 46,
   "id": "de3a74d6",
   "metadata": {},
   "outputs": [
    {
     "data": {
      "text/plain": [
       "False"
      ]
     },
     "execution_count": 46,
     "metadata": {},
     "output_type": "execute_result"
    }
   ],
   "source": [
    "\"Mumbai\">\"pune\"\n",
    "#Lexiographically"
   ]
  },
  {
   "cell_type": "code",
   "execution_count": 47,
   "id": "ce47c8da",
   "metadata": {},
   "outputs": [
    {
     "data": {
      "text/plain": [
       "True"
      ]
     },
     "execution_count": 47,
     "metadata": {},
     "output_type": "execute_result"
    }
   ],
   "source": [
    "\"Goa\" < \"Kolkata\""
   ]
  },
  {
   "cell_type": "code",
   "execution_count": 48,
   "id": "e18aa9bc",
   "metadata": {},
   "outputs": [
    {
     "data": {
      "text/plain": [
       "False"
      ]
     },
     "execution_count": 48,
     "metadata": {},
     "output_type": "execute_result"
    }
   ],
   "source": [
    "\"kol\" < \"Kol\""
   ]
  },
  {
   "cell_type": "code",
   "execution_count": 49,
   "id": "d03bffb0",
   "metadata": {},
   "outputs": [
    {
     "data": {
      "text/plain": [
       "'world'"
      ]
     },
     "execution_count": 49,
     "metadata": {},
     "output_type": "execute_result"
    }
   ],
   "source": [
    "\"hello\" and \"world\""
   ]
  },
  {
   "cell_type": "code",
   "execution_count": 50,
   "id": "6a687bb6",
   "metadata": {},
   "outputs": [
    {
     "ename": "SyntaxError",
     "evalue": "invalid syntax (1760138984.py, line 1)",
     "output_type": "error",
     "traceback": [
      "\u001b[1;36m  Input \u001b[1;32mIn [50]\u001b[1;36m\u001b[0m\n\u001b[1;33m    \"\"-->false\u001b[0m\n\u001b[1;37m       ^\u001b[0m\n\u001b[1;31mSyntaxError\u001b[0m\u001b[1;31m:\u001b[0m invalid syntax\n"
     ]
    }
   ],
   "source": [
    "\"\"-->false   #python empty ko false btata h or not empty ko true btata h\n",
    "\"djydkf\"-->true"
   ]
  },
  {
   "cell_type": "code",
   "execution_count": 51,
   "id": "a2060074",
   "metadata": {},
   "outputs": [
    {
     "data": {
      "text/plain": [
       "''"
      ]
     },
     "execution_count": 51,
     "metadata": {},
     "output_type": "execute_result"
    }
   ],
   "source": [
    "\"\" and \"hello\""
   ]
  },
  {
   "cell_type": "code",
   "execution_count": 52,
   "id": "06910d97",
   "metadata": {},
   "outputs": [
    {
     "data": {
      "text/plain": [
       "'world'"
      ]
     },
     "execution_count": 52,
     "metadata": {},
     "output_type": "execute_result"
    }
   ],
   "source": [
    "\"\" or \"world\""
   ]
  },
  {
   "cell_type": "code",
   "execution_count": 53,
   "id": "a0817515",
   "metadata": {},
   "outputs": [
    {
     "data": {
      "text/plain": [
       "False"
      ]
     },
     "execution_count": 53,
     "metadata": {},
     "output_type": "execute_result"
    }
   ],
   "source": [
    "not \"hello\""
   ]
  },
  {
   "cell_type": "code",
   "execution_count": 54,
   "id": "20e2c045",
   "metadata": {},
   "outputs": [
    {
     "data": {
      "text/plain": [
       "True"
      ]
     },
     "execution_count": 54,
     "metadata": {},
     "output_type": "execute_result"
    }
   ],
   "source": [
    "not \"\""
   ]
  },
  {
   "cell_type": "code",
   "execution_count": 58,
   "id": "2032ac66",
   "metadata": {},
   "outputs": [
    {
     "name": "stdout",
     "output_type": "stream",
     "text": [
      "H\n",
      "e\n",
      "l\n",
      "l\n",
      "o\n",
      " \n",
      "w\n",
      "o\n",
      "r\n",
      "l\n",
      "d\n"
     ]
    }
   ],
   "source": [
    "c = \"Hello world\"\n",
    "for i in c:\n",
    "#for i in c[2:7:2]:\n",
    "    print(i)"
   ]
  },
  {
   "cell_type": "code",
   "execution_count": 59,
   "id": "d60e2c24",
   "metadata": {},
   "outputs": [
    {
     "data": {
      "text/plain": [
       "'Hello world'"
      ]
     },
     "execution_count": 59,
     "metadata": {},
     "output_type": "execute_result"
    }
   ],
   "source": [
    "c"
   ]
  },
  {
   "cell_type": "code",
   "execution_count": 60,
   "id": "c6638221",
   "metadata": {},
   "outputs": [
    {
     "data": {
      "text/plain": [
       "False"
      ]
     },
     "execution_count": 60,
     "metadata": {},
     "output_type": "execute_result"
    }
   ],
   "source": [
    "'h' in c"
   ]
  },
  {
   "cell_type": "code",
   "execution_count": 61,
   "id": "8acc1041",
   "metadata": {},
   "outputs": [
    {
     "data": {
      "text/plain": [
       "True"
      ]
     },
     "execution_count": 61,
     "metadata": {},
     "output_type": "execute_result"
    }
   ],
   "source": [
    "'H' in c"
   ]
  },
  {
   "cell_type": "code",
   "execution_count": 62,
   "id": "cea8ebc7",
   "metadata": {},
   "outputs": [
    {
     "data": {
      "text/plain": [
       "False"
      ]
     },
     "execution_count": 62,
     "metadata": {},
     "output_type": "execute_result"
    }
   ],
   "source": [
    "\"world\" not in c"
   ]
  },
  {
   "cell_type": "code",
   "execution_count": 63,
   "id": "4f3f6be9",
   "metadata": {},
   "outputs": [],
   "source": [
    "#common function\n",
    "# -->len\n",
    "# -->max\n",
    "# -->min\n",
    "# -->sorted"
   ]
  },
  {
   "cell_type": "code",
   "execution_count": 64,
   "id": "0943e4b3",
   "metadata": {},
   "outputs": [
    {
     "data": {
      "text/plain": [
       "5"
      ]
     },
     "execution_count": 64,
     "metadata": {},
     "output_type": "execute_result"
    }
   ],
   "source": [
    "c = \"patna\"\n",
    "len(c)"
   ]
  },
  {
   "cell_type": "code",
   "execution_count": 65,
   "id": "afce4092",
   "metadata": {},
   "outputs": [
    {
     "data": {
      "text/plain": [
       "'t'"
      ]
     },
     "execution_count": 65,
     "metadata": {},
     "output_type": "execute_result"
    }
   ],
   "source": [
    "max(c)"
   ]
  },
  {
   "cell_type": "code",
   "execution_count": 66,
   "id": "d090205d",
   "metadata": {},
   "outputs": [
    {
     "data": {
      "text/plain": [
       "'a'"
      ]
     },
     "execution_count": 66,
     "metadata": {},
     "output_type": "execute_result"
    }
   ],
   "source": [
    "min(c)"
   ]
  },
  {
   "cell_type": "code",
   "execution_count": 69,
   "id": "d0744b8b",
   "metadata": {},
   "outputs": [
    {
     "data": {
      "text/plain": [
       "['t', 'p', 'n', 'a', 'a']"
      ]
     },
     "execution_count": 69,
     "metadata": {},
     "output_type": "execute_result"
    }
   ],
   "source": [
    "sorted(c,reverse=True)"
   ]
  },
  {
   "cell_type": "code",
   "execution_count": 68,
   "id": "be4fe81a",
   "metadata": {},
   "outputs": [],
   "source": [
    "#Capitalizeed/title/upper/lower/swapcase"
   ]
  },
  {
   "cell_type": "code",
   "execution_count": 70,
   "id": "e32f1968",
   "metadata": {},
   "outputs": [
    {
     "data": {
      "text/plain": [
       "'patna'"
      ]
     },
     "execution_count": 70,
     "metadata": {},
     "output_type": "execute_result"
    }
   ],
   "source": [
    "c"
   ]
  },
  {
   "cell_type": "code",
   "execution_count": 71,
   "id": "0c42437c",
   "metadata": {},
   "outputs": [
    {
     "data": {
      "text/plain": [
       "'Patna'"
      ]
     },
     "execution_count": 71,
     "metadata": {},
     "output_type": "execute_result"
    }
   ],
   "source": [
    "c.capitalize()  #-->it will turn first letter into capital letter but it won't change the original string"
   ]
  },
  {
   "cell_type": "code",
   "execution_count": 73,
   "id": "e1e6fdc3",
   "metadata": {},
   "outputs": [
    {
     "data": {
      "text/plain": [
       "'It is raining today'"
      ]
     },
     "execution_count": 73,
     "metadata": {},
     "output_type": "execute_result"
    }
   ],
   "source": [
    "\"it is raining today\".capitalize()"
   ]
  },
  {
   "cell_type": "code",
   "execution_count": 74,
   "id": "95eb6500",
   "metadata": {},
   "outputs": [
    {
     "data": {
      "text/plain": [
       "'It Is Raining Today'"
      ]
     },
     "execution_count": 74,
     "metadata": {},
     "output_type": "execute_result"
    }
   ],
   "source": [
    "\"it is raining today\".title()  #--->it will turn all starting word after space into capital letter"
   ]
  },
  {
   "cell_type": "code",
   "execution_count": 78,
   "id": "850beef9",
   "metadata": {},
   "outputs": [
    {
     "data": {
      "text/plain": [
       "'PATNA'"
      ]
     },
     "execution_count": 78,
     "metadata": {},
     "output_type": "execute_result"
    }
   ],
   "source": [
    "c.upper()\n"
   ]
  },
  {
   "cell_type": "code",
   "execution_count": 79,
   "id": "83ea5a75",
   "metadata": {},
   "outputs": [
    {
     "data": {
      "text/plain": [
       "'patna'"
      ]
     },
     "execution_count": 79,
     "metadata": {},
     "output_type": "execute_result"
    }
   ],
   "source": [
    "c.lower()"
   ]
  },
  {
   "cell_type": "code",
   "execution_count": 80,
   "id": "d69c223b",
   "metadata": {},
   "outputs": [
    {
     "data": {
      "text/plain": [
       "'KoLkAtA'"
      ]
     },
     "execution_count": 80,
     "metadata": {},
     "output_type": "execute_result"
    }
   ],
   "source": [
    "\"kOlKaTa\".swapcase()   #--->upper to lower and lower to upper"
   ]
  },
  {
   "cell_type": "code",
   "execution_count": 84,
   "id": "2c706aca",
   "metadata": {},
   "outputs": [
    {
     "data": {
      "text/plain": [
       "1"
      ]
     },
     "execution_count": 84,
     "metadata": {},
     "output_type": "execute_result"
    }
   ],
   "source": [
    "#Count\n",
    "\"it is raining\".count(\"is\")\n",
    "#\"it is raining\".count(\"i\")"
   ]
  },
  {
   "cell_type": "code",
   "execution_count": 85,
   "id": "904d386c",
   "metadata": {},
   "outputs": [
    {
     "data": {
      "text/plain": [
       "4"
      ]
     },
     "execution_count": 85,
     "metadata": {},
     "output_type": "execute_result"
    }
   ],
   "source": [
    "\"it is raining\".count(\"i\")"
   ]
  },
  {
   "cell_type": "code",
   "execution_count": 86,
   "id": "f6d5356e",
   "metadata": {},
   "outputs": [],
   "source": [
    "#Find/index"
   ]
  },
  {
   "cell_type": "code",
   "execution_count": 88,
   "id": "ce95fee9",
   "metadata": {},
   "outputs": [
    {
     "data": {
      "text/plain": [
       "9"
      ]
     },
     "execution_count": 88,
     "metadata": {},
     "output_type": "execute_result"
    }
   ],
   "source": [
    "\"it is raining\".find(\"n\")   #-->it will say the first position of the string"
   ]
  },
  {
   "cell_type": "code",
   "execution_count": 90,
   "id": "0929dcd4",
   "metadata": {},
   "outputs": [
    {
     "data": {
      "text/plain": [
       "-1"
      ]
     },
     "execution_count": 90,
     "metadata": {},
     "output_type": "execute_result"
    }
   ],
   "source": [
    "\"it is raining\".find(\"x\")"
   ]
  },
  {
   "cell_type": "code",
   "execution_count": 91,
   "id": "de85a220",
   "metadata": {},
   "outputs": [
    {
     "ename": "ValueError",
     "evalue": "substring not found",
     "output_type": "error",
     "traceback": [
      "\u001b[1;31m---------------------------------------------------------------------------\u001b[0m",
      "\u001b[1;31mValueError\u001b[0m                                Traceback (most recent call last)",
      "Input \u001b[1;32mIn [91]\u001b[0m, in \u001b[0;36m<cell line: 1>\u001b[1;34m()\u001b[0m\n\u001b[1;32m----> 1\u001b[0m \u001b[38;5;124;43m\"\u001b[39;49m\u001b[38;5;124;43mit is raining\u001b[39;49m\u001b[38;5;124;43m\"\u001b[39;49m\u001b[38;5;241;43m.\u001b[39;49m\u001b[43mindex\u001b[49m\u001b[43m(\u001b[49m\u001b[38;5;124;43m\"\u001b[39;49m\u001b[38;5;124;43mx\u001b[39;49m\u001b[38;5;124;43m\"\u001b[39;49m\u001b[43m)\u001b[49m\n",
      "\u001b[1;31mValueError\u001b[0m: substring not found"
     ]
    }
   ],
   "source": [
    "\"it is raining\".index(\"x\")   #-->prefer find in place of index because if string will not be there \n",
    "                             #than index will through error where as find will give index as -1"
   ]
  },
  {
   "cell_type": "code",
   "execution_count": 92,
   "id": "786b1659",
   "metadata": {},
   "outputs": [],
   "source": [
    "#ends with/starts withs"
   ]
  },
  {
   "cell_type": "code",
   "execution_count": 93,
   "id": "a633fc83",
   "metadata": {},
   "outputs": [
    {
     "data": {
      "text/plain": [
       "False"
      ]
     },
     "execution_count": 93,
     "metadata": {},
     "output_type": "execute_result"
    }
   ],
   "source": [
    "\"it is raining\".endswith(\"it\")"
   ]
  },
  {
   "cell_type": "code",
   "execution_count": 95,
   "id": "cbeaca0e",
   "metadata": {},
   "outputs": [
    {
     "data": {
      "text/plain": [
       "True"
      ]
     },
     "execution_count": 95,
     "metadata": {},
     "output_type": "execute_result"
    }
   ],
   "source": [
    "\"it is raining\".startswith(\"it\")"
   ]
  },
  {
   "cell_type": "code",
   "execution_count": 96,
   "id": "af443f6b",
   "metadata": {},
   "outputs": [],
   "source": [
    "#format"
   ]
  },
  {
   "cell_type": "code",
   "execution_count": 97,
   "id": "e5c56161",
   "metadata": {},
   "outputs": [
    {
     "data": {
      "text/plain": [
       "'hello my nameshivam and my age 30'"
      ]
     },
     "execution_count": 97,
     "metadata": {},
     "output_type": "execute_result"
    }
   ],
   "source": [
    "\"hello my name{} and my age {}\".format(\"shivam\",30)"
   ]
  },
  {
   "cell_type": "code",
   "execution_count": 98,
   "id": "5fcad456",
   "metadata": {},
   "outputs": [
    {
     "data": {
      "text/plain": [
       "'hello my name30 and my age shivam'"
      ]
     },
     "execution_count": 98,
     "metadata": {},
     "output_type": "execute_result"
    }
   ],
   "source": [
    "\"hello my name{1} and my age {0}\".format(\"shivam\",30)"
   ]
  },
  {
   "cell_type": "code",
   "execution_count": 99,
   "id": "b02bb1b6",
   "metadata": {},
   "outputs": [
    {
     "data": {
      "text/plain": [
       "'hello my nameshivam and my age 30'"
      ]
     },
     "execution_count": 99,
     "metadata": {},
     "output_type": "execute_result"
    }
   ],
   "source": [
    "\"hello my name{name} and my age {age}\".format(name=\"shivam\",age=30)"
   ]
  },
  {
   "cell_type": "code",
   "execution_count": 100,
   "id": "92e9a7f6",
   "metadata": {},
   "outputs": [
    {
     "data": {
      "text/plain": [
       "'hello my name30 and my age shivam'"
      ]
     },
     "execution_count": 100,
     "metadata": {},
     "output_type": "execute_result"
    }
   ],
   "source": [
    "\"hello my name{age} and my age {name}\".format(name=\"shivam\",age=30)"
   ]
  },
  {
   "cell_type": "code",
   "execution_count": 101,
   "id": "c81d343a",
   "metadata": {},
   "outputs": [
    {
     "data": {
      "text/plain": [
       "'hello my nameshivam and my age shivam'"
      ]
     },
     "execution_count": 101,
     "metadata": {},
     "output_type": "execute_result"
    }
   ],
   "source": [
    "\"hello my name{name} and my age {name}\".format(name=\"shivam\",age=30)"
   ]
  },
  {
   "cell_type": "code",
   "execution_count": 102,
   "id": "3b724c94",
   "metadata": {},
   "outputs": [],
   "source": [
    "#isalnum/isalpha/isdecimal/isdigit/isidentifier"
   ]
  },
  {
   "cell_type": "code",
   "execution_count": 103,
   "id": "c7667f42",
   "metadata": {},
   "outputs": [
    {
     "data": {
      "text/plain": [
       "True"
      ]
     },
     "execution_count": 103,
     "metadata": {},
     "output_type": "execute_result"
    }
   ],
   "source": [
    "\"Flat20\".isalnum()  #it basically check the given string is alpha or numeric or alpha-numeric "
   ]
  },
  {
   "cell_type": "code",
   "execution_count": 104,
   "id": "97ea94b9",
   "metadata": {},
   "outputs": [
    {
     "data": {
      "text/plain": [
       "True"
      ]
     },
     "execution_count": 104,
     "metadata": {},
     "output_type": "execute_result"
    }
   ],
   "source": [
    "\"Flat\".isalnum()"
   ]
  },
  {
   "cell_type": "code",
   "execution_count": 105,
   "id": "130cc8fc",
   "metadata": {},
   "outputs": [
    {
     "data": {
      "text/plain": [
       "False"
      ]
     },
     "execution_count": 105,
     "metadata": {},
     "output_type": "execute_result"
    }
   ],
   "source": [
    "\"Flat20@\".isalnum()"
   ]
  },
  {
   "cell_type": "code",
   "execution_count": 106,
   "id": "1ddd1236",
   "metadata": {},
   "outputs": [
    {
     "data": {
      "text/plain": [
       "False"
      ]
     },
     "execution_count": 106,
     "metadata": {},
     "output_type": "execute_result"
    }
   ],
   "source": [
    "\"flat20\".isalpha()   #it basically check wheather string is of alphabet"
   ]
  },
  {
   "cell_type": "code",
   "execution_count": 107,
   "id": "22918e12",
   "metadata": {},
   "outputs": [
    {
     "data": {
      "text/plain": [
       "True"
      ]
     },
     "execution_count": 107,
     "metadata": {},
     "output_type": "execute_result"
    }
   ],
   "source": [
    "\"flat\".isalpha()"
   ]
  },
  {
   "cell_type": "code",
   "execution_count": 108,
   "id": "b7575083",
   "metadata": {},
   "outputs": [
    {
     "data": {
      "text/plain": [
       "True"
      ]
     },
     "execution_count": 108,
     "metadata": {},
     "output_type": "execute_result"
    }
   ],
   "source": [
    "\"20\".isdigit()"
   ]
  },
  {
   "cell_type": "code",
   "execution_count": 109,
   "id": "c2c3f715",
   "metadata": {},
   "outputs": [
    {
     "data": {
      "text/plain": [
       "False"
      ]
     },
     "execution_count": 109,
     "metadata": {},
     "output_type": "execute_result"
    }
   ],
   "source": [
    "\"hello world\".isidentifier()"
   ]
  },
  {
   "cell_type": "code",
   "execution_count": 110,
   "id": "bc1e693a",
   "metadata": {},
   "outputs": [
    {
     "data": {
      "text/plain": [
       "True"
      ]
     },
     "execution_count": 110,
     "metadata": {},
     "output_type": "execute_result"
    }
   ],
   "source": [
    "\"hello_world\".isidentifier()"
   ]
  },
  {
   "cell_type": "code",
   "execution_count": 112,
   "id": "c54343c3",
   "metadata": {},
   "outputs": [],
   "source": [
    "#split"
   ]
  },
  {
   "cell_type": "code",
   "execution_count": 113,
   "id": "a87b94c9",
   "metadata": {},
   "outputs": [
    {
     "data": {
      "text/plain": [
       "['who', 'is', 'the', 'pm', 'of', 'india']"
      ]
     },
     "execution_count": 113,
     "metadata": {},
     "output_type": "execute_result"
    }
   ],
   "source": [
    "\"who is the pm of india\".split()"
   ]
  },
  {
   "cell_type": "code",
   "execution_count": 115,
   "id": "9462882a",
   "metadata": {},
   "outputs": [
    {
     "data": {
      "text/plain": [
       "['who ', 's the pm of ', 'nd', 'a']"
      ]
     },
     "execution_count": 115,
     "metadata": {},
     "output_type": "execute_result"
    }
   ],
   "source": [
    "\"who is the pm of india\".split(\"i\")"
   ]
  },
  {
   "cell_type": "code",
   "execution_count": 116,
   "id": "65fc1fc0",
   "metadata": {},
   "outputs": [],
   "source": [
    "#join"
   ]
  },
  {
   "cell_type": "code",
   "execution_count": 117,
   "id": "213fe09d",
   "metadata": {},
   "outputs": [
    {
     "data": {
      "text/plain": [
       "'who is the pm of india'"
      ]
     },
     "execution_count": 117,
     "metadata": {},
     "output_type": "execute_result"
    }
   ],
   "source": [
    "\" \".join(['who', 'is', 'the', 'pm', 'of', 'india'])"
   ]
  },
  {
   "cell_type": "code",
   "execution_count": 118,
   "id": "658f1165",
   "metadata": {},
   "outputs": [
    {
     "data": {
      "text/plain": [
       "'who-is-the-pm-of-india'"
      ]
     },
     "execution_count": 118,
     "metadata": {},
     "output_type": "execute_result"
    }
   ],
   "source": [
    "\"-\".join(['who', 'is', 'the', 'pm', 'of', 'india'])"
   ]
  },
  {
   "cell_type": "code",
   "execution_count": 119,
   "id": "e793ef47",
   "metadata": {},
   "outputs": [],
   "source": [
    "#Replace"
   ]
  },
  {
   "cell_type": "code",
   "execution_count": 120,
   "id": "d0179b55",
   "metadata": {},
   "outputs": [
    {
     "data": {
      "text/plain": [
       "'hi my name is shivansh'"
      ]
     },
     "execution_count": 120,
     "metadata": {},
     "output_type": "execute_result"
    }
   ],
   "source": [
    "\"hi my name is shivam\".replace(\"shivam\",\"shivansh\")"
   ]
  },
  {
   "cell_type": "code",
   "execution_count": 121,
   "id": "a3837872",
   "metadata": {},
   "outputs": [],
   "source": [
    "#strip"
   ]
  },
  {
   "cell_type": "code",
   "execution_count": 122,
   "id": "ff6ae84f",
   "metadata": {},
   "outputs": [
    {
     "data": {
      "text/plain": [
       "'                                    shivam                    '"
      ]
     },
     "execution_count": 122,
     "metadata": {},
     "output_type": "execute_result"
    }
   ],
   "source": [
    "name = \"                                    shivam                    \"\n",
    "name\n"
   ]
  },
  {
   "cell_type": "code",
   "execution_count": 123,
   "id": "a741badb",
   "metadata": {},
   "outputs": [
    {
     "data": {
      "text/plain": [
       "'hi                                    shivam                    '"
      ]
     },
     "execution_count": 123,
     "metadata": {},
     "output_type": "execute_result"
    }
   ],
   "source": [
    "\"hi\"+name"
   ]
  },
  {
   "cell_type": "code",
   "execution_count": 125,
   "id": "fe86ed96",
   "metadata": {},
   "outputs": [
    {
     "data": {
      "text/plain": [
       "'shivam'"
      ]
     },
     "execution_count": 125,
     "metadata": {},
     "output_type": "execute_result"
    }
   ],
   "source": [
    "name.strip() #-->it will remove all extra spaces from start and end"
   ]
  }
 ],
 "metadata": {
  "kernelspec": {
   "display_name": "Python 3 (ipykernel)",
   "language": "python",
   "name": "python3"
  },
  "language_info": {
   "codemirror_mode": {
    "name": "ipython",
    "version": 3
   },
   "file_extension": ".py",
   "mimetype": "text/x-python",
   "name": "python",
   "nbconvert_exporter": "python",
   "pygments_lexer": "ipython3",
   "version": "3.9.12"
  }
 },
 "nbformat": 4,
 "nbformat_minor": 5
}
