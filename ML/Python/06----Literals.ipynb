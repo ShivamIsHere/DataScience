{
 "cells": [
  {
   "cell_type": "code",
   "execution_count": 1,
   "id": "eff025e9",
   "metadata": {},
   "outputs": [],
   "source": [
    "# Literals-->raw data given in a variable\n",
    "# -->numeric literals\n",
    "# -->string literals\n",
    "# -->boolean literals\n",
    "# -->special literals "
   ]
  },
  {
   "cell_type": "code",
   "execution_count": 2,
   "id": "b5e6b4b8",
   "metadata": {},
   "outputs": [
    {
     "name": "stdout",
     "output_type": "stream",
     "text": [
      "10 100 200 300\n",
      "10.5 150.0 0.0015\n",
      "3.14j 3.14 0.0\n"
     ]
    }
   ],
   "source": [
    "a=0b1010   #binary literals\n",
    "b=100 #decimal literals\n",
    "c= 0o310  #octal liberals\n",
    "d=0x12c  #hexadecimal literals\n",
    "\n",
    "\n",
    "#float literals\n",
    "float_1 = 10.5\n",
    "float_2= 1.5e2\n",
    "float_3 = 1.5e-3\n",
    "\n",
    "#complex literals\n",
    "x=3.14j\n",
    "\n",
    "\n",
    "print(a,b,c,d)\n",
    "print(float_1,float_2,float_3)\n",
    "print(x,x.imag,x.real)"
   ]
  },
  {
   "cell_type": "code",
   "execution_count": 6,
   "id": "cad585bb",
   "metadata": {},
   "outputs": [
    {
     "name": "stdout",
     "output_type": "stream",
     "text": [
      "This is python\n",
      "this is python\n",
      "C\n",
      "this is a multiline string\n",
      "😀😆🤣\n",
      "raw \\n string\n"
     ]
    }
   ],
   "source": [
    "string ='This is python'\n",
    "strings = \"this is python\"\n",
    "char =\"C\"\n",
    "multiline_str=\"\"\"this is a multiline string\"\"\"\n",
    "unicode = u\"\\U0001f600\\U0001F606\\U0001F923\"\n",
    "raw_str = r\"raw \\n string\"\n",
    "\n",
    "\n",
    "\n",
    "print(string)\n",
    "print(strings)\n",
    "print(char)\n",
    "print(multiline_str)\n",
    "print(unicode)\n",
    "print(raw_str)"
   ]
  },
  {
   "cell_type": "code",
   "execution_count": 7,
   "id": "131da550",
   "metadata": {},
   "outputs": [
    {
     "name": "stdout",
     "output_type": "stream",
     "text": [
      "a: 6\n",
      "b: 10\n"
     ]
    }
   ],
   "source": [
    "#Boolean Literals\n",
    "a=True+5\n",
    "b=False+10\n",
    "\n",
    "print(\"a:\",a)\n",
    "print(\"b:\",b)"
   ]
  },
  {
   "cell_type": "code",
   "execution_count": 8,
   "id": "6ace199a",
   "metadata": {},
   "outputs": [
    {
     "name": "stdout",
     "output_type": "stream",
     "text": [
      "None\n"
     ]
    }
   ],
   "source": [
    "#Special literals\n",
    "a=None\n",
    "print(a)"
   ]
  },
  {
   "cell_type": "code",
   "execution_count": 9,
   "id": "9755819e",
   "metadata": {},
   "outputs": [],
   "source": [
    "a"
   ]
  },
  {
   "cell_type": "code",
   "execution_count": null,
   "id": "50e1ec36",
   "metadata": {},
   "outputs": [],
   "source": []
  }
 ],
 "metadata": {
  "kernelspec": {
   "display_name": "Python 3 (ipykernel)",
   "language": "python",
   "name": "python3"
  },
  "language_info": {
   "codemirror_mode": {
    "name": "ipython",
    "version": 3
   },
   "file_extension": ".py",
   "mimetype": "text/x-python",
   "name": "python",
   "nbconvert_exporter": "python",
   "pygments_lexer": "ipython3",
   "version": "3.9.12"
  }
 },
 "nbformat": 4,
 "nbformat_minor": 5
}
