{
 "cells": [
  {
   "cell_type": "code",
   "execution_count": null,
   "id": "e5a47566",
   "metadata": {},
   "outputs": [],
   "source": [
    "# JIT University offering degree courses to students has decided to provide scholarship based on the following details:\n",
    "# Branch of study\n",
    "# Score (%)\n",
    "# Scholarship %\n",
    "# Remarks\n",
    "# Arts\n",
    "# Score is at least 90\n",
    "# 50\n",
    "# The student is eligible only for one scholarship% even if both the score conditions are valid for the given branch of study.\n",
    "# In such cases, students are eligible for the highest scholarship% applicable among the two.\n",
    "# Arts\n",
    "# Score is an odd number\n",
    "# 5\n",
    "# Engineering\n",
    "# Score is more than 85\n",
    "# 50\n",
    "# Engineering\n",
    "# Score is divisible by 7\n",
    "# 5\n",
    "\n",
    "# If there are 500 students who have joined the university, write a code to calculate and display the final fees to be paid by \n",
    "# each student.\n",
    "# You may accept the branch of study, score and course fee as inputs for each student and calculate the final fees to be paid by \n",
    "# each student based on formulae given below:\n",
    "# Scholarship amount=course fee * (scholarship%)\n",
    "# Final fee= course fee - scholarship amount\n",
    "\n",
    "import math"
   ]
  },
  {
   "cell_type": "code",
   "execution_count": null,
   "id": "4b32b681",
   "metadata": {},
   "outputs": [],
   "source": [
    "for i in range(1,500,1):\n",
    "    scholarship=0\n",
    "    Branch_Of_study = input(\"Enter the branch you want to opt:-\")\n",
    "    score=int(input(\"Enter the marks scored:-\"))\n",
    "    course_fee=int(input(\"Enter the total fee of:-\"))\n",
    "    if(Branch_Of_study==\"Arts\"):\n",
    "        if(score>=90):\n",
    "            scholarship=50\n",
    "        elif(score%2!= 0):\n",
    "            scholarship=5\n",
    "    elif(Branch_Of_study==\"Engineering\"):\n",
    "        if(score>85):\n",
    "            scholarship=50\n",
    "        elif(score%7==0):\n",
    "            scholarship=5\n",
    "    scholarship_Amount=course_fee*scholarship/100\n",
    "    print(\"Total scholarship received :-\",scholarship_Amount)\n",
    "    Final_Fee=course_fee-scholarship_Amount\n",
    "    print(\"Final fee to be paid:-\",Final_Fee)\n"
   ]
  },
  {
   "cell_type": "code",
   "execution_count": null,
   "id": "4d4de5c8",
   "metadata": {},
   "outputs": [],
   "source": []
  }
 ],
 "metadata": {
  "kernelspec": {
   "display_name": "Python 3 (ipykernel)",
   "language": "python",
   "name": "python3"
  },
  "language_info": {
   "codemirror_mode": {
    "name": "ipython",
    "version": 3
   },
   "file_extension": ".py",
   "mimetype": "text/x-python",
   "name": "python",
   "nbconvert_exporter": "python",
   "pygments_lexer": "ipython3",
   "version": "3.9.12"
  }
 },
 "nbformat": 4,
 "nbformat_minor": 5
}
