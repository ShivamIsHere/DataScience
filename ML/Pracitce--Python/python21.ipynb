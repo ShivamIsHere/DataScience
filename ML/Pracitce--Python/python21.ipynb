{
 "cells": [
  {
   "cell_type": "code",
   "execution_count": 1,
   "id": "e862169f",
   "metadata": {},
   "outputs": [
    {
     "name": "stdout",
     "output_type": "stream",
     "text": [
      "Pediatrics\n"
     ]
    }
   ],
   "source": [
    "# . Care hospital wants to know the medical speciality visited by the maximum number of patients. Assume that the patient id of \n",
    "# the patient along with the medical speciality visited by the patient is stored in a list. The details of the medical \n",
    "# specialities are stored in a dictionary as follows:\n",
    "# {\n",
    "# \"P\":\"Pediatrics\",\n",
    "# \"O\":\"Orthopedics\",\n",
    "# \"E\":\"ENT\n",
    "# }\n",
    " \n",
    "# Write a function to find the medical speciality visited by the maximum number of patients and return the name of the speciality.\n",
    " \n",
    "# Note:\n",
    "# Assume that there is always only one medical speciality which is visited by maximum number of patients.\n",
    "# Perform case sensitive string comparison wherever necessary.\n",
    "\n",
    "# Sample Input\n",
    "# Expected Output\n",
    "# [101,P,102,O,302,P,305,P]\n",
    "# Pediatrics\n",
    "# [101,O,102,O,302,P,305,E,401,O,656,O]\n",
    "# Orthopedics\n",
    "# [101,O,102,E,302,P,305,P,401,E,656,O,987,E]\n",
    "# ENT\n",
    "\n",
    "\n",
    "\n",
    "def max_visited_speciality(patient_medical_speciality_list,medical_speciality):\n",
    "    # write your logic here\n",
    "    p_count,o_count,e_count=0,0,0\n",
    "    for key,val in medical_speciality.items():\n",
    "        i = 1\n",
    "        for x in range(len(patient_medical_speciality_list)//2):\n",
    "            if 'P' == patient_medical_speciality_list[i]:\n",
    "                p_count += 1\n",
    "            if 'O' == patient_medical_speciality_list[i]:\n",
    "                o_count += 1\n",
    "            if 'E'==patient_medical_speciality_list[i]:\n",
    "                e_count += 1\n",
    "            i+=2\n",
    "    if p_count>o_count:\n",
    "        if p_count>e_count:\n",
    "            return medical_speciality['P']\n",
    "    if o_count>p_count:\n",
    "        if o_count>e_count:\n",
    "            return medical_speciality['O']\n",
    "    if  e_count>p_count:\n",
    "        if e_count>o_count:\n",
    "            return  medical_speciality['E']\n",
    "\n",
    "#provide different values in the list and test your program\n",
    "patient_medical_speciality_list=[301,'P',302, 'P' ,305, 'P' ,401, 'E' ,656, 'E']\n",
    "medical_speciality={\"P\":\"Pediatrics\",\"O\":\"Orthopedics\",\"E\":\"ENT\"}\n",
    "speciality=max_visited_speciality(patient_medical_speciality_list,medical_speciality)\n",
    "print(speciality)\n"
   ]
  },
  {
   "cell_type": "code",
   "execution_count": null,
   "id": "a84f29e4",
   "metadata": {},
   "outputs": [],
   "source": []
  }
 ],
 "metadata": {
  "kernelspec": {
   "display_name": "Python 3 (ipykernel)",
   "language": "python",
   "name": "python3"
  },
  "language_info": {
   "codemirror_mode": {
    "name": "ipython",
    "version": 3
   },
   "file_extension": ".py",
   "mimetype": "text/x-python",
   "name": "python",
   "nbconvert_exporter": "python",
   "pygments_lexer": "ipython3",
   "version": "3.9.12"
  }
 },
 "nbformat": 4,
 "nbformat_minor": 5
}
