{
 "cells": [
  {
   "cell_type": "code",
   "execution_count": 17,
   "id": "239136d3",
   "metadata": {},
   "outputs": [
    {
     "name": "stdout",
     "output_type": "stream",
     "text": [
      "0.0\n",
      "3.0\n"
     ]
    }
   ],
   "source": [
    "# Write a python program to solve a classic ancient Chinese puzzle.\n",
    "# We count 35 heads and 94 legs among the chickens and rabbits in a farm. How many rabbits and how many chickens do we have?\n",
    " \n",
    " \n",
    "#Sample Input\n",
    "# Expected Output\n",
    "# heads-150 legs-400\n",
    "# 100 50\n",
    "# heads-3 legs-11\n",
    "# No solution\n",
    "# heads-3 legs-12\n",
    "# 0 3\n",
    "# heads-5 legs-10\n",
    "# 5 0\n",
    "\n",
    "\n",
    "def solve(heads,legs):\n",
    "    error_msg=\"No solution\"\n",
    "    chicken_count=0\n",
    "    rabbit_count=0\n",
    "    \n",
    "    if(heads>=legs):\n",
    "        print(error_msg)\n",
    "    elif(legs%2!=0):\n",
    "        print(error_msg)\n",
    "    else:\n",
    "        rabbit_count=(legs-2*heads)/2\n",
    "        chicken_count=heads-rabbit_count\n",
    "        print(chicken_count)\n",
    "        print(rabbit_count)\n",
    "\n",
    "solve(3,12)"
   ]
  },
  {
   "cell_type": "code",
   "execution_count": null,
   "id": "e57bb8ac",
   "metadata": {},
   "outputs": [],
   "source": []
  }
 ],
 "metadata": {
  "kernelspec": {
   "display_name": "Python 3 (ipykernel)",
   "language": "python",
   "name": "python3"
  },
  "language_info": {
   "codemirror_mode": {
    "name": "ipython",
    "version": 3
   },
   "file_extension": ".py",
   "mimetype": "text/x-python",
   "name": "python",
   "nbconvert_exporter": "python",
   "pygments_lexer": "ipython3",
   "version": "3.9.12"
  }
 },
 "nbformat": 4,
 "nbformat_minor": 5
}
