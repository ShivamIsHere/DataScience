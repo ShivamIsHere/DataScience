{
 "cells": [
  {
   "cell_type": "code",
   "execution_count": 1,
   "id": "be03b82e",
   "metadata": {},
   "outputs": [
    {
     "name": "stdout",
     "output_type": "stream",
     "text": [
      "-1\n"
     ]
    }
   ],
   "source": [
    "# Write a python program to generate the ticket numbers for specified number of passengers traveling in a flight as per the\n",
    "# details mentioned below:\n",
    "# The ticket number should be generated as airline:src:dest:number\n",
    "# where\n",
    "# Consider AI as the value for airline\n",
    "# src and dest should be the first three characters of the source and destination cities.\n",
    "# number should be auto-generated starting from 101\n",
    "# The program should return the list of ticket numbers of last five passengers.\n",
    "# Note: If passenger count is less than 5, return the list of all generated ticket numbers.\n",
    "\n",
    "# Sample Input\n",
    "# Expected Output\n",
    "# airline = AI\n",
    "# source = Bangalore\n",
    "# destination = London\n",
    "# no_of_passengers = 10\n",
    "# ['AI:Ban:Lon:106', 'AI:Ban:Lon:107', 'AI:Ban:Lon:108', 'AI:Ban:Lon:109', 'AI:Ban:Lon:110']\n",
    "# airline = BA\n",
    "# source = Australia\n",
    "# destination = France\n",
    "# no_of_passengers = 2\n",
    "# ['BA:Aus:Fra:101', 'BA:Aus:Fra:102']\n",
    "\n",
    "\n",
    "def find_max(num1, num2):\n",
    "    list2=[]\n",
    "    max_num=-1\n",
    "    list1=list(range(num1,num2+1))\n",
    "    if num1>=num2:\n",
    "        max_num=-1\n",
    "    else:\n",
    "        for i in list1:\n",
    "            temp = i\n",
    "            temp1=0\n",
    "            while temp!=0:\n",
    "                temp1+=temp%10\n",
    "                temp=temp//10    \n",
    "            if temp1%3==0 and i%5 ==0 and len(str(i)) == 2:\n",
    "                    list2.append(i)\n",
    "        if(len(list2)!=0):\n",
    "            list2.sort()\n",
    "            max_num = list2[-1]\n",
    "        else:\n",
    "            max_num=-1\n",
    "    return max_num\n",
    "max_num=find_max(24,29)\n",
    "print(max_num)\n"
   ]
  },
  {
   "cell_type": "code",
   "execution_count": null,
   "id": "775c58c0",
   "metadata": {},
   "outputs": [],
   "source": []
  }
 ],
 "metadata": {
  "kernelspec": {
   "display_name": "Python 3 (ipykernel)",
   "language": "python",
   "name": "python3"
  },
  "language_info": {
   "codemirror_mode": {
    "name": "ipython",
    "version": 3
   },
   "file_extension": ".py",
   "mimetype": "text/x-python",
   "name": "python",
   "nbconvert_exporter": "python",
   "pygments_lexer": "ipython3",
   "version": "3.9.12"
  }
 },
 "nbformat": 4,
 "nbformat_minor": 5
}
