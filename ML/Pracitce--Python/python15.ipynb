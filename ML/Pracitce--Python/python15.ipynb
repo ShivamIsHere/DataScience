{
 "cells": [
  {
   "cell_type": "code",
   "execution_count": 1,
   "id": "b73a4a8f",
   "metadata": {},
   "outputs": [
    {
     "name": "stdout",
     "output_type": "stream",
     "text": [
      "-1\n"
     ]
    }
   ],
   "source": [
    "\"\"\"Write a python program which finds the maximum number from num1 to num2 (num2 inclusive) based on the following rules.\n",
    " \n",
    "1. Always num1 should be less than num2\n",
    "2. Consider each number from num1 to num2 (num2 inclusive). Populate the number into a list, if the below conditions are satisfied\n",
    "      a. Sum of the digits of the number is a multiple of 3\n",
    "      b. Number has only two digits\n",
    "      c. Number is a multiple of 5\n",
    "3. Display the maximum element from the list\n",
    "In case of any invalid data or if the list is empty, display -1.\"\"\"\n",
    "\n",
    "def find_max(num1, num2):\n",
    "    list2=[]\n",
    "    max_num=-1\n",
    "    list1=list(range(num1,num2+1))\n",
    "    if num1>=num2:\n",
    "        max_num=-1\n",
    "    else:\n",
    "        for i in list1:\n",
    "            temp = i\n",
    "            temp1=0\n",
    "            while temp!=0:\n",
    "                temp1+=temp%10\n",
    "                temp=temp//10    \n",
    "            if temp1%3==0 and i%5 ==0 and len(str(i)) == 2:\n",
    "                    list2.append(i)\n",
    "        if(len(list2)!=0):\n",
    "            list2.sort()\n",
    "            max_num = list2[-1]\n",
    "        else:\n",
    "            max_num=-1\n",
    "    return max_num\n",
    "max_num=find_max(24,29)\n",
    "print(max_num)\n"
   ]
  },
  {
   "cell_type": "code",
   "execution_count": null,
   "id": "6df396d4",
   "metadata": {},
   "outputs": [],
   "source": []
  }
 ],
 "metadata": {
  "kernelspec": {
   "display_name": "Python 3 (ipykernel)",
   "language": "python",
   "name": "python3"
  },
  "language_info": {
   "codemirror_mode": {
    "name": "ipython",
    "version": 3
   },
   "file_extension": ".py",
   "mimetype": "text/x-python",
   "name": "python",
   "nbconvert_exporter": "python",
   "pygments_lexer": "ipython3",
   "version": "3.9.12"
  }
 },
 "nbformat": 4,
 "nbformat_minor": 5
}
