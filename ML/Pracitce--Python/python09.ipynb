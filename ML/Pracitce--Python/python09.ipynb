{
 "cells": [
  {
   "cell_type": "code",
   "execution_count": 6,
   "id": "93b4cb22",
   "metadata": {},
   "outputs": [
    {
     "name": "stdout",
     "output_type": "stream",
     "text": [
      "Enter first number: 7\n",
      "Enter second number: 7\n",
      "Enter third number: 7\n",
      "-1\n"
     ]
    }
   ],
   "source": [
    "# 9. Write a python program to find and display the product of three positive integer values based on the rule mentioned below:\n",
    " \n",
    "# It should display the product of the three values except when one of the integer value is 7. In that case, 7 should not be \n",
    "# included in the product and the values to its left also should not be included.\n",
    "# If there is only one value to be considered, display that value itself. If no values can be included in the product, display -1.\n",
    " \n",
    "# Note: Assume that if 7 is one of the positive integer values, then it will occur only once. Refer the sample I/O given below.\n",
    "\n",
    "# Sample Input\n",
    "# Expected Output\n",
    "# 1, 5, 3\n",
    "# 15\n",
    "# 3, 7, 8\n",
    "# 8\n",
    "# 7, 4, 3\n",
    "# 12\n",
    "# 1, 5, 7\n",
    "# -1\n",
    "\n",
    "\n",
    "\n",
    "\n",
    "n1 = int(input(\"Enter first number: \"))\n",
    "n2 = int(input(\"Enter second number: \"))\n",
    "n3 = int(input(\"Enter third number: \"))\n",
    "\n",
    "\n",
    "def find_product(num1, num2, num3):\n",
    "    product = 0\n",
    "    if(num1==num2==7 or num2==num3==7 or num1==num3==7):\n",
    "        return -1\n",
    "    if (num1 != 7 and num2 != 7 and num3 != 7):\n",
    "        product = num1 * num2 * num3\n",
    "    elif num1 == 7:\n",
    "        product = num2 * num3\n",
    "    elif num2 == 7:\n",
    "        product = num3\n",
    "    elif num3 == 7:\n",
    "        product = -1\n",
    "    return product\n",
    "\n",
    "\n",
    "final_product = find_product(n1, n2, n3)\n",
    "print(final_product)"
   ]
  },
  {
   "cell_type": "code",
   "execution_count": null,
   "id": "624cd587",
   "metadata": {},
   "outputs": [],
   "source": []
  }
 ],
 "metadata": {
  "kernelspec": {
   "display_name": "Python 3 (ipykernel)",
   "language": "python",
   "name": "python3"
  },
  "language_info": {
   "codemirror_mode": {
    "name": "ipython",
    "version": 3
   },
   "file_extension": ".py",
   "mimetype": "text/x-python",
   "name": "python",
   "nbconvert_exporter": "python",
   "pygments_lexer": "ipython3",
   "version": "3.9.12"
  }
 },
 "nbformat": 4,
 "nbformat_minor": 5
}
