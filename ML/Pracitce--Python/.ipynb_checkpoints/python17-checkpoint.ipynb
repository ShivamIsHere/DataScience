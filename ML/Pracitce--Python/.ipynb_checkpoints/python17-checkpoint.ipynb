{
 "cells": [
  {
   "cell_type": "code",
   "execution_count": 2,
   "id": "ce133625",
   "metadata": {},
   "outputs": [
    {
     "name": "stdout",
     "output_type": "stream",
     "text": [
      "The bilingual dict is: {'merry': 'god', 'christmas': 'jul', 'and': 'och', 'happy': 'gott', 'new': 'nytt', 'year': 'ar'}\n",
      "The english words are: ['merry', 'christmas']\n",
      "The equivalent swedish words are: ['god', 'jul']\n"
     ]
    }
   ],
   "source": [
    "# Represent a small bilingual (English-Swedish) glossary given below as a Python dictionary\n",
    "# {\"merry\":\"god\", \"christmas\":\"jul\", \"and\":\"och\", \"happy\":\"gott\", \"new\":\"nytt\", \"year\":\"ar\"}\n",
    "# and use it to translate your Christmas wishes from English into Swedish.\n",
    "# That is, write a python function translate() that accepts the bilingual dictionary and a list of English words (your Christmas wish) and returns a list of equivalent Swedish words. \n",
    "def translate(bilingual_dict,english_words_list):\n",
    "    swedish_words_list = []\n",
    "    for x in english_words_list:\n",
    "        swedish_words_list.append(bilingual_dict[x])\n",
    "\n",
    "    return swedish_words_list\n",
    "\n",
    "bilingual_dict= {\"merry\":\"god\", \"christmas\":\"jul\", \"and\":\"och\", \"happy\":\"gott\", \"new\":\"nytt\", \"year\":\"ar\"}\n",
    "english_words_list=[\"merry\",\"christmas\"]\n",
    "print(\"The bilingual dict is:\",bilingual_dict)\n",
    "print(\"The english words are:\",english_words_list)\n",
    "\n",
    "swedish_words_list=translate(bilingual_dict, english_words_list)\n",
    "print(\"The equivalent swedish words are:\",swedish_words_list)\n",
    " "
   ]
  },
  {
   "cell_type": "code",
   "execution_count": null,
   "id": "cfe8f17c",
   "metadata": {},
   "outputs": [],
   "source": []
  }
 ],
 "metadata": {
  "kernelspec": {
   "display_name": "Python 3 (ipykernel)",
   "language": "python",
   "name": "python3"
  },
  "language_info": {
   "codemirror_mode": {
    "name": "ipython",
    "version": 3
   },
   "file_extension": ".py",
   "mimetype": "text/x-python",
   "name": "python",
   "nbconvert_exporter": "python",
   "pygments_lexer": "ipython3",
   "version": "3.9.12"
  }
 },
 "nbformat": 4,
 "nbformat_minor": 5
}
