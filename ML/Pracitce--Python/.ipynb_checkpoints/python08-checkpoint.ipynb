{
 "cells": [
  {
   "cell_type": "code",
   "execution_count": null,
   "id": "0fe227d5",
   "metadata": {},
   "outputs": [],
   "source": [
    "# \tA teacher in a school wants to find and display the grade of a student based on his/her percentage score. The criterion for \n",
    "#     grades is as given below:\n",
    "# Score (both inclusive)\n",
    "# Grade\n",
    "# Between 80 and 100\n",
    "# A\n",
    "# Between 73 and 79\n",
    "# B\n",
    "# Between 65 and 72\n",
    "# C\n",
    "# Between 0 and 64\n",
    "# D\n",
    "# Any other value\n",
    "# Z\n",
    "\n",
    "# Assume that the percentage score is a whole number. Write a python program for the above requirement.\n",
    "\n",
    "marks=int(input(\"Enter the percentage scored by the student:-\"))\n",
    "if(marks>=80 and marks<=100):\n",
    "    print(\"A\")\n",
    "elif(marks>=73 and marks<=79):\n",
    "    print(\"B\")\n",
    "elif(marks>=65 and marks<=72):\n",
    "    print(\"C\")\n",
    "elif(marks>=0 and marks<=64):\n",
    "    print(\"D\")\n",
    "else:\n",
    "    print(\"Z\")\n",
    "    "
   ]
  },
  {
   "cell_type": "code",
   "execution_count": null,
   "id": "9dcc58ae",
   "metadata": {},
   "outputs": [],
   "source": []
  }
 ],
 "metadata": {
  "kernelspec": {
   "display_name": "Python 3 (ipykernel)",
   "language": "python",
   "name": "python3"
  },
  "language_info": {
   "codemirror_mode": {
    "name": "ipython",
    "version": 3
   },
   "file_extension": ".py",
   "mimetype": "text/x-python",
   "name": "python",
   "nbconvert_exporter": "python",
   "pygments_lexer": "ipython3",
   "version": "3.9.12"
  }
 },
 "nbformat": 4,
 "nbformat_minor": 5
}
