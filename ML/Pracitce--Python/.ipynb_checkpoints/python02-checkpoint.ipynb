{
 "cells": [
  {
   "cell_type": "code",
   "execution_count": 1,
   "id": "9b2c154e",
   "metadata": {},
   "outputs": [],
   "source": [
    "#Write a code to check whether a given number is a palindrome.\n",
    "import math"
   ]
  },
  {
   "cell_type": "code",
   "execution_count": 27,
   "id": "6127cb3b",
   "metadata": {},
   "outputs": [
    {
     "name": "stdout",
     "output_type": "stream",
     "text": [
      "0\n",
      "it is a palindrome!\n"
     ]
    }
   ],
   "source": [
    "number = int(input())\n",
    "reverse = 0\n",
    "number1 = number\n",
    "while number1>0:\n",
    "    digit = number1%10\n",
    "    reverse = reverse*10+digit \n",
    "    number1 = int(number1/10)\n",
    "if (number==reverse):\n",
    "    print(\"it is a palindrome!\")\n",
    "else:\n",
    "    print(\"it is not a palindrome!\")"
   ]
  },
  {
   "cell_type": "code",
   "execution_count": null,
   "id": "36546cd9",
   "metadata": {},
   "outputs": [],
   "source": []
  },
  {
   "cell_type": "code",
   "execution_count": null,
   "id": "f897beb7",
   "metadata": {},
   "outputs": [],
   "source": []
  }
 ],
 "metadata": {
  "kernelspec": {
   "display_name": "Python 3 (ipykernel)",
   "language": "python",
   "name": "python3"
  },
  "language_info": {
   "codemirror_mode": {
    "name": "ipython",
    "version": 3
   },
   "file_extension": ".py",
   "mimetype": "text/x-python",
   "name": "python",
   "nbconvert_exporter": "python",
   "pygments_lexer": "ipython3",
   "version": "3.9.12"
  }
 },
 "nbformat": 4,
 "nbformat_minor": 5
}
