{
 "cells": [
  {
   "cell_type": "code",
   "execution_count": 6,
   "id": "b53b2b19",
   "metadata": {},
   "outputs": [
    {
     "name": "stdout",
     "output_type": "stream",
     "text": [
      "Input first side of the triangle: 1\n",
      "Input second side of the triangle: 6\n",
      "Input third side of the triangle: 1\n",
      "Input number forms a triangle\n"
     ]
    }
   ],
   "source": [
    "# Write a python function to check whether three given numbers can form the sides of a triangle.\n",
    "# Hint\n",
    "# : Three numbers can be the sides of a triangle if none of the numbers are greater than or equal to the sum of the other two\n",
    "#     numbers.\n",
    "\n",
    "a=int(input('Input first side of the triangle: ')) \n",
    "b=int(input('Input second side of the triangle: ')) \n",
    "c=int(input('Input third side of the triangle: ')) \n",
    "if(((a+b)<=c)or((b+c)<=a)or((c+a)<=b)):\n",
    "    print(\"Input number forms a triangle\") \n",
    "else:\n",
    "    print(\"Input number does not form a triangle\")"
   ]
  },
  {
   "cell_type": "code",
   "execution_count": null,
   "id": "423c5b32",
   "metadata": {},
   "outputs": [],
   "source": []
  }
 ],
 "metadata": {
  "kernelspec": {
   "display_name": "Python 3 (ipykernel)",
   "language": "python",
   "name": "python3"
  },
  "language_info": {
   "codemirror_mode": {
    "name": "ipython",
    "version": 3
   },
   "file_extension": ".py",
   "mimetype": "text/x-python",
   "name": "python",
   "nbconvert_exporter": "python",
   "pygments_lexer": "ipython3",
   "version": "3.9.12"
  }
 },
 "nbformat": 4,
 "nbformat_minor": 5
}
