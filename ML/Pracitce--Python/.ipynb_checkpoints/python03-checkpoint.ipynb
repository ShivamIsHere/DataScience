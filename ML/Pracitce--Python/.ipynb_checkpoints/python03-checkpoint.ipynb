{
 "cells": [
  {
   "cell_type": "code",
   "execution_count": 1,
   "id": "b8c0e7df",
   "metadata": {},
   "outputs": [],
   "source": [
    "#Write a code to find the sum of numbers divisible by 4.The code must allow the user to accept a number and add it to the sum \n",
    "#if it is divisible by 4.It should continue accepting numbers as long as the user wants to provide an input and should display \n",
    "#the final sum.\n",
    "import math"
   ]
  },
  {
   "cell_type": "code",
   "execution_count": 7,
   "id": "b9b726ef",
   "metadata": {},
   "outputs": [
    {
     "name": "stdout",
     "output_type": "stream",
     "text": [
      "4\n",
      "4\n",
      "4\n",
      "5\n",
      "12\n"
     ]
    }
   ],
   "source": [
    "sum=0\n",
    "while (True):\n",
    "    num=int(input())\n",
    "    if(num%4!=0):\n",
    "        break\n",
    "    sum = sum+num\n",
    "else:\n",
    "    print(\"Number is not divisible by 4\")\n",
    "print(sum)"
   ]
  },
  {
   "cell_type": "code",
   "execution_count": 3,
   "id": "7660a4c0",
   "metadata": {},
   "outputs": [
    {
     "data": {
      "text/plain": [
       "0.3"
      ]
     },
     "execution_count": 3,
     "metadata": {},
     "output_type": "execute_result"
    }
   ],
   "source": [
    "1.2/4"
   ]
  },
  {
   "cell_type": "code",
   "execution_count": null,
   "id": "5131478a",
   "metadata": {},
   "outputs": [],
   "source": []
  }
 ],
 "metadata": {
  "kernelspec": {
   "display_name": "Python 3 (ipykernel)",
   "language": "python",
   "name": "python3"
  },
  "language_info": {
   "codemirror_mode": {
    "name": "ipython",
    "version": 3
   },
   "file_extension": ".py",
   "mimetype": "text/x-python",
   "name": "python",
   "nbconvert_exporter": "python",
   "pygments_lexer": "ipython3",
   "version": "3.9.12"
  }
 },
 "nbformat": 4,
 "nbformat_minor": 5
}
