{
 "cells": [
  {
   "cell_type": "code",
   "execution_count": 1,
   "id": "95574851",
   "metadata": {},
   "outputs": [
    {
     "name": "stdout",
     "output_type": "stream",
     "text": [
      "3860.0\n"
     ]
    }
   ],
   "source": [
    "# The road transport corporation (RTC) of a city wants to know whether a particular bus-route is running on profit or loss.\u000b",
    "\n",
    "\n",
    "# Assume that the following information are given:\n",
    "# Price per litre of fuel = 70\n",
    "# Mileage of the bus in km/litre of fuel = 10\n",
    "# Price(Rs) per ticket = 80\n",
    "\n",
    "# The bus runs on multiple routes having different distance in kms and number of passengers.\n",
    "# Write a function to calculate and return the profit earned (Rs) in each route. Return -1 in case of loss.\u000b",
    "\n",
    "\n",
    "# Also write the pytest test cases to test the program\n",
    "\n",
    "def calculate(distance,no_of_passengers):\n",
    "    cost = 0\n",
    "    cost = 70 * distance/10\n",
    "    rest = 0\n",
    "    rest = no_of_passengers * 80 \n",
    "    if cost <= rest :\n",
    "        return abs(cost - rest)\n",
    "    else :\n",
    "        return -1\n",
    "\n",
    "distance=20\n",
    "no_of_passengers=50\n",
    "print(calculate(distance,no_of_passengers))"
   ]
  },
  {
   "cell_type": "code",
   "execution_count": null,
   "id": "16957005",
   "metadata": {},
   "outputs": [],
   "source": []
  }
 ],
 "metadata": {
  "kernelspec": {
   "display_name": "Python 3 (ipykernel)",
   "language": "python",
   "name": "python3"
  },
  "language_info": {
   "codemirror_mode": {
    "name": "ipython",
    "version": 3
   },
   "file_extension": ".py",
   "mimetype": "text/x-python",
   "name": "python",
   "nbconvert_exporter": "python",
   "pygments_lexer": "ipython3",
   "version": "3.9.12"
  }
 },
 "nbformat": 4,
 "nbformat_minor": 5
}
