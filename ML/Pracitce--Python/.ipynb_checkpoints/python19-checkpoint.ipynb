{
 "cells": [
  {
   "cell_type": "code",
   "execution_count": 1,
   "id": "8b84647c",
   "metadata": {},
   "outputs": [
    {
     "name": "stdout",
     "output_type": "stream",
     "text": [
      "1A4B8C1A1B\n"
     ]
    }
   ],
   "source": [
    "#PF-Assgn-30\n",
    "\n",
    "#Sample Input\t      Expected Output\n",
    "#AAAABBBBCCCCCCCC\t    4A4B8C\n",
    "#AABCCA\t                2A1B2C1A\n",
    "#====================================================================================================================\n",
    "\n",
    "def encode(message):\n",
    "    output=''\n",
    "    privious=message[0]\n",
    "    i=1\n",
    "    count=1\n",
    "    while len(message)>i:\n",
    "        if privious==message[i]:\n",
    "            count+=1\n",
    "        else:\n",
    "            output+=str(count)+privious\n",
    "            count=1\n",
    "            privious=message[i]\n",
    "\n",
    "        if i==len(message)-1:\n",
    "            output += str(count) + privious\n",
    "        i+=1\n",
    "    if len(message)==1:\n",
    "        output += str(count) + privious\n",
    "    return output\n",
    "\n",
    "#Provide different values for message and test your program\n",
    "encoded_message=encode(\"ABBBBCCCCCCCCAB\")\n",
    "print(encoded_message)"
   ]
  },
  {
   "cell_type": "code",
   "execution_count": null,
   "id": "8374e077",
   "metadata": {},
   "outputs": [],
   "source": []
  }
 ],
 "metadata": {
  "kernelspec": {
   "display_name": "Python 3 (ipykernel)",
   "language": "python",
   "name": "python3"
  },
  "language_info": {
   "codemirror_mode": {
    "name": "ipython",
    "version": 3
   },
   "file_extension": ".py",
   "mimetype": "text/x-python",
   "name": "python",
   "nbconvert_exporter": "python",
   "pygments_lexer": "ipython3",
   "version": "3.9.12"
  }
 },
 "nbformat": 4,
 "nbformat_minor": 5
}
