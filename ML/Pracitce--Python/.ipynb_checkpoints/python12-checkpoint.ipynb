{
 "cells": [
  {
   "cell_type": "code",
   "execution_count": 1,
   "id": "4f1f38b5",
   "metadata": {},
   "outputs": [
    {
     "name": "stdout",
     "output_type": "stream",
     "text": [
      "68347.75\n"
     ]
    }
   ],
   "source": [
    "# ARS Gems Store sells different varieties of gems to its customers.\n",
    "\n",
    "# Write a Python program to calculate the bill amount to be paid by a customer based on the list of gems and quantity purchased. \n",
    "# Any purchase with a total bill amount above Rs.30000 is entitled to 5% discount. If any gem required by the customer is not \n",
    "# available in the store, then consider total bill amount to be -1.\n",
    "\n",
    "# Assume that quantity required by the customer for any gem will always be greater than 0.\n",
    "\n",
    "# Perform case-sensitive comparison wherever applicable.\n",
    "\n",
    "# gems_list=[\"Emerald\",\"Ivory\",\"Jasper\",\"Ruby\",\"Garnet\"]\n",
    "\n",
    "# #Price of gems available in the store. gems_list and price_list have one-to-one correspondence\n",
    "# price_list=[1760,2119,1599,3920,3999]\n",
    "\n",
    "# #List of gems required by the customer\n",
    "# reqd_gems=[\"Ivory\",\"Emerald\",\"Garnet\"]\n",
    "\n",
    "# #Quantity of gems required by the customer. reqd_gems and reqd_quantity have one-to-one correspondence\n",
    "# reqd_quantity=[3,10,12]\n",
    "#Read the inputs from user\n",
    "\n",
    "def calculate_bill_amount(gems_list, price_list, reqd_gems,reqd_quantity):\n",
    "    bill_amount=0\n",
    "    #Write your logic here\n",
    "    flag=0\n",
    "    #Write your logic here\n",
    "    \n",
    "    for i in range(len(reqd_gems)):\n",
    "        if reqd_gems[i]  in gems_list:\n",
    "            a=gems_list.index(reqd_gems[i])\n",
    "            bill_amount+=reqd_quantity[i]*price_list[a]\n",
    "            \n",
    "        else:\n",
    "            flag=1\n",
    "            break\n",
    "    if bill_amount>30000:\n",
    "        bill_amount=bill_amount*(0.95)\n",
    "    elif (flag==1):\n",
    "        bill_amount=-1\n",
    "    else:\n",
    "        bill_amount=bill_amount\n",
    "   \n",
    "    \n",
    "    return bill_amount\n",
    "\n",
    "#List of gems available in the store\n",
    "gems_list=[\"Emerald\",\"Ivory\",\"Jasper\",\"Ruby\",\"Garnet\"]\n",
    "\n",
    "#Price of gems available in the store. gems_list and price_list have one-to-one correspondence\n",
    "price_list=[1760,2119,1599,3920,3999]\n",
    "\n",
    "#List of gems required by the customer\n",
    "reqd_gems=[\"Ivory\",\"Emerald\",\"Garnet\"]\n",
    "\n",
    "#Quantity of gems required by the customer. reqd_gems and reqd_quantity have one-to-one correspondence\n",
    "reqd_quantity=[3,10,12]\n",
    "\n",
    "bill_amount=calculate_bill_amount(gems_list, price_list, reqd_gems, reqd_quantity)\n",
    "print(bill_amount)"
   ]
  },
  {
   "cell_type": "code",
   "execution_count": null,
   "id": "ff093f15",
   "metadata": {},
   "outputs": [],
   "source": []
  }
 ],
 "metadata": {
  "kernelspec": {
   "display_name": "Python 3 (ipykernel)",
   "language": "python",
   "name": "python3"
  },
  "language_info": {
   "codemirror_mode": {
    "name": "ipython",
    "version": 3
   },
   "file_extension": ".py",
   "mimetype": "text/x-python",
   "name": "python",
   "nbconvert_exporter": "python",
   "pygments_lexer": "ipython3",
   "version": "3.9.12"
  }
 },
 "nbformat": 4,
 "nbformat_minor": 5
}
