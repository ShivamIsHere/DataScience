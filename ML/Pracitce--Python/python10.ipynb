{
 "cells": [
  {
   "cell_type": "code",
   "execution_count": 10,
   "id": "31eaaad3",
   "metadata": {},
   "outputs": [
    {
     "name": "stdout",
     "output_type": "stream",
     "text": [
      "-1\n"
     ]
    }
   ],
   "source": [
    "# You have x no. of 5 rupee coins and y no. of 1 rupee coins. You want to purchase an item for amount z. \n",
    "#The shopkeeper wants you to provide exact change. You want to pay using minimum number of coins. \n",
    "#How many 5 rupee coins and 1 rupee coins will you use? If exact change is not possible then display -1.\n",
    "\n",
    "def make_amount(rupees_to_make,no_of_five,no_of_one):\n",
    "    five_needed=0\n",
    "    one_needed=0\n",
    "\n",
    "    five = int(rupees_to_make/5)\n",
    "    one_needed = rupees_to_make%5\n",
    "    five_needed = five \n",
    "    #if five <= no_of_five else no_of_five\n",
    "    if (five > no_of_five):\n",
    "        one_needed = rupees_to_make - 5 * no_of_five     \n",
    "    \n",
    "    (print(\"No. of Five needed : {}\\nNo. of One needed  : {}\".format(five_needed,one_needed))) if one_needed <= no_of_one else (print(-1))\n",
    "\n",
    "make_amount(15,2,1)"
   ]
  },
  {
   "cell_type": "code",
   "execution_count": null,
   "id": "332c8d49",
   "metadata": {},
   "outputs": [],
   "source": []
  },
  {
   "cell_type": "code",
   "execution_count": null,
   "id": "68d1a5e0",
   "metadata": {},
   "outputs": [],
   "source": []
  },
  {
   "cell_type": "code",
   "execution_count": null,
   "id": "0096a77c",
   "metadata": {},
   "outputs": [],
   "source": []
  }
 ],
 "metadata": {
  "kernelspec": {
   "display_name": "Python 3 (ipykernel)",
   "language": "python",
   "name": "python3"
  },
  "language_info": {
   "codemirror_mode": {
    "name": "ipython",
    "version": 3
   },
   "file_extension": ".py",
   "mimetype": "text/x-python",
   "name": "python",
   "nbconvert_exporter": "python",
   "pygments_lexer": "ipython3",
   "version": "3.9.12"
  }
 },
 "nbformat": 4,
 "nbformat_minor": 5
}
