{
 "cells": [
  {
   "cell_type": "code",
   "execution_count": null,
   "id": "157a77fc",
   "metadata": {},
   "outputs": [],
   "source": [
    "class Customer:\n",
    "    def __init__(self,name,gender):\n",
    "        self.name=name\n",
    "        self.gender=gender\n",
    "        \n",
    "def greet(customer):\n",
    "    if customer.gender ==\"Male\":\n",
    "        print(\"Hello\",customer.name,\"Sir\")\n",
    "    else:\n",
    "        print(\"Hello\",customer.name,\"Ma'am\")\n",
    "        \n",
    "        \n",
    "    cust2 = Customer(\"Nitish\",\"Male\")\n",
    "    return cust2\n",
    "\n",
    "cust=Customer(\"Ankita\",\"female\")\n",
    "\n",
    "new_cust=greet(cust)\n",
    "print(new_cust.name)\n",
    "            "
   ]
  }
 ],
 "metadata": {
  "kernelspec": {
   "display_name": "Python 3 (ipykernel)",
   "language": "python",
   "name": "python3"
  },
  "language_info": {
   "codemirror_mode": {
    "name": "ipython",
    "version": 3
   },
   "file_extension": ".py",
   "mimetype": "text/x-python",
   "name": "python",
   "nbconvert_exporter": "python",
   "pygments_lexer": "ipython3",
   "version": "3.9.12"
  }
 },
 "nbformat": 4,
 "nbformat_minor": 5
}
