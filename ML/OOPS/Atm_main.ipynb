{
 "cells": [
  {
   "cell_type": "code",
   "execution_count": 1,
   "id": "26be7490",
   "metadata": {},
   "outputs": [
    {
     "name": "stdout",
     "output_type": "stream",
     "text": [
      "importing Jupyter notebook from ATM.ipynb\n"
     ]
    }
   ],
   "source": [
    "import import_ipynb\n",
    "from ATM import Atm\n"
   ]
  },
  {
   "cell_type": "code",
   "execution_count": 4,
   "id": "094d4f54",
   "metadata": {},
   "outputs": [
    {
     "name": "stdout",
     "output_type": "stream",
     "text": [
      "Hello, how would you like to proceed?\n",
      "        1.Enter 1 to create pin\n",
      "        2.Enter 2 to deposit\n",
      "        3.Enter 3 to withdraw\n",
      "        4.Enter 4 to check balance\n",
      "        5.Enter 5 to exit\n",
      "1\n",
      "Enter Your pin1846\n",
      "Pin set successfully\n"
     ]
    }
   ],
   "source": [
    "sbi=Atm()"
   ]
  },
  {
   "cell_type": "code",
   "execution_count": 5,
   "id": "8c45502f",
   "metadata": {},
   "outputs": [
    {
     "name": "stdout",
     "output_type": "stream",
     "text": [
      "Enter your pin1846\n",
      "Enter the amount1000\n",
      "Deposit successfully\n"
     ]
    }
   ],
   "source": [
    "sbi.deposit()"
   ]
  },
  {
   "cell_type": "code",
   "execution_count": 6,
   "id": "f54f4567",
   "metadata": {},
   "outputs": [
    {
     "name": "stdout",
     "output_type": "stream",
     "text": [
      "Enter your pin1846\n",
      "Enter the amount999\n",
      "Operation successfully\n"
     ]
    }
   ],
   "source": [
    "sbi.withdraw()"
   ]
  },
  {
   "cell_type": "code",
   "execution_count": 7,
   "id": "5c87bda6",
   "metadata": {},
   "outputs": [
    {
     "name": "stdout",
     "output_type": "stream",
     "text": [
      "Enter your pin1846\n",
      "1\n"
     ]
    }
   ],
   "source": [
    "sbi.check_balance()"
   ]
  },
  {
   "cell_type": "code",
   "execution_count": 8,
   "id": "f5237477",
   "metadata": {},
   "outputs": [
    {
     "name": "stdout",
     "output_type": "stream",
     "text": [
      "Hello, how would you like to proceed?\n",
      "        1.Enter 1 to create pin\n",
      "        2.Enter 2 to deposit\n",
      "        3.Enter 3 to withdraw\n",
      "        4.Enter 4 to check balance\n",
      "        5.Enter 5 to exit\n",
      "1\n",
      "Enter Your pin6481\n",
      "Pin set successfully\n"
     ]
    }
   ],
   "source": [
    "shiv=Atm()"
   ]
  },
  {
   "cell_type": "code",
   "execution_count": 9,
   "id": "c2afdb51",
   "metadata": {},
   "outputs": [
    {
     "name": "stdout",
     "output_type": "stream",
     "text": [
      "Enter your pin6481\n",
      "Enter the amount1000\n",
      "Deposit successfully\n"
     ]
    }
   ],
   "source": [
    "shiv.deposit()"
   ]
  },
  {
   "cell_type": "code",
   "execution_count": 10,
   "id": "346b1f29",
   "metadata": {},
   "outputs": [
    {
     "name": "stdout",
     "output_type": "stream",
     "text": [
      "Enter your pin6481\n",
      "1000\n"
     ]
    }
   ],
   "source": [
    "shiv.check_balance()"
   ]
  },
  {
   "cell_type": "code",
   "execution_count": 11,
   "id": "3e3c0409",
   "metadata": {},
   "outputs": [
    {
     "name": "stdout",
     "output_type": "stream",
     "text": [
      "Enter your pin1846\n",
      "1\n"
     ]
    }
   ],
   "source": [
    "sbi.check_balance()"
   ]
  },
  {
   "cell_type": "code",
   "execution_count": null,
   "id": "2d2711f4",
   "metadata": {},
   "outputs": [],
   "source": []
  }
 ],
 "metadata": {
  "kernelspec": {
   "display_name": "Python 3 (ipykernel)",
   "language": "python",
   "name": "python3"
  },
  "language_info": {
   "codemirror_mode": {
    "name": "ipython",
    "version": 3
   },
   "file_extension": ".py",
   "mimetype": "text/x-python",
   "name": "python",
   "nbconvert_exporter": "python",
   "pygments_lexer": "ipython3",
   "version": "3.9.12"
  }
 },
 "nbformat": 4,
 "nbformat_minor": 5
}
