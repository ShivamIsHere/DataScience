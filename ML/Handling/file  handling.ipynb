{
 "cells": [
  {
   "cell_type": "code",
   "execution_count": 1,
   "id": "82b81a2a",
   "metadata": {},
   "outputs": [],
   "source": [
    "# open(filename.mode)\n",
    "# 'r'-->Read..default value.opens a file for reading.error if the file does not exits\n",
    "# 'a'-->Append..opens a file for appending creates the file if it does not exists\n",
    "# 'w'-->Write..opens a file for writting ,creates the file if it does not exits\n",
    "# 'x'-->Create..creates the specified file. returns an error if the file exits\n",
    "\n",
    "\n",
    "\n",
    "\n",
    "# 't'-->Text..default value.Text mode\n",
    "# 'b'-->Binary..binary mode"
   ]
  },
  {
   "cell_type": "code",
   "execution_count": 9,
   "id": "ed52cb9a",
   "metadata": {},
   "outputs": [],
   "source": [
    "import os\n",
    "file=open(r\"C:\\Users\\Shivam\\Python juypter\\ML\\FileHandling.txt\",'w')\n",
    "file.close()"
   ]
  },
  {
   "cell_type": "code",
   "execution_count": 11,
   "id": "b6ea2cb2",
   "metadata": {},
   "outputs": [
    {
     "name": "stdout",
     "output_type": "stream",
     "text": [
      "hi, myself shivam\n"
     ]
    }
   ],
   "source": [
    "import os\n",
    "file=open(r\"C:\\Users\\Shivam\\Python juypter\\ML\\FileHandling.txt\",'r')\n",
    "print(file.read())\n",
    "file.close()"
   ]
  },
  {
   "cell_type": "code",
   "execution_count": 12,
   "id": "7a9aa288",
   "metadata": {},
   "outputs": [
    {
     "name": "stdout",
     "output_type": "stream",
     "text": [
      "hi, m\n"
     ]
    }
   ],
   "source": [
    "import os\n",
    "file=open(r\"C:\\Users\\Shivam\\Python juypter\\ML\\FileHandling.txt\",'r')\n",
    "print(file.read(5))\n",
    "file.close()"
   ]
  },
  {
   "cell_type": "code",
   "execution_count": 14,
   "id": "a9134657",
   "metadata": {},
   "outputs": [],
   "source": [
    "# print file.readline()-->line by line output(single line)\n",
    "# print file.readline(3)-->read 3 line only(character of single line)\n",
    "# print file.readlines()-->read lines separately(all lines)"
   ]
  },
  {
   "cell_type": "code",
   "execution_count": 15,
   "id": "74077a9e",
   "metadata": {},
   "outputs": [
    {
     "name": "stdout",
     "output_type": "stream",
     "text": [
      "hi, myself shivam\n",
      "\n"
     ]
    }
   ],
   "source": [
    " import os\n",
    "file=open(r\"C:\\Users\\Shivam\\Python juypter\\ML\\FileHandling.txt\",'r')\n",
    "print(file.readline())\n",
    "file.close()"
   ]
  },
  {
   "cell_type": "code",
   "execution_count": 16,
   "id": "ce6ee7a9",
   "metadata": {},
   "outputs": [
    {
     "name": "stdout",
     "output_type": "stream",
     "text": [
      "['hi, myself shivam\\n', 'I love python\\n', 'Thanku campusX']\n"
     ]
    }
   ],
   "source": [
    "import os\n",
    "file=open(r\"C:\\Users\\Shivam\\Python juypter\\ML\\FileHandling.txt\",'r')\n",
    "print(file.readlines())\n",
    "file.close()"
   ]
  },
  {
   "cell_type": "code",
   "execution_count": 20,
   "id": "42565ebc",
   "metadata": {},
   "outputs": [
    {
     "name": "stdout",
     "output_type": "stream",
     "text": [
      "hi,\n"
     ]
    }
   ],
   "source": [
    "import os\n",
    "file=open(r\"C:\\Users\\Shivam\\Python juypter\\ML\\FileHandling.txt\",'r')\n",
    "print(file.readline(3))\n",
    "file.close()"
   ]
  },
  {
   "cell_type": "code",
   "execution_count": 21,
   "id": "d55dc647",
   "metadata": {},
   "outputs": [
    {
     "name": "stdout",
     "output_type": "stream",
     "text": [
      "['I love python\\n', 'Thanku campusX']\n"
     ]
    }
   ],
   "source": [
    "import os\n",
    "file=open(r\"C:\\Users\\Shivam\\Python juypter\\ML\\FileHandling.txt\",'r')\n",
    "for line in file:\n",
    "    print(file.readlines())\n",
    "file.close()"
   ]
  },
  {
   "cell_type": "code",
   "execution_count": 22,
   "id": "5a621eb9",
   "metadata": {},
   "outputs": [],
   "source": [
    "# 'a'-->Append..opens a file for appending creates the file if it does not exists\n",
    "# 'w'-->Write..opens a file for writting ,creates the file if it does not exits\n",
    "\n",
    "\n",
    "\n",
    "# the \"w\" method will overwrite the entire file"
   ]
  },
  {
   "cell_type": "code",
   "execution_count": 24,
   "id": "3fcbedd6",
   "metadata": {},
   "outputs": [],
   "source": [
    "import os\n",
    "file=open(r\"C:\\Users\\Shivam\\Python juypter\\ML\\FileHandling.txt\",'w')\n",
    "file.write(\"hello world\")\n",
    "file.write(\"Hello world again?\")\n",
    "file.close()"
   ]
  },
  {
   "cell_type": "code",
   "execution_count": 25,
   "id": "e991b8da",
   "metadata": {},
   "outputs": [],
   "source": [
    "import os\n",
    "file=open(r\"C:\\Users\\Shivam\\Python juypter\\ML\\FileHandling.txt\",'w')\n",
    "file.write(\"Oops overwritten\")\n",
    "file.close()"
   ]
  },
  {
   "cell_type": "code",
   "execution_count": 26,
   "id": "0d2241bc",
   "metadata": {},
   "outputs": [],
   "source": [
    "import os\n",
    "file=open(r\"C:\\Users\\Shivam\\Python juypter\\ML\\Newtest.txt\",'x')\n",
    "file.write(\"new file\")\n",
    "file.close()"
   ]
  },
  {
   "cell_type": "code",
   "execution_count": 27,
   "id": "bc164f3e",
   "metadata": {},
   "outputs": [],
   "source": [
    "# open() method again\n",
    "# \"x\"-->create...will create a file , return an error if the file exist\n",
    "# \"a\"-->Append...will create a file if the specified dile does not exist\n",
    "# \"w\"-->write..will create a file if the specified file does not exist"
   ]
  },
  {
   "cell_type": "code",
   "execution_count": 28,
   "id": "012b4fde",
   "metadata": {},
   "outputs": [],
   "source": [
    "# os.remove() function\n",
    "# -->to delete a file,we must import the OS module, and run its os.remove() function\n",
    "# import os\n",
    "# os.remove(\"demofile.txt\")\n",
    "\n",
    "\n",
    "\n",
    "# check if file exists\n",
    "# import os\n",
    "# if os.path.exists(demofile.txt):\n",
    "#     os.remove(demofile.txt)\n",
    "# else\n",
    "# print(\"file does not exist\")\n",
    "\n",
    "\n",
    "# deleting a folder\n",
    "# import os\n",
    "# os.rmdir(\"myfolder\")"
   ]
  },
  {
   "cell_type": "code",
   "execution_count": null,
   "id": "444b5982",
   "metadata": {},
   "outputs": [],
   "source": []
  }
 ],
 "metadata": {
  "kernelspec": {
   "display_name": "Python 3 (ipykernel)",
   "language": "python",
   "name": "python3"
  },
  "language_info": {
   "codemirror_mode": {
    "name": "ipython",
    "version": 3
   },
   "file_extension": ".py",
   "mimetype": "text/x-python",
   "name": "python",
   "nbconvert_exporter": "python",
   "pygments_lexer": "ipython3",
   "version": "3.9.12"
  }
 },
 "nbformat": 4,
 "nbformat_minor": 5
}
