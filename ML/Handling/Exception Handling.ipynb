{
 "cells": [
  {
   "cell_type": "code",
   "execution_count": 3,
   "id": "30fdc3c6",
   "metadata": {},
   "outputs": [
    {
     "name": "stdout",
     "output_type": "stream",
     "text": [
      "Sorry, this file doesn't exists\n"
     ]
    }
   ],
   "source": [
    "\n",
    "try:\n",
    "    f = open(r\"C:\\Users\\Shivam\\Python juypter\\ML\")\n",
    "except Exception:\n",
    "    print(\"Sorry, this file doesn't exists\")\n",
    "# else:\n",
    "#     pass\n",
    "# finally:\n",
    "#     pass"
   ]
  },
  {
   "cell_type": "code",
   "execution_count": 6,
   "id": "1794c051",
   "metadata": {},
   "outputs": [
    {
     "name": "stdout",
     "output_type": "stream",
     "text": [
      "Sorry, Something went wrong\n"
     ]
    }
   ],
   "source": [
    "try:\n",
    "    f = open(r\"C:\\Users\\Shivam\\Python juypter\\ML\")\n",
    "    var = bad_var\n",
    "except FileNotFoundError:\n",
    "    print(\"Sorry, this file doesn't exists\")\n",
    "except Exception:\n",
    "    print(\"Sorry, Something went wrong\")"
   ]
  },
  {
   "cell_type": "code",
   "execution_count": 10,
   "id": "ff2cd913",
   "metadata": {},
   "outputs": [
    {
     "name": "stdout",
     "output_type": "stream",
     "text": [
      "name 'bad_var' is not defined\n"
     ]
    }
   ],
   "source": [
    "try:\n",
    "    f = open(r\"C:\\Users\\Shivam\\Python juypter\\ML\\FileHandling.txt\")\n",
    "    var = bad_var\n",
    "except FileNotFoundError as e:\n",
    "    print(e)\n",
    "except Exception as e:\n",
    "    print(e)"
   ]
  },
  {
   "cell_type": "code",
   "execution_count": 12,
   "id": "300dfa35",
   "metadata": {},
   "outputs": [
    {
     "name": "stdout",
     "output_type": "stream",
     "text": [
      "Oops overwritten\n"
     ]
    }
   ],
   "source": [
    "try:\n",
    "    f = open(r\"C:\\Users\\Shivam\\Python juypter\\ML\\FileHandling.txt\")\n",
    "except FileNotFoundError as e:\n",
    "    print(e)\n",
    "except Exception as e:\n",
    "    print(e)\n",
    "else:\n",
    "    print(f.read())\n",
    "    f.close()"
   ]
  },
  {
   "cell_type": "code",
   "execution_count": 13,
   "id": "ce72609f",
   "metadata": {},
   "outputs": [
    {
     "name": "stdout",
     "output_type": "stream",
     "text": [
      "Oops overwritten\n",
      "Executing Finally...\n"
     ]
    }
   ],
   "source": [
    "try:\n",
    "    f = open(r\"C:\\Users\\Shivam\\Python juypter\\ML\\FileHandling.txt\")\n",
    "except FileNotFoundError as e:\n",
    "    print(e)\n",
    "except Exception as e:\n",
    "    print(e)\n",
    "else:\n",
    "    print(f.read())\n",
    "    f.close()\n",
    "finally:\n",
    "    print(\"Executing Finally...\")"
   ]
  },
  {
   "cell_type": "code",
   "execution_count": 14,
   "id": "25f6625c",
   "metadata": {},
   "outputs": [
    {
     "name": "stdout",
     "output_type": "stream",
     "text": [
      "[Errno 13] Permission denied: 'C:\\\\Users\\\\Shivam\\\\Python juypter\\\\ML'\n",
      "Executing Finally...\n"
     ]
    }
   ],
   "source": [
    "try:\n",
    "    f = open(r\"C:\\Users\\Shivam\\Python juypter\\ML\")\n",
    "except FileNotFoundError as e:\n",
    "    print(e)\n",
    "except Exception as e:\n",
    "    print(e)\n",
    "else:\n",
    "    print(f.read())\n",
    "    f.close()\n",
    "finally:\n",
    "    print(\"Executing Finally...\")"
   ]
  },
  {
   "cell_type": "code",
   "execution_count": 17,
   "id": "d8cfea79",
   "metadata": {},
   "outputs": [
    {
     "name": "stdout",
     "output_type": "stream",
     "text": [
      "Error!\n",
      "Executing Finally...\n"
     ]
    }
   ],
   "source": [
    "try:\n",
    "    f = open(r\"C:\\Users\\Shivam\\Python juypter\\ML\\FileHandling.txt\")\n",
    "    if f.name == r\"C:\\Users\\Shivam\\Python juypter\\ML\\FileHandling.txt\":\n",
    "        raise Exception\n",
    "except FileNotFoundError as e:\n",
    "    print(e)\n",
    "except Exception as e:\n",
    "    print(\"Error!\")\n",
    "else:\n",
    "    print(f.read())\n",
    "    f.close()\n",
    "finally:\n",
    "    print(\"Executing Finally...\")"
   ]
  },
  {
   "cell_type": "code",
   "execution_count": null,
   "id": "23491fe8",
   "metadata": {},
   "outputs": [],
   "source": []
  }
 ],
 "metadata": {
  "kernelspec": {
   "display_name": "Python 3 (ipykernel)",
   "language": "python",
   "name": "python3"
  },
  "language_info": {
   "codemirror_mode": {
    "name": "ipython",
    "version": 3
   },
   "file_extension": ".py",
   "mimetype": "text/x-python",
   "name": "python",
   "nbconvert_exporter": "python",
   "pygments_lexer": "ipython3",
   "version": "3.9.12"
  }
 },
 "nbformat": 4,
 "nbformat_minor": 5
}
