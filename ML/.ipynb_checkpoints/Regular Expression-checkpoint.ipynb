{
 "cells": [
  {
   "cell_type": "code",
   "execution_count": 1,
   "id": "e0950f0f",
   "metadata": {},
   "outputs": [],
   "source": [
    "import re"
   ]
  },
  {
   "cell_type": "code",
   "execution_count": 125,
   "id": "5b9c35e7",
   "metadata": {},
   "outputs": [],
   "source": [
    "text_to_search ='''\n",
    "abcdefghijklmnopqrstuvwxyz\n",
    "ABCDEFGHIJKLMNOPQRSTUVWXYZ\n",
    "1234567890\n",
    "\n",
    "Ha HaHa\n",
    "MetaCharacters (Need to be escaped):\n",
    ". ^ $ * + ? { } [ ] \\ | ( )\n",
    "\n",
    "coreyms.com\n",
    "\n",
    "321-555-4321\n",
    "123.555.1234\n",
    "321*555*4321\n",
    "123--555--1234\n",
    "800-555-4321\n",
    "900-555-1234\n",
    "\n",
    "Mr. Schafer\n",
    "Mr Smith\n",
    "Ms davis\n",
    "Mrs. Robinson\n",
    "Mr. T\n",
    "\n",
    "\n",
    "cat \n",
    "bat\n",
    "mat pat\n",
    "'''\n",
    "\n",
    "sentence ='Start Start a sentence and then bring it to an end'"
   ]
  },
  {
   "cell_type": "code",
   "execution_count": 5,
   "id": "33c47c3c",
   "metadata": {},
   "outputs": [
    {
     "name": "stdout",
     "output_type": "stream",
     "text": [
      "\tTab\n"
     ]
    }
   ],
   "source": [
    "print('\\tTab')   #\\t will give 1tab space"
   ]
  },
  {
   "cell_type": "code",
   "execution_count": 6,
   "id": "cf7d1fe1",
   "metadata": {},
   "outputs": [
    {
     "name": "stdout",
     "output_type": "stream",
     "text": [
      "\\tTab\n"
     ]
    }
   ],
   "source": [
    "print(r'\\tTab')   #r is raw string"
   ]
  },
  {
   "cell_type": "code",
   "execution_count": 9,
   "id": "0a95372c",
   "metadata": {},
   "outputs": [
    {
     "name": "stdout",
     "output_type": "stream",
     "text": [
      "<re.Match object; span=(1, 4), match='abc'>\n"
     ]
    }
   ],
   "source": [
    "pattern = re.compile(r'abc')  #it will search the following pattern\n",
    "matches = pattern.finditer(text_to_search)   #iterator\n",
    "\n",
    "\n",
    "for match in matches:\n",
    "    print(match)"
   ]
  },
  {
   "cell_type": "code",
   "execution_count": 11,
   "id": "a8d3c52c",
   "metadata": {},
   "outputs": [
    {
     "name": "stdout",
     "output_type": "stream",
     "text": [
      "abc\n"
     ]
    }
   ],
   "source": [
    "print(text_to_search[1:4])"
   ]
  },
  {
   "cell_type": "code",
   "execution_count": 12,
   "id": "d5c7af78",
   "metadata": {},
   "outputs": [
    {
     "name": "stdout",
     "output_type": "stream",
     "text": [
      "<re.Match object; span=(1, 2), match='a'>\n",
      "<re.Match object; span=(2, 3), match='b'>\n",
      "<re.Match object; span=(3, 4), match='c'>\n",
      "<re.Match object; span=(4, 5), match='d'>\n",
      "<re.Match object; span=(5, 6), match='e'>\n",
      "<re.Match object; span=(6, 7), match='f'>\n",
      "<re.Match object; span=(7, 8), match='g'>\n",
      "<re.Match object; span=(8, 9), match='h'>\n",
      "<re.Match object; span=(9, 10), match='i'>\n",
      "<re.Match object; span=(10, 11), match='j'>\n",
      "<re.Match object; span=(11, 12), match='k'>\n",
      "<re.Match object; span=(12, 13), match='l'>\n",
      "<re.Match object; span=(13, 14), match='m'>\n",
      "<re.Match object; span=(14, 15), match='n'>\n",
      "<re.Match object; span=(15, 16), match='o'>\n",
      "<re.Match object; span=(16, 17), match='p'>\n",
      "<re.Match object; span=(17, 18), match='q'>\n",
      "<re.Match object; span=(18, 19), match='r'>\n",
      "<re.Match object; span=(19, 20), match='s'>\n",
      "<re.Match object; span=(20, 21), match='t'>\n",
      "<re.Match object; span=(21, 22), match='u'>\n",
      "<re.Match object; span=(22, 23), match='v'>\n",
      "<re.Match object; span=(23, 24), match='w'>\n",
      "<re.Match object; span=(24, 25), match='x'>\n",
      "<re.Match object; span=(25, 26), match='y'>\n",
      "<re.Match object; span=(26, 27), match='z'>\n",
      "<re.Match object; span=(28, 29), match='A'>\n",
      "<re.Match object; span=(29, 30), match='B'>\n",
      "<re.Match object; span=(30, 31), match='C'>\n",
      "<re.Match object; span=(31, 32), match='D'>\n",
      "<re.Match object; span=(32, 33), match='E'>\n",
      "<re.Match object; span=(33, 34), match='F'>\n",
      "<re.Match object; span=(34, 35), match='G'>\n",
      "<re.Match object; span=(35, 36), match='H'>\n",
      "<re.Match object; span=(36, 37), match='I'>\n",
      "<re.Match object; span=(37, 38), match='J'>\n",
      "<re.Match object; span=(38, 39), match='K'>\n",
      "<re.Match object; span=(39, 40), match='L'>\n",
      "<re.Match object; span=(40, 41), match='M'>\n",
      "<re.Match object; span=(41, 42), match='N'>\n",
      "<re.Match object; span=(42, 43), match='O'>\n",
      "<re.Match object; span=(43, 44), match='P'>\n",
      "<re.Match object; span=(44, 45), match='Q'>\n",
      "<re.Match object; span=(45, 46), match='R'>\n",
      "<re.Match object; span=(46, 47), match='S'>\n",
      "<re.Match object; span=(47, 48), match='T'>\n",
      "<re.Match object; span=(48, 49), match='U'>\n",
      "<re.Match object; span=(49, 50), match='V'>\n",
      "<re.Match object; span=(50, 51), match='W'>\n",
      "<re.Match object; span=(51, 52), match='X'>\n",
      "<re.Match object; span=(52, 53), match='Y'>\n",
      "<re.Match object; span=(53, 54), match='Z'>\n",
      "<re.Match object; span=(55, 56), match='1'>\n",
      "<re.Match object; span=(56, 57), match='2'>\n",
      "<re.Match object; span=(57, 58), match='3'>\n",
      "<re.Match object; span=(58, 59), match='4'>\n",
      "<re.Match object; span=(59, 60), match='5'>\n",
      "<re.Match object; span=(60, 61), match='6'>\n",
      "<re.Match object; span=(61, 62), match='7'>\n",
      "<re.Match object; span=(62, 63), match='8'>\n",
      "<re.Match object; span=(63, 64), match='9'>\n",
      "<re.Match object; span=(64, 65), match='0'>\n",
      "<re.Match object; span=(67, 68), match='H'>\n",
      "<re.Match object; span=(68, 69), match='a'>\n",
      "<re.Match object; span=(69, 70), match=' '>\n",
      "<re.Match object; span=(70, 71), match='H'>\n",
      "<re.Match object; span=(71, 72), match='a'>\n",
      "<re.Match object; span=(72, 73), match='H'>\n",
      "<re.Match object; span=(73, 74), match='a'>\n",
      "<re.Match object; span=(75, 76), match='M'>\n",
      "<re.Match object; span=(76, 77), match='e'>\n",
      "<re.Match object; span=(77, 78), match='t'>\n",
      "<re.Match object; span=(78, 79), match='a'>\n",
      "<re.Match object; span=(79, 80), match='C'>\n",
      "<re.Match object; span=(80, 81), match='h'>\n",
      "<re.Match object; span=(81, 82), match='a'>\n",
      "<re.Match object; span=(82, 83), match='r'>\n",
      "<re.Match object; span=(83, 84), match='a'>\n",
      "<re.Match object; span=(84, 85), match='c'>\n",
      "<re.Match object; span=(85, 86), match='t'>\n",
      "<re.Match object; span=(86, 87), match='e'>\n",
      "<re.Match object; span=(87, 88), match='r'>\n",
      "<re.Match object; span=(88, 89), match='s'>\n",
      "<re.Match object; span=(89, 90), match=' '>\n",
      "<re.Match object; span=(90, 91), match='('>\n",
      "<re.Match object; span=(91, 92), match='N'>\n",
      "<re.Match object; span=(92, 93), match='e'>\n",
      "<re.Match object; span=(93, 94), match='e'>\n",
      "<re.Match object; span=(94, 95), match='d'>\n",
      "<re.Match object; span=(95, 96), match=' '>\n",
      "<re.Match object; span=(96, 97), match='t'>\n",
      "<re.Match object; span=(97, 98), match='o'>\n",
      "<re.Match object; span=(98, 99), match=' '>\n",
      "<re.Match object; span=(99, 100), match='b'>\n",
      "<re.Match object; span=(100, 101), match='e'>\n",
      "<re.Match object; span=(101, 102), match=' '>\n",
      "<re.Match object; span=(102, 103), match='e'>\n",
      "<re.Match object; span=(103, 104), match='s'>\n",
      "<re.Match object; span=(104, 105), match='c'>\n",
      "<re.Match object; span=(105, 106), match='a'>\n",
      "<re.Match object; span=(106, 107), match='p'>\n",
      "<re.Match object; span=(107, 108), match='e'>\n",
      "<re.Match object; span=(108, 109), match='d'>\n",
      "<re.Match object; span=(109, 110), match=')'>\n",
      "<re.Match object; span=(110, 111), match=':'>\n",
      "<re.Match object; span=(112, 113), match='.'>\n",
      "<re.Match object; span=(113, 114), match=' '>\n",
      "<re.Match object; span=(114, 115), match='^'>\n",
      "<re.Match object; span=(115, 116), match=' '>\n",
      "<re.Match object; span=(116, 117), match='$'>\n",
      "<re.Match object; span=(117, 118), match=' '>\n",
      "<re.Match object; span=(118, 119), match='*'>\n",
      "<re.Match object; span=(119, 120), match=' '>\n",
      "<re.Match object; span=(120, 121), match='+'>\n",
      "<re.Match object; span=(121, 122), match=' '>\n",
      "<re.Match object; span=(122, 123), match='?'>\n",
      "<re.Match object; span=(123, 124), match=' '>\n",
      "<re.Match object; span=(124, 125), match='{'>\n",
      "<re.Match object; span=(125, 126), match=' '>\n",
      "<re.Match object; span=(126, 127), match='}'>\n",
      "<re.Match object; span=(127, 128), match=' '>\n",
      "<re.Match object; span=(128, 129), match='['>\n",
      "<re.Match object; span=(129, 130), match=' '>\n",
      "<re.Match object; span=(130, 131), match=']'>\n",
      "<re.Match object; span=(131, 132), match=' '>\n",
      "<re.Match object; span=(132, 133), match='\\\\'>\n",
      "<re.Match object; span=(133, 134), match=' '>\n",
      "<re.Match object; span=(134, 135), match='|'>\n",
      "<re.Match object; span=(135, 136), match=' '>\n",
      "<re.Match object; span=(136, 137), match='('>\n",
      "<re.Match object; span=(137, 138), match=' '>\n",
      "<re.Match object; span=(138, 139), match=')'>\n",
      "<re.Match object; span=(141, 142), match='c'>\n",
      "<re.Match object; span=(142, 143), match='o'>\n",
      "<re.Match object; span=(143, 144), match='r'>\n",
      "<re.Match object; span=(144, 145), match='e'>\n",
      "<re.Match object; span=(145, 146), match='y'>\n",
      "<re.Match object; span=(146, 147), match='m'>\n",
      "<re.Match object; span=(147, 148), match='s'>\n",
      "<re.Match object; span=(148, 149), match='.'>\n",
      "<re.Match object; span=(149, 150), match='c'>\n",
      "<re.Match object; span=(150, 151), match='o'>\n",
      "<re.Match object; span=(151, 152), match='m'>\n",
      "<re.Match object; span=(154, 155), match='3'>\n",
      "<re.Match object; span=(155, 156), match='2'>\n",
      "<re.Match object; span=(156, 157), match='1'>\n",
      "<re.Match object; span=(157, 158), match='-'>\n",
      "<re.Match object; span=(158, 159), match='5'>\n",
      "<re.Match object; span=(159, 160), match='5'>\n",
      "<re.Match object; span=(160, 161), match='5'>\n",
      "<re.Match object; span=(161, 162), match='-'>\n",
      "<re.Match object; span=(162, 163), match='4'>\n",
      "<re.Match object; span=(163, 164), match='3'>\n",
      "<re.Match object; span=(164, 165), match='2'>\n",
      "<re.Match object; span=(165, 166), match='1'>\n",
      "<re.Match object; span=(167, 168), match='1'>\n",
      "<re.Match object; span=(168, 169), match='2'>\n",
      "<re.Match object; span=(169, 170), match='3'>\n",
      "<re.Match object; span=(170, 171), match='.'>\n",
      "<re.Match object; span=(171, 172), match='5'>\n",
      "<re.Match object; span=(172, 173), match='5'>\n",
      "<re.Match object; span=(173, 174), match='5'>\n",
      "<re.Match object; span=(174, 175), match='.'>\n",
      "<re.Match object; span=(175, 176), match='1'>\n",
      "<re.Match object; span=(176, 177), match='2'>\n",
      "<re.Match object; span=(177, 178), match='3'>\n",
      "<re.Match object; span=(178, 179), match='4'>\n",
      "<re.Match object; span=(181, 182), match='M'>\n",
      "<re.Match object; span=(182, 183), match='r'>\n",
      "<re.Match object; span=(183, 184), match='.'>\n",
      "<re.Match object; span=(184, 185), match=' '>\n",
      "<re.Match object; span=(185, 186), match='S'>\n",
      "<re.Match object; span=(186, 187), match='c'>\n",
      "<re.Match object; span=(187, 188), match='h'>\n",
      "<re.Match object; span=(188, 189), match='a'>\n",
      "<re.Match object; span=(189, 190), match='f'>\n",
      "<re.Match object; span=(190, 191), match='e'>\n",
      "<re.Match object; span=(191, 192), match='r'>\n",
      "<re.Match object; span=(193, 194), match='M'>\n",
      "<re.Match object; span=(194, 195), match='r'>\n",
      "<re.Match object; span=(195, 196), match=' '>\n",
      "<re.Match object; span=(196, 197), match='S'>\n",
      "<re.Match object; span=(197, 198), match='m'>\n",
      "<re.Match object; span=(198, 199), match='i'>\n",
      "<re.Match object; span=(199, 200), match='t'>\n",
      "<re.Match object; span=(200, 201), match='h'>\n",
      "<re.Match object; span=(202, 203), match='M'>\n",
      "<re.Match object; span=(203, 204), match='s'>\n",
      "<re.Match object; span=(204, 205), match=' '>\n",
      "<re.Match object; span=(205, 206), match='d'>\n",
      "<re.Match object; span=(206, 207), match='a'>\n",
      "<re.Match object; span=(207, 208), match='v'>\n",
      "<re.Match object; span=(208, 209), match='i'>\n",
      "<re.Match object; span=(209, 210), match='s'>\n",
      "<re.Match object; span=(211, 212), match='M'>\n",
      "<re.Match object; span=(212, 213), match='r'>\n",
      "<re.Match object; span=(213, 214), match='s'>\n",
      "<re.Match object; span=(214, 215), match='.'>\n",
      "<re.Match object; span=(215, 216), match=' '>\n",
      "<re.Match object; span=(216, 217), match='R'>\n",
      "<re.Match object; span=(217, 218), match='o'>\n",
      "<re.Match object; span=(218, 219), match='b'>\n",
      "<re.Match object; span=(219, 220), match='i'>\n",
      "<re.Match object; span=(220, 221), match='n'>\n",
      "<re.Match object; span=(221, 222), match='s'>\n",
      "<re.Match object; span=(222, 223), match='o'>\n",
      "<re.Match object; span=(223, 224), match='n'>\n",
      "<re.Match object; span=(225, 226), match='M'>\n",
      "<re.Match object; span=(226, 227), match='r'>\n",
      "<re.Match object; span=(227, 228), match='.'>\n",
      "<re.Match object; span=(228, 229), match=' '>\n",
      "<re.Match object; span=(229, 230), match='T'>\n"
     ]
    }
   ],
   "source": [
    "pattern = re.compile(r'.')  #it will print any character except new line\n",
    "matches = pattern.finditer(text_to_search)   #iterator\n",
    "\n",
    "\n",
    "for match in matches:\n",
    "    print(match)"
   ]
  },
  {
   "cell_type": "code",
   "execution_count": 13,
   "id": "f054b7a1",
   "metadata": {},
   "outputs": [
    {
     "name": "stdout",
     "output_type": "stream",
     "text": [
      "<re.Match object; span=(112, 113), match='.'>\n",
      "<re.Match object; span=(148, 149), match='.'>\n",
      "<re.Match object; span=(170, 171), match='.'>\n",
      "<re.Match object; span=(174, 175), match='.'>\n",
      "<re.Match object; span=(183, 184), match='.'>\n",
      "<re.Match object; span=(214, 215), match='.'>\n",
      "<re.Match object; span=(227, 228), match='.'>\n"
     ]
    }
   ],
   "source": [
    "pattern = re.compile('\\.')  #escaping period\n",
    "matches = pattern.finditer(text_to_search)   #iterator\n",
    "\n",
    "\n",
    "for match in matches:\n",
    "    print(match)    "
   ]
  },
  {
   "cell_type": "code",
   "execution_count": 14,
   "id": "58635c65",
   "metadata": {},
   "outputs": [
    {
     "name": "stdout",
     "output_type": "stream",
     "text": [
      "<re.Match object; span=(141, 152), match='coreyms.com'>\n"
     ]
    }
   ],
   "source": [
    "pattern = re.compile(r'coreyms\\.com')  #it will search the following pattern\n",
    "matches = pattern.finditer(text_to_search)   #iterator\n",
    "\n",
    "\n",
    "for match in matches:\n",
    "    print(match)"
   ]
  },
  {
   "cell_type": "code",
   "execution_count": 16,
   "id": "07082daf",
   "metadata": {},
   "outputs": [
    {
     "name": "stdout",
     "output_type": "stream",
     "text": [
      "<re.Match object; span=(4, 5), match='d'>\n",
      "<re.Match object; span=(94, 95), match='d'>\n",
      "<re.Match object; span=(108, 109), match='d'>\n",
      "<re.Match object; span=(205, 206), match='d'>\n"
     ]
    }
   ],
   "source": [
    "pattern = re.compile(r'd')  \n",
    "matches = pattern.finditer(text_to_search)   #iterator\n",
    "\n",
    "\n",
    "for match in matches:\n",
    "    print(match)"
   ]
  },
  {
   "cell_type": "code",
   "execution_count": 17,
   "id": "e954cb41",
   "metadata": {},
   "outputs": [
    {
     "name": "stdout",
     "output_type": "stream",
     "text": [
      "<re.Match object; span=(55, 56), match='1'>\n",
      "<re.Match object; span=(56, 57), match='2'>\n",
      "<re.Match object; span=(57, 58), match='3'>\n",
      "<re.Match object; span=(58, 59), match='4'>\n",
      "<re.Match object; span=(59, 60), match='5'>\n",
      "<re.Match object; span=(60, 61), match='6'>\n",
      "<re.Match object; span=(61, 62), match='7'>\n",
      "<re.Match object; span=(62, 63), match='8'>\n",
      "<re.Match object; span=(63, 64), match='9'>\n",
      "<re.Match object; span=(64, 65), match='0'>\n",
      "<re.Match object; span=(154, 155), match='3'>\n",
      "<re.Match object; span=(155, 156), match='2'>\n",
      "<re.Match object; span=(156, 157), match='1'>\n",
      "<re.Match object; span=(158, 159), match='5'>\n",
      "<re.Match object; span=(159, 160), match='5'>\n",
      "<re.Match object; span=(160, 161), match='5'>\n",
      "<re.Match object; span=(162, 163), match='4'>\n",
      "<re.Match object; span=(163, 164), match='3'>\n",
      "<re.Match object; span=(164, 165), match='2'>\n",
      "<re.Match object; span=(165, 166), match='1'>\n",
      "<re.Match object; span=(167, 168), match='1'>\n",
      "<re.Match object; span=(168, 169), match='2'>\n",
      "<re.Match object; span=(169, 170), match='3'>\n",
      "<re.Match object; span=(171, 172), match='5'>\n",
      "<re.Match object; span=(172, 173), match='5'>\n",
      "<re.Match object; span=(173, 174), match='5'>\n",
      "<re.Match object; span=(175, 176), match='1'>\n",
      "<re.Match object; span=(176, 177), match='2'>\n",
      "<re.Match object; span=(177, 178), match='3'>\n",
      "<re.Match object; span=(178, 179), match='4'>\n"
     ]
    }
   ],
   "source": [
    "pattern = re.compile(r'\\d')  #it will match all digit between 0to9\n",
    "matches = pattern.finditer(text_to_search)   #iterator\n",
    "\n",
    "\n",
    "for match in matches:\n",
    "    print(match)"
   ]
  },
  {
   "cell_type": "code",
   "execution_count": 20,
   "id": "ae0f6bf7",
   "metadata": {},
   "outputs": [],
   "source": [
    "# .-->Any character except new line\n",
    "# \\d-->Digit 0-9\n",
    "# \\D --> not a digit(0-9)\n",
    "# \\w-->word character (a-z,A-Z,0-9,_)\n",
    "# \\W-->not a word character\n",
    "# \\s-->whitespace(apace,tab,newline)\n",
    "# \\S-->not whitespace (apace,tab,newline)\n",
    "# \\b-->word boundary\n",
    "# \\B-->not a word boundary\n",
    "# ^-->Beginning of a string\n",
    "# $-->End of a string\n",
    "# []-->matches characters in brackets\n",
    "# [^ ]-->matches characters not in bracket"
   ]
  },
  {
   "cell_type": "code",
   "execution_count": 21,
   "id": "3382f126",
   "metadata": {},
   "outputs": [
    {
     "name": "stdout",
     "output_type": "stream",
     "text": [
      "<re.Match object; span=(67, 69), match='Ha'>\n",
      "<re.Match object; span=(70, 72), match='Ha'>\n"
     ]
    }
   ],
   "source": [
    "pattern = re.compile(r'\\bHa')  #it will match all digit between 0to9\n",
    "matches = pattern.finditer(text_to_search)   #iterator\n",
    "\n",
    "\n",
    "for match in matches:\n",
    "    print(match)"
   ]
  },
  {
   "cell_type": "code",
   "execution_count": 22,
   "id": "f7c36ef6",
   "metadata": {},
   "outputs": [
    {
     "name": "stdout",
     "output_type": "stream",
     "text": [
      "<re.Match object; span=(72, 74), match='Ha'>\n"
     ]
    }
   ],
   "source": [
    "pattern = re.compile(r'\\BHa')  #it will match all digit between 0to9\n",
    "matches = pattern.finditer(text_to_search)   #iterator\n",
    "\n",
    "\n",
    "for match in matches:\n",
    "    print(match)"
   ]
  },
  {
   "cell_type": "code",
   "execution_count": 23,
   "id": "b2003ed3",
   "metadata": {},
   "outputs": [
    {
     "name": "stdout",
     "output_type": "stream",
     "text": [
      "<re.Match object; span=(0, 5), match='Start'>\n"
     ]
    }
   ],
   "source": [
    "pattern = re.compile(r'^Start')  #it will only search beginning character\n",
    "matches = pattern.finditer(sentence)   #iterator\n",
    "\n",
    "\n",
    "for match in matches:\n",
    "    print(match)"
   ]
  },
  {
   "cell_type": "code",
   "execution_count": 25,
   "id": "2322425c",
   "metadata": {},
   "outputs": [],
   "source": [
    "pattern = re.compile(r'^a')  #it will match all digit between 0to9\n",
    "matches = pattern.finditer(sentence)   #iterator\n",
    "\n",
    "\n",
    "for match in matches:\n",
    "    print(match)"
   ]
  },
  {
   "cell_type": "code",
   "execution_count": 26,
   "id": "66fbe45b",
   "metadata": {},
   "outputs": [
    {
     "name": "stdout",
     "output_type": "stream",
     "text": [
      "<re.Match object; span=(41, 44), match='end'>\n"
     ]
    }
   ],
   "source": [
    "pattern = re.compile(r'end$')  #it will search only end character\n",
    "matches = pattern.finditer(sentence)   #iterator\n",
    "\n",
    "\n",
    "for match in matches:\n",
    "    print(match)"
   ]
  },
  {
   "cell_type": "code",
   "execution_count": 27,
   "id": "ab20a416",
   "metadata": {},
   "outputs": [],
   "source": [
    "pattern = re.compile(r'a$')  #it will match all digit between 0to9\n",
    "matches = pattern.finditer(sentence)   #iterator\n",
    "\n",
    "\n",
    "for match in matches:\n",
    "    print(match)"
   ]
  },
  {
   "cell_type": "code",
   "execution_count": 28,
   "id": "a1963a98",
   "metadata": {},
   "outputs": [
    {
     "name": "stdout",
     "output_type": "stream",
     "text": [
      "<re.Match object; span=(55, 58), match='123'>\n",
      "<re.Match object; span=(58, 61), match='456'>\n",
      "<re.Match object; span=(61, 64), match='789'>\n",
      "<re.Match object; span=(154, 157), match='321'>\n",
      "<re.Match object; span=(158, 161), match='555'>\n",
      "<re.Match object; span=(162, 165), match='432'>\n",
      "<re.Match object; span=(167, 170), match='123'>\n",
      "<re.Match object; span=(171, 174), match='555'>\n",
      "<re.Match object; span=(175, 178), match='123'>\n"
     ]
    }
   ],
   "source": [
    "pattern = re.compile(r'\\d\\d\\d')  #it will match all digit between 0to9\n",
    "matches = pattern.finditer(text_to_search)   #iterator\n",
    "\n",
    "\n",
    "for match in matches:\n",
    "    print(match)"
   ]
  },
  {
   "cell_type": "code",
   "execution_count": 29,
   "id": "fd4bc8af",
   "metadata": {},
   "outputs": [
    {
     "name": "stdout",
     "output_type": "stream",
     "text": [
      "<re.Match object; span=(154, 166), match='321-555-4321'>\n",
      "<re.Match object; span=(167, 179), match='123.555.1234'>\n"
     ]
    }
   ],
   "source": [
    "pattern = re.compile(r'\\d\\d\\d.\\d\\d\\d.\\d\\d\\d\\d')  #it will match all digit between 0to9\n",
    "matches = pattern.finditer(text_to_search)   #iterator\n",
    "\n",
    "\n",
    "for match in matches:\n",
    "    print(match)"
   ]
  },
  {
   "cell_type": "code",
   "execution_count": 67,
   "id": "f1f726a4",
   "metadata": {},
   "outputs": [],
   "source": [
    "import os\n",
    "file=open(r\"C:\\Users\\Shivam\\Python juypter\\ML\\data.txt\",'w')\n",
    "file.write('''abcdefghijklmnopqrstuvwxyz\n",
    "ABCDEFGHIJKLMNOPQRSTUVWXYZ\n",
    "1234567890\n",
    "\n",
    "321-555-4321\n",
    "123.555.1234\n",
    "123*555*1234\n",
    "800-555-4321\n",
    "900-555-1234\n",
    "\n",
    "cat \n",
    "mat\n",
    "bat\n",
    "pat\n",
    "''')\n",
    "file.close()"
   ]
  },
  {
   "cell_type": "code",
   "execution_count": 68,
   "id": "b93f1140",
   "metadata": {},
   "outputs": [
    {
     "name": "stdout",
     "output_type": "stream",
     "text": [
      "<re.Match object; span=(66, 78), match='321-555-4321'>\n",
      "<re.Match object; span=(79, 91), match='123.555.1234'>\n",
      "<re.Match object; span=(92, 104), match='123*555*1234'>\n",
      "<re.Match object; span=(105, 117), match='800-555-4321'>\n",
      "<re.Match object; span=(118, 130), match='900-555-1234'>\n"
     ]
    }
   ],
   "source": [
    "pattern = re.compile(r'\\d\\d\\d.\\d\\d\\d.\\d\\d\\d\\d')  #it will match all digit between 0to9\n",
    "matches = pattern.finditer(text_to_search)   #iterator\n",
    "\n",
    "# for match in matches:\n",
    "#     print(match)\n",
    " \n",
    "with open('data.txt', 'r') as f:\n",
    "    contents = f.read()\n",
    "    \n",
    "    matches =pattern.finditer(contents)\n",
    "\n",
    "for match in matches:\n",
    "    print(match)"
   ]
  },
  {
   "cell_type": "code",
   "execution_count": 69,
   "id": "a494a005",
   "metadata": {},
   "outputs": [
    {
     "name": "stdout",
     "output_type": "stream",
     "text": [
      "<re.Match object; span=(66, 78), match='321-555-4321'>\n",
      "<re.Match object; span=(79, 91), match='123.555.1234'>\n",
      "<re.Match object; span=(105, 117), match='800-555-4321'>\n",
      "<re.Match object; span=(118, 130), match='900-555-1234'>\n"
     ]
    }
   ],
   "source": [
    "pattern = re.compile(r'\\d\\d\\d[-.]\\d\\d\\d[-.]\\d\\d\\d\\d')  #it will match all digit between 0to9\n",
    "matches = pattern.finditer(text_to_search)   #iterator\n",
    "\n",
    "# for match in matches:\n",
    "#     print(match)\n",
    "\n",
    "with open('data.txt', 'r') as f:\n",
    "    contents = f.read()\n",
    "    \n",
    "    matches =pattern.finditer(contents)\n",
    "\n",
    "for match in matches:\n",
    "    print(match)"
   ]
  },
  {
   "cell_type": "code",
   "execution_count": 70,
   "id": "20fbd286",
   "metadata": {},
   "outputs": [
    {
     "name": "stdout",
     "output_type": "stream",
     "text": [
      "<re.Match object; span=(105, 117), match='800-555-4321'>\n",
      "<re.Match object; span=(118, 130), match='900-555-1234'>\n"
     ]
    }
   ],
   "source": [
    "pattern = re.compile(r'[89]00[-.]\\d\\d\\d[-.]\\d\\d\\d\\d')  #it will match all digit between 0to9\n",
    "matches = pattern.finditer(text_to_search)   #iterator\n",
    "\n",
    "# for match in matches:\n",
    "#     print(match)\n",
    "\n",
    "with open('data.txt', 'r') as f:\n",
    "    contents = f.read()\n",
    "    \n",
    "    matches =pattern.finditer(contents)\n",
    "\n",
    "for match in matches:\n",
    "    print(match)"
   ]
  },
  {
   "cell_type": "code",
   "execution_count": 71,
   "id": "2bdf8888",
   "metadata": {},
   "outputs": [
    {
     "name": "stdout",
     "output_type": "stream",
     "text": [
      "<re.Match object; span=(55, 56), match='1'>\n",
      "<re.Match object; span=(56, 57), match='2'>\n",
      "<re.Match object; span=(57, 58), match='3'>\n",
      "<re.Match object; span=(58, 59), match='4'>\n",
      "<re.Match object; span=(59, 60), match='5'>\n",
      "<re.Match object; span=(154, 155), match='3'>\n",
      "<re.Match object; span=(155, 156), match='2'>\n",
      "<re.Match object; span=(156, 157), match='1'>\n",
      "<re.Match object; span=(158, 159), match='5'>\n",
      "<re.Match object; span=(159, 160), match='5'>\n",
      "<re.Match object; span=(160, 161), match='5'>\n",
      "<re.Match object; span=(162, 163), match='4'>\n",
      "<re.Match object; span=(163, 164), match='3'>\n",
      "<re.Match object; span=(164, 165), match='2'>\n",
      "<re.Match object; span=(165, 166), match='1'>\n",
      "<re.Match object; span=(167, 168), match='1'>\n",
      "<re.Match object; span=(168, 169), match='2'>\n",
      "<re.Match object; span=(169, 170), match='3'>\n",
      "<re.Match object; span=(171, 172), match='5'>\n",
      "<re.Match object; span=(172, 173), match='5'>\n",
      "<re.Match object; span=(173, 174), match='5'>\n",
      "<re.Match object; span=(175, 176), match='1'>\n",
      "<re.Match object; span=(176, 177), match='2'>\n",
      "<re.Match object; span=(177, 178), match='3'>\n",
      "<re.Match object; span=(178, 179), match='4'>\n"
     ]
    }
   ],
   "source": [
    "pattern = re.compile(r'[1-5]')  #it will match all digit between 1-5\n",
    "matches = pattern.finditer(text_to_search)   #iterator\n",
    "\n",
    "for match in matches:\n",
    "    print(match)\n",
    "\n"
   ]
  },
  {
   "cell_type": "code",
   "execution_count": 72,
   "id": "5465019c",
   "metadata": {},
   "outputs": [
    {
     "name": "stdout",
     "output_type": "stream",
     "text": [
      "<re.Match object; span=(1, 2), match='a'>\n",
      "<re.Match object; span=(2, 3), match='b'>\n",
      "<re.Match object; span=(3, 4), match='c'>\n",
      "<re.Match object; span=(4, 5), match='d'>\n",
      "<re.Match object; span=(5, 6), match='e'>\n",
      "<re.Match object; span=(6, 7), match='f'>\n",
      "<re.Match object; span=(7, 8), match='g'>\n",
      "<re.Match object; span=(8, 9), match='h'>\n",
      "<re.Match object; span=(9, 10), match='i'>\n",
      "<re.Match object; span=(10, 11), match='j'>\n",
      "<re.Match object; span=(11, 12), match='k'>\n",
      "<re.Match object; span=(12, 13), match='l'>\n",
      "<re.Match object; span=(13, 14), match='m'>\n",
      "<re.Match object; span=(14, 15), match='n'>\n",
      "<re.Match object; span=(15, 16), match='o'>\n",
      "<re.Match object; span=(16, 17), match='p'>\n",
      "<re.Match object; span=(17, 18), match='q'>\n",
      "<re.Match object; span=(18, 19), match='r'>\n",
      "<re.Match object; span=(19, 20), match='s'>\n",
      "<re.Match object; span=(20, 21), match='t'>\n",
      "<re.Match object; span=(21, 22), match='u'>\n",
      "<re.Match object; span=(22, 23), match='v'>\n",
      "<re.Match object; span=(23, 24), match='w'>\n",
      "<re.Match object; span=(24, 25), match='x'>\n",
      "<re.Match object; span=(25, 26), match='y'>\n",
      "<re.Match object; span=(26, 27), match='z'>\n",
      "<re.Match object; span=(68, 69), match='a'>\n",
      "<re.Match object; span=(71, 72), match='a'>\n",
      "<re.Match object; span=(73, 74), match='a'>\n",
      "<re.Match object; span=(76, 77), match='e'>\n",
      "<re.Match object; span=(77, 78), match='t'>\n",
      "<re.Match object; span=(78, 79), match='a'>\n",
      "<re.Match object; span=(80, 81), match='h'>\n",
      "<re.Match object; span=(81, 82), match='a'>\n",
      "<re.Match object; span=(82, 83), match='r'>\n",
      "<re.Match object; span=(83, 84), match='a'>\n",
      "<re.Match object; span=(84, 85), match='c'>\n",
      "<re.Match object; span=(85, 86), match='t'>\n",
      "<re.Match object; span=(86, 87), match='e'>\n",
      "<re.Match object; span=(87, 88), match='r'>\n",
      "<re.Match object; span=(88, 89), match='s'>\n",
      "<re.Match object; span=(92, 93), match='e'>\n",
      "<re.Match object; span=(93, 94), match='e'>\n",
      "<re.Match object; span=(94, 95), match='d'>\n",
      "<re.Match object; span=(96, 97), match='t'>\n",
      "<re.Match object; span=(97, 98), match='o'>\n",
      "<re.Match object; span=(99, 100), match='b'>\n",
      "<re.Match object; span=(100, 101), match='e'>\n",
      "<re.Match object; span=(102, 103), match='e'>\n",
      "<re.Match object; span=(103, 104), match='s'>\n",
      "<re.Match object; span=(104, 105), match='c'>\n",
      "<re.Match object; span=(105, 106), match='a'>\n",
      "<re.Match object; span=(106, 107), match='p'>\n",
      "<re.Match object; span=(107, 108), match='e'>\n",
      "<re.Match object; span=(108, 109), match='d'>\n",
      "<re.Match object; span=(141, 142), match='c'>\n",
      "<re.Match object; span=(142, 143), match='o'>\n",
      "<re.Match object; span=(143, 144), match='r'>\n",
      "<re.Match object; span=(144, 145), match='e'>\n",
      "<re.Match object; span=(145, 146), match='y'>\n",
      "<re.Match object; span=(146, 147), match='m'>\n",
      "<re.Match object; span=(147, 148), match='s'>\n",
      "<re.Match object; span=(149, 150), match='c'>\n",
      "<re.Match object; span=(150, 151), match='o'>\n",
      "<re.Match object; span=(151, 152), match='m'>\n",
      "<re.Match object; span=(182, 183), match='r'>\n",
      "<re.Match object; span=(186, 187), match='c'>\n",
      "<re.Match object; span=(187, 188), match='h'>\n",
      "<re.Match object; span=(188, 189), match='a'>\n",
      "<re.Match object; span=(189, 190), match='f'>\n",
      "<re.Match object; span=(190, 191), match='e'>\n",
      "<re.Match object; span=(191, 192), match='r'>\n",
      "<re.Match object; span=(194, 195), match='r'>\n",
      "<re.Match object; span=(197, 198), match='m'>\n",
      "<re.Match object; span=(198, 199), match='i'>\n",
      "<re.Match object; span=(199, 200), match='t'>\n",
      "<re.Match object; span=(200, 201), match='h'>\n",
      "<re.Match object; span=(203, 204), match='s'>\n",
      "<re.Match object; span=(205, 206), match='d'>\n",
      "<re.Match object; span=(206, 207), match='a'>\n",
      "<re.Match object; span=(207, 208), match='v'>\n",
      "<re.Match object; span=(208, 209), match='i'>\n",
      "<re.Match object; span=(209, 210), match='s'>\n",
      "<re.Match object; span=(212, 213), match='r'>\n",
      "<re.Match object; span=(213, 214), match='s'>\n",
      "<re.Match object; span=(217, 218), match='o'>\n",
      "<re.Match object; span=(218, 219), match='b'>\n",
      "<re.Match object; span=(219, 220), match='i'>\n",
      "<re.Match object; span=(220, 221), match='n'>\n",
      "<re.Match object; span=(221, 222), match='s'>\n",
      "<re.Match object; span=(222, 223), match='o'>\n",
      "<re.Match object; span=(223, 224), match='n'>\n",
      "<re.Match object; span=(226, 227), match='r'>\n"
     ]
    }
   ],
   "source": [
    "pattern = re.compile(r'[a-z]')  #it will match all character between atoz\n",
    "matches = pattern.finditer(text_to_search)   #iterator\n",
    "\n",
    "for match in matches:\n",
    "    print(match)\n"
   ]
  },
  {
   "cell_type": "code",
   "execution_count": 73,
   "id": "a4fbbde8",
   "metadata": {},
   "outputs": [
    {
     "name": "stdout",
     "output_type": "stream",
     "text": [
      "<re.Match object; span=(1, 2), match='a'>\n",
      "<re.Match object; span=(2, 3), match='b'>\n",
      "<re.Match object; span=(3, 4), match='c'>\n",
      "<re.Match object; span=(4, 5), match='d'>\n",
      "<re.Match object; span=(5, 6), match='e'>\n",
      "<re.Match object; span=(6, 7), match='f'>\n",
      "<re.Match object; span=(7, 8), match='g'>\n",
      "<re.Match object; span=(8, 9), match='h'>\n",
      "<re.Match object; span=(9, 10), match='i'>\n",
      "<re.Match object; span=(10, 11), match='j'>\n",
      "<re.Match object; span=(11, 12), match='k'>\n",
      "<re.Match object; span=(12, 13), match='l'>\n",
      "<re.Match object; span=(13, 14), match='m'>\n",
      "<re.Match object; span=(14, 15), match='n'>\n",
      "<re.Match object; span=(15, 16), match='o'>\n",
      "<re.Match object; span=(16, 17), match='p'>\n",
      "<re.Match object; span=(17, 18), match='q'>\n",
      "<re.Match object; span=(18, 19), match='r'>\n",
      "<re.Match object; span=(19, 20), match='s'>\n",
      "<re.Match object; span=(20, 21), match='t'>\n",
      "<re.Match object; span=(21, 22), match='u'>\n",
      "<re.Match object; span=(22, 23), match='v'>\n",
      "<re.Match object; span=(23, 24), match='w'>\n",
      "<re.Match object; span=(24, 25), match='x'>\n",
      "<re.Match object; span=(25, 26), match='y'>\n",
      "<re.Match object; span=(26, 27), match='z'>\n",
      "<re.Match object; span=(28, 29), match='A'>\n",
      "<re.Match object; span=(29, 30), match='B'>\n",
      "<re.Match object; span=(30, 31), match='C'>\n",
      "<re.Match object; span=(31, 32), match='D'>\n",
      "<re.Match object; span=(32, 33), match='E'>\n",
      "<re.Match object; span=(33, 34), match='F'>\n",
      "<re.Match object; span=(34, 35), match='G'>\n",
      "<re.Match object; span=(35, 36), match='H'>\n",
      "<re.Match object; span=(36, 37), match='I'>\n",
      "<re.Match object; span=(37, 38), match='J'>\n",
      "<re.Match object; span=(38, 39), match='K'>\n",
      "<re.Match object; span=(39, 40), match='L'>\n",
      "<re.Match object; span=(40, 41), match='M'>\n",
      "<re.Match object; span=(41, 42), match='N'>\n",
      "<re.Match object; span=(42, 43), match='O'>\n",
      "<re.Match object; span=(43, 44), match='P'>\n",
      "<re.Match object; span=(44, 45), match='Q'>\n",
      "<re.Match object; span=(45, 46), match='R'>\n",
      "<re.Match object; span=(46, 47), match='S'>\n",
      "<re.Match object; span=(47, 48), match='T'>\n",
      "<re.Match object; span=(48, 49), match='U'>\n",
      "<re.Match object; span=(49, 50), match='V'>\n",
      "<re.Match object; span=(50, 51), match='W'>\n",
      "<re.Match object; span=(51, 52), match='X'>\n",
      "<re.Match object; span=(52, 53), match='Y'>\n",
      "<re.Match object; span=(53, 54), match='Z'>\n",
      "<re.Match object; span=(67, 68), match='H'>\n",
      "<re.Match object; span=(68, 69), match='a'>\n",
      "<re.Match object; span=(70, 71), match='H'>\n",
      "<re.Match object; span=(71, 72), match='a'>\n",
      "<re.Match object; span=(72, 73), match='H'>\n",
      "<re.Match object; span=(73, 74), match='a'>\n",
      "<re.Match object; span=(75, 76), match='M'>\n",
      "<re.Match object; span=(76, 77), match='e'>\n",
      "<re.Match object; span=(77, 78), match='t'>\n",
      "<re.Match object; span=(78, 79), match='a'>\n",
      "<re.Match object; span=(79, 80), match='C'>\n",
      "<re.Match object; span=(80, 81), match='h'>\n",
      "<re.Match object; span=(81, 82), match='a'>\n",
      "<re.Match object; span=(82, 83), match='r'>\n",
      "<re.Match object; span=(83, 84), match='a'>\n",
      "<re.Match object; span=(84, 85), match='c'>\n",
      "<re.Match object; span=(85, 86), match='t'>\n",
      "<re.Match object; span=(86, 87), match='e'>\n",
      "<re.Match object; span=(87, 88), match='r'>\n",
      "<re.Match object; span=(88, 89), match='s'>\n",
      "<re.Match object; span=(91, 92), match='N'>\n",
      "<re.Match object; span=(92, 93), match='e'>\n",
      "<re.Match object; span=(93, 94), match='e'>\n",
      "<re.Match object; span=(94, 95), match='d'>\n",
      "<re.Match object; span=(96, 97), match='t'>\n",
      "<re.Match object; span=(97, 98), match='o'>\n",
      "<re.Match object; span=(99, 100), match='b'>\n",
      "<re.Match object; span=(100, 101), match='e'>\n",
      "<re.Match object; span=(102, 103), match='e'>\n",
      "<re.Match object; span=(103, 104), match='s'>\n",
      "<re.Match object; span=(104, 105), match='c'>\n",
      "<re.Match object; span=(105, 106), match='a'>\n",
      "<re.Match object; span=(106, 107), match='p'>\n",
      "<re.Match object; span=(107, 108), match='e'>\n",
      "<re.Match object; span=(108, 109), match='d'>\n",
      "<re.Match object; span=(141, 142), match='c'>\n",
      "<re.Match object; span=(142, 143), match='o'>\n",
      "<re.Match object; span=(143, 144), match='r'>\n",
      "<re.Match object; span=(144, 145), match='e'>\n",
      "<re.Match object; span=(145, 146), match='y'>\n",
      "<re.Match object; span=(146, 147), match='m'>\n",
      "<re.Match object; span=(147, 148), match='s'>\n",
      "<re.Match object; span=(149, 150), match='c'>\n",
      "<re.Match object; span=(150, 151), match='o'>\n",
      "<re.Match object; span=(151, 152), match='m'>\n",
      "<re.Match object; span=(181, 182), match='M'>\n",
      "<re.Match object; span=(182, 183), match='r'>\n",
      "<re.Match object; span=(185, 186), match='S'>\n",
      "<re.Match object; span=(186, 187), match='c'>\n",
      "<re.Match object; span=(187, 188), match='h'>\n",
      "<re.Match object; span=(188, 189), match='a'>\n",
      "<re.Match object; span=(189, 190), match='f'>\n",
      "<re.Match object; span=(190, 191), match='e'>\n",
      "<re.Match object; span=(191, 192), match='r'>\n",
      "<re.Match object; span=(193, 194), match='M'>\n",
      "<re.Match object; span=(194, 195), match='r'>\n",
      "<re.Match object; span=(196, 197), match='S'>\n",
      "<re.Match object; span=(197, 198), match='m'>\n",
      "<re.Match object; span=(198, 199), match='i'>\n",
      "<re.Match object; span=(199, 200), match='t'>\n",
      "<re.Match object; span=(200, 201), match='h'>\n",
      "<re.Match object; span=(202, 203), match='M'>\n",
      "<re.Match object; span=(203, 204), match='s'>\n",
      "<re.Match object; span=(205, 206), match='d'>\n",
      "<re.Match object; span=(206, 207), match='a'>\n",
      "<re.Match object; span=(207, 208), match='v'>\n",
      "<re.Match object; span=(208, 209), match='i'>\n",
      "<re.Match object; span=(209, 210), match='s'>\n",
      "<re.Match object; span=(211, 212), match='M'>\n",
      "<re.Match object; span=(212, 213), match='r'>\n",
      "<re.Match object; span=(213, 214), match='s'>\n",
      "<re.Match object; span=(216, 217), match='R'>\n",
      "<re.Match object; span=(217, 218), match='o'>\n",
      "<re.Match object; span=(218, 219), match='b'>\n",
      "<re.Match object; span=(219, 220), match='i'>\n",
      "<re.Match object; span=(220, 221), match='n'>\n",
      "<re.Match object; span=(221, 222), match='s'>\n",
      "<re.Match object; span=(222, 223), match='o'>\n",
      "<re.Match object; span=(223, 224), match='n'>\n",
      "<re.Match object; span=(225, 226), match='M'>\n",
      "<re.Match object; span=(226, 227), match='r'>\n",
      "<re.Match object; span=(229, 230), match='T'>\n"
     ]
    }
   ],
   "source": [
    "pattern = re.compile(r'[a-zA-Z]')  #it will match all character which is not aAtozZ\n",
    "matches = pattern.finditer(text_to_search)   #iterator\n",
    "\n",
    "for match in matches:\n",
    "    print(match)\n"
   ]
  },
  {
   "cell_type": "code",
   "execution_count": 74,
   "id": "7118175a",
   "metadata": {},
   "outputs": [
    {
     "name": "stdout",
     "output_type": "stream",
     "text": [
      "<re.Match object; span=(0, 1), match='\\n'>\n",
      "<re.Match object; span=(27, 28), match='\\n'>\n",
      "<re.Match object; span=(54, 55), match='\\n'>\n",
      "<re.Match object; span=(55, 56), match='1'>\n",
      "<re.Match object; span=(56, 57), match='2'>\n",
      "<re.Match object; span=(57, 58), match='3'>\n",
      "<re.Match object; span=(58, 59), match='4'>\n",
      "<re.Match object; span=(59, 60), match='5'>\n",
      "<re.Match object; span=(60, 61), match='6'>\n",
      "<re.Match object; span=(61, 62), match='7'>\n",
      "<re.Match object; span=(62, 63), match='8'>\n",
      "<re.Match object; span=(63, 64), match='9'>\n",
      "<re.Match object; span=(64, 65), match='0'>\n",
      "<re.Match object; span=(65, 66), match='\\n'>\n",
      "<re.Match object; span=(66, 67), match='\\n'>\n",
      "<re.Match object; span=(69, 70), match=' '>\n",
      "<re.Match object; span=(74, 75), match='\\n'>\n",
      "<re.Match object; span=(89, 90), match=' '>\n",
      "<re.Match object; span=(90, 91), match='('>\n",
      "<re.Match object; span=(95, 96), match=' '>\n",
      "<re.Match object; span=(98, 99), match=' '>\n",
      "<re.Match object; span=(101, 102), match=' '>\n",
      "<re.Match object; span=(109, 110), match=')'>\n",
      "<re.Match object; span=(110, 111), match=':'>\n",
      "<re.Match object; span=(111, 112), match='\\n'>\n",
      "<re.Match object; span=(112, 113), match='.'>\n",
      "<re.Match object; span=(113, 114), match=' '>\n",
      "<re.Match object; span=(114, 115), match='^'>\n",
      "<re.Match object; span=(115, 116), match=' '>\n",
      "<re.Match object; span=(116, 117), match='$'>\n",
      "<re.Match object; span=(117, 118), match=' '>\n",
      "<re.Match object; span=(118, 119), match='*'>\n",
      "<re.Match object; span=(119, 120), match=' '>\n",
      "<re.Match object; span=(120, 121), match='+'>\n",
      "<re.Match object; span=(121, 122), match=' '>\n",
      "<re.Match object; span=(122, 123), match='?'>\n",
      "<re.Match object; span=(123, 124), match=' '>\n",
      "<re.Match object; span=(124, 125), match='{'>\n",
      "<re.Match object; span=(125, 126), match=' '>\n",
      "<re.Match object; span=(126, 127), match='}'>\n",
      "<re.Match object; span=(127, 128), match=' '>\n",
      "<re.Match object; span=(128, 129), match='['>\n",
      "<re.Match object; span=(129, 130), match=' '>\n",
      "<re.Match object; span=(130, 131), match=']'>\n",
      "<re.Match object; span=(131, 132), match=' '>\n",
      "<re.Match object; span=(132, 133), match='\\\\'>\n",
      "<re.Match object; span=(133, 134), match=' '>\n",
      "<re.Match object; span=(134, 135), match='|'>\n",
      "<re.Match object; span=(135, 136), match=' '>\n",
      "<re.Match object; span=(136, 137), match='('>\n",
      "<re.Match object; span=(137, 138), match=' '>\n",
      "<re.Match object; span=(138, 139), match=')'>\n",
      "<re.Match object; span=(139, 140), match='\\n'>\n",
      "<re.Match object; span=(140, 141), match='\\n'>\n",
      "<re.Match object; span=(148, 149), match='.'>\n",
      "<re.Match object; span=(152, 153), match='\\n'>\n",
      "<re.Match object; span=(153, 154), match='\\n'>\n",
      "<re.Match object; span=(154, 155), match='3'>\n",
      "<re.Match object; span=(155, 156), match='2'>\n",
      "<re.Match object; span=(156, 157), match='1'>\n",
      "<re.Match object; span=(157, 158), match='-'>\n",
      "<re.Match object; span=(158, 159), match='5'>\n",
      "<re.Match object; span=(159, 160), match='5'>\n",
      "<re.Match object; span=(160, 161), match='5'>\n",
      "<re.Match object; span=(161, 162), match='-'>\n",
      "<re.Match object; span=(162, 163), match='4'>\n",
      "<re.Match object; span=(163, 164), match='3'>\n",
      "<re.Match object; span=(164, 165), match='2'>\n",
      "<re.Match object; span=(165, 166), match='1'>\n",
      "<re.Match object; span=(166, 167), match='\\n'>\n",
      "<re.Match object; span=(167, 168), match='1'>\n",
      "<re.Match object; span=(168, 169), match='2'>\n",
      "<re.Match object; span=(169, 170), match='3'>\n",
      "<re.Match object; span=(170, 171), match='.'>\n",
      "<re.Match object; span=(171, 172), match='5'>\n",
      "<re.Match object; span=(172, 173), match='5'>\n",
      "<re.Match object; span=(173, 174), match='5'>\n",
      "<re.Match object; span=(174, 175), match='.'>\n",
      "<re.Match object; span=(175, 176), match='1'>\n",
      "<re.Match object; span=(176, 177), match='2'>\n",
      "<re.Match object; span=(177, 178), match='3'>\n",
      "<re.Match object; span=(178, 179), match='4'>\n",
      "<re.Match object; span=(179, 180), match='\\n'>\n",
      "<re.Match object; span=(180, 181), match='\\n'>\n",
      "<re.Match object; span=(183, 184), match='.'>\n",
      "<re.Match object; span=(184, 185), match=' '>\n",
      "<re.Match object; span=(192, 193), match='\\n'>\n",
      "<re.Match object; span=(195, 196), match=' '>\n",
      "<re.Match object; span=(201, 202), match='\\n'>\n",
      "<re.Match object; span=(204, 205), match=' '>\n",
      "<re.Match object; span=(210, 211), match='\\n'>\n",
      "<re.Match object; span=(214, 215), match='.'>\n",
      "<re.Match object; span=(215, 216), match=' '>\n",
      "<re.Match object; span=(224, 225), match='\\n'>\n",
      "<re.Match object; span=(227, 228), match='.'>\n",
      "<re.Match object; span=(228, 229), match=' '>\n",
      "<re.Match object; span=(230, 231), match='\\n'>\n"
     ]
    }
   ],
   "source": [
    "pattern = re.compile(r'[^a-zA-Z]')  #it will match all character which is not starting with atoz or AtoZ\n",
    "matches = pattern.finditer(text_to_search)   #iterator\n",
    "\n",
    "for match in matches:\n",
    "    print(match)\n"
   ]
  },
  {
   "cell_type": "code",
   "execution_count": 78,
   "id": "f664330f",
   "metadata": {},
   "outputs": [
    {
     "name": "stdout",
     "output_type": "stream",
     "text": [
      "<re.Match object; span=(287, 290), match='cat'>\n",
      "<re.Match object; span=(296, 299), match='mat'>\n",
      "<re.Match object; span=(300, 303), match='pat'>\n"
     ]
    }
   ],
   "source": [
    "pattern = re.compile(r'[^b]at')  #it will match all character which do not have b as starting character\n",
    "matches = pattern.finditer(text_to_search)   #iterator\n",
    "\n",
    "for match in matches:\n",
    "    print(match)\n"
   ]
  },
  {
   "cell_type": "code",
   "execution_count": 79,
   "id": "59623cf9",
   "metadata": {},
   "outputs": [
    {
     "name": "stdout",
     "output_type": "stream",
     "text": [
      "<re.Match object; span=(154, 166), match='321-555-4321'>\n",
      "<re.Match object; span=(167, 179), match='123.555.1234'>\n",
      "<re.Match object; span=(180, 192), match='321*555*4321'>\n",
      "<re.Match object; span=(208, 220), match='800-555-4321'>\n",
      "<re.Match object; span=(221, 233), match='900-555-1234'>\n"
     ]
    }
   ],
   "source": [
    "pattern = re.compile(r'\\d\\d\\d.\\d\\d\\d.\\d\\d\\d\\d')  #it will match all digit between 0to9\n",
    "matches = pattern.finditer(text_to_search)   #iterator\n",
    "\n",
    "for match in matches:\n",
    "    print(match)"
   ]
  },
  {
   "cell_type": "code",
   "execution_count": 80,
   "id": "c51076e9",
   "metadata": {},
   "outputs": [],
   "source": [
    "# .-->Any character except new line\n",
    "# \\d-->Digit 0-9\n",
    "# \\D --> not a digit(0-9)\n",
    "# \\w-->word character (a-z,A-Z,0-9,_)\n",
    "# \\W-->not a word character\n",
    "# \\s-->whitespace(apace,tab,newline)\n",
    "# \\S-->not whitespace (apace,tab,newline)\n",
    "# \\b-->word boundary\n",
    "# \\B-->not a word boundary\n",
    "# ^-->Beginning of a string\n",
    "# $-->End of a string\n",
    "# []-->matches characters in brackets\n",
    "# [^ ]-->matches characters not in bracket\n",
    "# |--> either or\n",
    "# ( )-->Group\n",
    "# Quantifiers:\n",
    "#     *--> 0 or more\n",
    "#     +-->1 or more\n",
    "#     ?-->0 or one\n",
    "#     {3}-->Exact number\n",
    "#     {3,4}-->Range of Numbers(Minimum,Maximum)\n",
    "###Sample Regexs###\n",
    "# [a-zA-Z0-9_.+-]+@[a-zA-z0-9-]+\\.[]"
   ]
  },
  {
   "cell_type": "code",
   "execution_count": 81,
   "id": "b46bca5c",
   "metadata": {},
   "outputs": [
    {
     "name": "stdout",
     "output_type": "stream",
     "text": [
      "<re.Match object; span=(154, 166), match='321-555-4321'>\n",
      "<re.Match object; span=(167, 179), match='123.555.1234'>\n",
      "<re.Match object; span=(180, 192), match='321*555*4321'>\n",
      "<re.Match object; span=(208, 220), match='800-555-4321'>\n",
      "<re.Match object; span=(221, 233), match='900-555-1234'>\n"
     ]
    }
   ],
   "source": [
    "pattern = re.compile(r'\\d{3}.\\d{3}.\\d{4}')  #it will match all digit between 0to9\n",
    "matches = pattern.finditer(text_to_search)   #iterator\n",
    "\n",
    "for match in matches:\n",
    "    print(match)"
   ]
  },
  {
   "cell_type": "code",
   "execution_count": 82,
   "id": "dca792de",
   "metadata": {},
   "outputs": [
    {
     "name": "stdout",
     "output_type": "stream",
     "text": [
      "<re.Match object; span=(235, 238), match='Mr.'>\n",
      "<re.Match object; span=(279, 282), match='Mr.'>\n"
     ]
    }
   ],
   "source": [
    "pattern = re.compile(r'Mr\\.')  #it will match all digit between 0to9\n",
    "matches = pattern.finditer(text_to_search)   #iterator\n",
    "\n",
    "for match in matches:\n",
    "    print(match)"
   ]
  },
  {
   "cell_type": "code",
   "execution_count": 83,
   "id": "0902cea5",
   "metadata": {},
   "outputs": [
    {
     "name": "stdout",
     "output_type": "stream",
     "text": [
      "<re.Match object; span=(235, 238), match='Mr.'>\n",
      "<re.Match object; span=(247, 249), match='Mr'>\n",
      "<re.Match object; span=(265, 267), match='Mr'>\n",
      "<re.Match object; span=(279, 282), match='Mr.'>\n"
     ]
    }
   ],
   "source": [
    "pattern = re.compile(r'Mr\\.?')  #it will match all digit between 0to9\n",
    "matches = pattern.finditer(text_to_search)   #iterator\n",
    "\n",
    "for match in matches:\n",
    "    print(match)"
   ]
  },
  {
   "cell_type": "code",
   "execution_count": 84,
   "id": "8a187050",
   "metadata": {},
   "outputs": [
    {
     "name": "stdout",
     "output_type": "stream",
     "text": [
      "<re.Match object; span=(235, 240), match='Mr. S'>\n",
      "<re.Match object; span=(247, 251), match='Mr S'>\n",
      "<re.Match object; span=(279, 284), match='Mr. T'>\n"
     ]
    }
   ],
   "source": [
    "pattern = re.compile(r'Mr\\.?\\s[A-Z]')  #it will match all digit between 0to9\n",
    "matches = pattern.finditer(text_to_search)   #iterator\n",
    "\n",
    "for match in matches:\n",
    "    print(match)"
   ]
  },
  {
   "cell_type": "code",
   "execution_count": 86,
   "id": "25c268fe",
   "metadata": {},
   "outputs": [
    {
     "name": "stdout",
     "output_type": "stream",
     "text": [
      "<re.Match object; span=(235, 246), match='Mr. Schafer'>\n",
      "<re.Match object; span=(247, 255), match='Mr Smith'>\n"
     ]
    }
   ],
   "source": [
    "pattern = re.compile(r'Mr\\.?\\s[A-Z]\\w+')  #it will match all digit between 0to9\n",
    "matches = pattern.finditer(text_to_search)   #iterator\n",
    "\n",
    "for match in matches:\n",
    "    print(match)"
   ]
  },
  {
   "cell_type": "code",
   "execution_count": 87,
   "id": "3d876727",
   "metadata": {},
   "outputs": [
    {
     "name": "stdout",
     "output_type": "stream",
     "text": [
      "<re.Match object; span=(235, 246), match='Mr. Schafer'>\n",
      "<re.Match object; span=(247, 255), match='Mr Smith'>\n",
      "<re.Match object; span=(279, 284), match='Mr. T'>\n"
     ]
    }
   ],
   "source": [
    "pattern = re.compile(r'Mr\\.?\\s[A-Z]\\w*')  #it will match all digit between 0to9\n",
    "matches = pattern.finditer(text_to_search)   #iterator\n",
    "\n",
    "for match in matches:\n",
    "    print(match)"
   ]
  },
  {
   "cell_type": "code",
   "execution_count": 88,
   "id": "596bf78c",
   "metadata": {},
   "outputs": [
    {
     "name": "stdout",
     "output_type": "stream",
     "text": [
      "<re.Match object; span=(235, 246), match='Mr. Schafer'>\n",
      "<re.Match object; span=(247, 255), match='Mr Smith'>\n",
      "<re.Match object; span=(265, 278), match='Mrs. Robinson'>\n",
      "<re.Match object; span=(279, 284), match='Mr. T'>\n"
     ]
    }
   ],
   "source": [
    "pattern = re.compile(r'M(r|s|rs)\\.?\\s[A-Z]\\w*')  #it will match all digit between 0to9\n",
    "matches = pattern.finditer(text_to_search)   #iterator\n",
    "\n",
    "for match in matches:\n",
    "    print(match)"
   ]
  },
  {
   "cell_type": "code",
   "execution_count": 89,
   "id": "5b7365bd",
   "metadata": {},
   "outputs": [
    {
     "name": "stdout",
     "output_type": "stream",
     "text": [
      "<re.Match object; span=(235, 246), match='Mr. Schafer'>\n",
      "<re.Match object; span=(247, 255), match='Mr Smith'>\n",
      "<re.Match object; span=(265, 278), match='Mrs. Robinson'>\n",
      "<re.Match object; span=(279, 284), match='Mr. T'>\n"
     ]
    }
   ],
   "source": [
    "pattern = re.compile(r'(Mr|Ms|Mrs)\\.?\\s[A-Z]\\w*')  #it will match all digit between 0to9\n",
    "matches = pattern.finditer(text_to_search)   #iterator\n",
    "\n",
    "for match in matches:\n",
    "    print(match)"
   ]
  },
  {
   "cell_type": "code",
   "execution_count": 93,
   "id": "e36ddf50",
   "metadata": {},
   "outputs": [],
   "source": [
    "import re"
   ]
  },
  {
   "cell_type": "code",
   "execution_count": 95,
   "id": "f4f17c43",
   "metadata": {},
   "outputs": [
    {
     "name": "stdout",
     "output_type": "stream",
     "text": [
      "<re.Match object; span=(0, 23), match='CoreyMScjafer@gmail.com'>\n"
     ]
    }
   ],
   "source": [
    "emails='''CoreyMScjafer@gmail.com\n",
    "corey.schafer@university.edu\n",
    "corey-321-schafer@my-work.net\n",
    "'''\n",
    "\n",
    "pattern = re.compile(r'[a-zA-Z]+@[a-zA-Z]+\\.com')\n",
    "\n",
    "matches = pattern.finditer(emails)\n",
    "\n",
    "for match in matches:\n",
    "    print(match)"
   ]
  },
  {
   "cell_type": "code",
   "execution_count": 98,
   "id": "c6a4f7b4",
   "metadata": {},
   "outputs": [
    {
     "name": "stdout",
     "output_type": "stream",
     "text": [
      "<re.Match object; span=(0, 23), match='CoreyMScjafer@gmail.com'>\n",
      "<re.Match object; span=(24, 52), match='corey.schafer@university.edu'>\n"
     ]
    }
   ],
   "source": [
    "pattern = re.compile(r'[a-zA-Z.]+@[a-zA-Z]+\\.(com|edu)')\n",
    "\n",
    "matches = pattern.finditer(emails)\n",
    "\n",
    "for match in matches:\n",
    "    print(match)"
   ]
  },
  {
   "cell_type": "code",
   "execution_count": 99,
   "id": "c92d5d7b",
   "metadata": {},
   "outputs": [
    {
     "name": "stdout",
     "output_type": "stream",
     "text": [
      "<re.Match object; span=(0, 23), match='CoreyMScjafer@gmail.com'>\n",
      "<re.Match object; span=(24, 52), match='corey.schafer@university.edu'>\n",
      "<re.Match object; span=(53, 82), match='corey-321-schafer@my-work.net'>\n"
     ]
    }
   ],
   "source": [
    "pattern = re.compile(r'[a-zA-Z0-9.-]+@[a-zA-Z-]+\\.(com|edu|net)')\n",
    "\n",
    "matches = pattern.finditer(emails)\n",
    "\n",
    "for match in matches:\n",
    "    print(match)"
   ]
  },
  {
   "cell_type": "code",
   "execution_count": 108,
   "id": "33db1754",
   "metadata": {},
   "outputs": [],
   "source": [
    "pattern = re.compile(r'[a-zA-Z0-9_.]+@[a-zA-Z0-9-]+\\.(a-zA-Z0-9-.)+')\n",
    "\n",
    "matches = pattern.finditer(emails)\n",
    "\n",
    "for match in matches:\n",
    "    print(match)"
   ]
  },
  {
   "cell_type": "code",
   "execution_count": 109,
   "id": "3185d6fc",
   "metadata": {},
   "outputs": [],
   "source": [
    "url='''\n",
    "https://www.google.com\n",
    "http://coreyms.com\n",
    "https://youtube.com\n",
    "https://www.nasa.gov\n",
    "'''"
   ]
  },
  {
   "cell_type": "code",
   "execution_count": 110,
   "id": "85d18a86",
   "metadata": {},
   "outputs": [
    {
     "name": "stdout",
     "output_type": "stream",
     "text": [
      "<re.Match object; span=(1, 23), match='https://www.google.com'>\n",
      "<re.Match object; span=(24, 42), match='http://coreyms.com'>\n",
      "<re.Match object; span=(43, 62), match='https://youtube.com'>\n",
      "<re.Match object; span=(63, 83), match='https://www.nasa.gov'>\n"
     ]
    }
   ],
   "source": [
    "pattern = re.compile(r'https?://(www\\.)?\\w+\\.\\w+')\n",
    "#? matches 0or1 which means it makes s as optional\n",
    "matches = pattern.finditer(url)\n",
    "\n",
    "for match in matches:\n",
    "    print(match)"
   ]
  },
  {
   "cell_type": "code",
   "execution_count": 111,
   "id": "4ceade9a",
   "metadata": {},
   "outputs": [
    {
     "name": "stdout",
     "output_type": "stream",
     "text": [
      "<re.Match object; span=(1, 23), match='https://www.google.com'>\n",
      "<re.Match object; span=(24, 42), match='http://coreyms.com'>\n",
      "<re.Match object; span=(43, 62), match='https://youtube.com'>\n",
      "<re.Match object; span=(63, 83), match='https://www.nasa.gov'>\n"
     ]
    }
   ],
   "source": [
    "pattern = re.compile(r'https?://(www\\.)?(\\w+)(\\.\\w+)')\n",
    "#? matches 0or1 which means it makes s as optional\n",
    "matches = pattern.finditer(url)\n",
    "\n",
    "for match in matches:\n",
    "    print(match)"
   ]
  },
  {
   "cell_type": "code",
   "execution_count": 112,
   "id": "22dbde0e",
   "metadata": {},
   "outputs": [
    {
     "name": "stdout",
     "output_type": "stream",
     "text": [
      "https://www.google.com\n",
      "http://coreyms.com\n",
      "https://youtube.com\n",
      "https://www.nasa.gov\n"
     ]
    }
   ],
   "source": [
    "pattern = re.compile(r'https?://(www\\.)?(\\w+)(\\.\\w+)')\n",
    "#? matches 0or1 which means it makes s as optional\n",
    "matches = pattern.finditer(url)\n",
    "\n",
    "for match in matches:\n",
    "    print(match.group(0))#entire link"
   ]
  },
  {
   "cell_type": "code",
   "execution_count": 113,
   "id": "1cdb4269",
   "metadata": {},
   "outputs": [
    {
     "name": "stdout",
     "output_type": "stream",
     "text": [
      "www.\n",
      "None\n",
      "None\n",
      "www.\n"
     ]
    }
   ],
   "source": [
    "pattern = re.compile(r'https?://(www\\.)?(\\w+)(\\.\\w+)')\n",
    "#? matches 0or1 which means it makes s as optional\n",
    "matches = pattern.finditer(url)\n",
    "\n",
    "for match in matches:\n",
    "    print(match.group(1))#optional www"
   ]
  },
  {
   "cell_type": "code",
   "execution_count": 114,
   "id": "7c1dd10e",
   "metadata": {},
   "outputs": [
    {
     "name": "stdout",
     "output_type": "stream",
     "text": [
      "google\n",
      "coreyms\n",
      "youtube\n",
      "nasa\n"
     ]
    }
   ],
   "source": [
    "pattern = re.compile(r'https?://(www\\.)?(\\w+)(\\.\\w+)')\n",
    "#? matches 0or1 which means it makes s as optional\n",
    "matches = pattern.finditer(url)\n",
    "\n",
    "for match in matches:\n",
    "    print(match.group(2))#domain name"
   ]
  },
  {
   "cell_type": "code",
   "execution_count": 115,
   "id": "67d38237",
   "metadata": {},
   "outputs": [
    {
     "name": "stdout",
     "output_type": "stream",
     "text": [
      ".com\n",
      ".com\n",
      ".com\n",
      ".gov\n"
     ]
    }
   ],
   "source": [
    "pattern = re.compile(r'https?://(www\\.)?(\\w+)(\\.\\w+)')\n",
    "#? matches 0or1 which means it makes s as optional\n",
    "matches = pattern.finditer(url)\n",
    "\n",
    "for match in matches:\n",
    "    print(match.group(3))  #top level domain"
   ]
  },
  {
   "cell_type": "code",
   "execution_count": 118,
   "id": "ed1fa6f7",
   "metadata": {},
   "outputs": [
    {
     "name": "stdout",
     "output_type": "stream",
     "text": [
      "\n",
      "google.com\n",
      "coreyms.com\n",
      "youtube.com\n",
      "nasa.gov\n",
      "\n"
     ]
    }
   ],
   "source": [
    "pattern = re.compile(r'https?://(www\\.)?(\\w+)(\\.\\w+)')\n",
    "#? matches 0or1 which means it makes s as optional\n",
    "# matches = pattern.finditer(url)\n",
    "\n",
    "# for match in matches:\n",
    "#     print(match.group(0))\n",
    "subbed_urls = pattern.sub(r'\\2\\3',url) #find a match from compile and then replace it from 2 and 3 domain name\n",
    "print(subbed_urls)"
   ]
  },
  {
   "cell_type": "code",
   "execution_count": 119,
   "id": "fd46b3ce",
   "metadata": {},
   "outputs": [
    {
     "name": "stdout",
     "output_type": "stream",
     "text": [
      "Mr\n",
      "Mr\n",
      "Mrs\n",
      "Mr\n"
     ]
    }
   ],
   "source": [
    "pattern = re.compile(r'(Mr|Ms|Mrs)\\.?\\s[A-Z]\\w*')  #it will match all digit between 0to9\n",
    "matches = pattern.findall(text_to_search)   #iterator\n",
    "#findall just matches the exact word where as finditer matches with extra infromation \n",
    "for match in matches:\n",
    "    print(match)"
   ]
  },
  {
   "cell_type": "code",
   "execution_count": 120,
   "id": "c79b930e",
   "metadata": {},
   "outputs": [
    {
     "name": "stdout",
     "output_type": "stream",
     "text": [
      "321-555-4321\n",
      "123.555.1234\n",
      "321*555*4321\n",
      "800-555-4321\n",
      "900-555-1234\n"
     ]
    }
   ],
   "source": [
    "pattern = re.compile(r'\\d{3}.\\d{3}.\\d{4}')  #it will match all digit between 0to9\n",
    "matches = pattern.findall(text_to_search)   #iterator\n",
    "#findall just matches the exact word where as finditer matches with extra infromation \n",
    "for match in matches:\n",
    "    print(match)"
   ]
  },
  {
   "cell_type": "code",
   "execution_count": 121,
   "id": "4eebde22",
   "metadata": {},
   "outputs": [
    {
     "name": "stdout",
     "output_type": "stream",
     "text": [
      "Start\n"
     ]
    }
   ],
   "source": [
    "pattern = re.compile(r'Start')  #it will match all digit between 0to9\n",
    "matches = pattern.findall(sentence)   #iterator\n",
    "#findall just matches the exact word where as finditer matches with extra infromation \n",
    "for match in matches:\n",
    "    print(match)"
   ]
  },
  {
   "cell_type": "code",
   "execution_count": 126,
   "id": "6ab6d2f4",
   "metadata": {},
   "outputs": [
    {
     "name": "stdout",
     "output_type": "stream",
     "text": [
      "<re.Match object; span=(0, 5), match='Start'>\n"
     ]
    }
   ],
   "source": [
    "pattern = re.compile(r'Start')  #it will match all digit between 0to9\n",
    "matches = pattern.match(sentence)   #it print first match it finds\n",
    "#findall just matches the exact word where as finditer matches with extra infromation \n",
    "print(matches)"
   ]
  },
  {
   "cell_type": "code",
   "execution_count": 128,
   "id": "43c7961d",
   "metadata": {},
   "outputs": [
    {
     "name": "stdout",
     "output_type": "stream",
     "text": [
      "<re.Match object; span=(14, 22), match='sentence'>\n"
     ]
    }
   ],
   "source": [
    "pattern = re.compile(r'sentence')  #it will match all digit between 0to9\n",
    "matches = pattern.search(sentence)    #it print first match it finds\n",
    "#findall just matches the exact word where as finditer matches with extra infromation \n",
    "print(matches)"
   ]
  },
  {
   "cell_type": "code",
   "execution_count": 129,
   "id": "27cf92ed",
   "metadata": {},
   "outputs": [
    {
     "name": "stdout",
     "output_type": "stream",
     "text": [
      "None\n"
     ]
    }
   ],
   "source": [
    "pattern = re.compile(r'dne')  #it will match all digit between 0to9\n",
    "matches = pattern.search(sentence)    #it print first match it finds\n",
    "#findall just matches the exact word where as finditer matches with extra infromation \n",
    "print(matches)"
   ]
  },
  {
   "cell_type": "code",
   "execution_count": 130,
   "id": "29026126",
   "metadata": {},
   "outputs": [
    {
     "name": "stdout",
     "output_type": "stream",
     "text": [
      "<re.Match object; span=(0, 5), match='Start'>\n"
     ]
    }
   ],
   "source": [
    "pattern = re.compile(r'start', re.IGNORECASE)  #it will match all digit between 0to9\n",
    "matches = pattern.search(sentence)    #it print first match it finds\n",
    "#findall just matches the exact word where as finditer matches with extra infromation \n",
    "print(matches)"
   ]
  },
  {
   "cell_type": "code",
   "execution_count": 131,
   "id": "712a29d5",
   "metadata": {},
   "outputs": [
    {
     "name": "stdout",
     "output_type": "stream",
     "text": [
      "<re.Match object; span=(0, 5), match='Start'>\n"
     ]
    }
   ],
   "source": [
    "pattern = re.compile(r'start', re.I)  #it will match all digit between 0to9\n",
    "matches = pattern.search(sentence)    #it print first match it finds\n",
    "#findall just matches the exact word where as finditer matches with extra infromation \n",
    "print(matches)"
   ]
  },
  {
   "cell_type": "code",
   "execution_count": null,
   "id": "3d5c3869",
   "metadata": {},
   "outputs": [],
   "source": [
    "# ignore flag\n",
    "# multiline flag \n",
    "# verbose flag\n"
   ]
  }
 ],
 "metadata": {
  "kernelspec": {
   "display_name": "Python 3 (ipykernel)",
   "language": "python",
   "name": "python3"
  },
  "language_info": {
   "codemirror_mode": {
    "name": "ipython",
    "version": 3
   },
   "file_extension": ".py",
   "mimetype": "text/x-python",
   "name": "python",
   "nbconvert_exporter": "python",
   "pygments_lexer": "ipython3",
   "version": "3.9.12"
  }
 },
 "nbformat": 4,
 "nbformat_minor": 5
}
